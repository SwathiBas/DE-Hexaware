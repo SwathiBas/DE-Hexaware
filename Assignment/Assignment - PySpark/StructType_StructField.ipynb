{
  "nbformat": 4,
  "nbformat_minor": 0,
  "metadata": {
    "colab": {
      "provenance": []
    },
    "kernelspec": {
      "name": "python3",
      "display_name": "Python 3"
    },
    "language_info": {
      "name": "python"
    }
  },
  "cells": [
    {
      "cell_type": "code",
      "execution_count": null,
      "metadata": {
        "colab": {
          "base_uri": "https://localhost:8080/"
        },
        "id": "z5TlYzSJgdPQ",
        "outputId": "0d932ea1-5572-42cc-dc91-16ff8f9e8209"
      },
      "outputs": [
        {
          "output_type": "stream",
          "name": "stdout",
          "text": [
            "+---------------+----------+----------+\n",
            "|city           |dates     |population|\n",
            "+---------------+----------+----------+\n",
            "|Caracas        |1991-02-25|37800000  |\n",
            "|Ccs            |1998-05-10|19795791  |\n",
            "|   São Paulo   |1993/03/15|12341418  |\n",
            "|~Madrid        |1992/07/17|6489162   |\n",
            "+---------------+----------+----------+\n",
            "\n"
          ]
        }
      ],
      "source": [
        "import pyspark\n",
        "from pyspark.sql import SparkSession\n",
        "from pyspark.sql.functions import col, to_timestamp\n",
        "from pyspark.sql.types import StructType, StructField, StringType, IntegerType, DateType\n",
        "\n",
        "spark = SparkSession.builder.appName(\"Schema\").getOrCreate()\n",
        "\n",
        "schema = StructType([\n",
        "    StructField(\"city\", StringType(), True),\n",
        "    StructField(\"dates\", StringType(), True),\n",
        "    StructField(\"population\", IntegerType(), True)\n",
        "])\n",
        "\n",
        "dates = [\"1991-02-25\",\"1998-05-10\", \"1993/03/15\", \"1992/07/17\"]\n",
        "cities =  ['Caracas', 'Ccs', '   São Paulo   ', '~Madrid']\n",
        "population = [37800000, 19795791, 12341418, 6489162]\n",
        "\n",
        "df = spark.createDataFrame(list(zip(cities, dates, population)),\n",
        "                           schema = schema)\n",
        "\n",
        "df.show(truncate = False)"
      ]
    }
  ]
}