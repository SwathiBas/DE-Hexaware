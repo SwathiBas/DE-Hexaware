{
  "nbformat": 4,
  "nbformat_minor": 0,
  "metadata": {
    "colab": {
      "provenance": []
    },
    "kernelspec": {
      "name": "python3",
      "display_name": "Python 3"
    },
    "language_info": {
      "name": "python"
    }
  },
  "cells": [
    {
      "cell_type": "code",
      "execution_count": null,
      "metadata": {
        "colab": {
          "base_uri": "https://localhost:8080/"
        },
        "id": "Rys8D5OYdHod",
        "outputId": "7ae35acb-6c39-430e-9551-8ef1cab88c8b"
      },
      "outputs": [
        {
          "output_type": "stream",
          "name": "stdout",
          "text": [
            "3\n"
          ]
        }
      ],
      "source": [
        "import pyspark\n",
        "from pyspark.sql import SparkSession\n",
        "\n",
        "spark = SparkSession.builder.appName(\"Spark Repartition\").getOrCreate()\n",
        "\n",
        "df = spark.read.option(\"header\", True)\\\n",
        ".csv(\"/content/simple-zipcodes.csv\")\n",
        "\n",
        "newDF = df.repartition(3)\n",
        "print(newDF.rdd.getNumPartitions())\n",
        "newDF.write.option(\"header\", True).mode(\"overwrite\")\\\n",
        ".csv(\"/tmp/zipcodes-state\")\n",
        "\n",
        "df2 = df.repartition(4, \"state\")\n",
        "df2.write.option(\"header\", True).mode(\"overwrite\")\\\n",
        ".csv(\"/tmp/zipcodes-state-3states\")\n",
        "\n",
        "df3 = df.repartition(\"state\")\n",
        "df3.write.option(\"header\", True).mode(\"overwrite\")\\\n",
        ".csv(\"/tmp/zipcodes-state-allstates\")"
      ]
    }
  ]
}