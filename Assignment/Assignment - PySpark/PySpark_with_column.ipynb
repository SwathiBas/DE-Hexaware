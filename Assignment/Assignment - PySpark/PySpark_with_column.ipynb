{
  "nbformat": 4,
  "nbformat_minor": 0,
  "metadata": {
    "colab": {
      "provenance": []
    },
    "kernelspec": {
      "name": "python3",
      "display_name": "Python 3"
    },
    "language_info": {
      "name": "python"
    }
  },
  "cells": [
    {
      "cell_type": "code",
      "execution_count": null,
      "metadata": {
        "colab": {
          "base_uri": "https://localhost:8080/"
        },
        "id": "KoqoK7Asl-GB",
        "outputId": "fc9ead83-bda2-4765-b5b7-fb040bdb648b"
      },
      "outputs": [
        {
          "output_type": "stream",
          "name": "stdout",
          "text": [
            "root\n",
            " |-- First Name: string (nullable = true)\n",
            " |-- Middle Name: string (nullable = true)\n",
            " |-- Last Name: string (nullable = true)\n",
            " |-- DOB: string (nullable = true)\n",
            " |-- Gender: string (nullable = true)\n",
            " |-- Salary: long (nullable = true)\n",
            "\n",
            "+----------+-----------+---------+----------+------+------+\n",
            "|First Name|Middle Name|Last Name|DOB       |Gender|Salary|\n",
            "+----------+-----------+---------+----------+------+------+\n",
            "|James     |           |Smith    |1991-04-01|M     |3000  |\n",
            "|Michael   |Rose       |         |2000-05-19|M     |4000  |\n",
            "|Robert    |           |Williams |1978-09-05|M     |4000  |\n",
            "|Maria     |Anne       |Jones    |1967-12-01|F     |4000  |\n",
            "|Jen       |Mary       |Brown    |1980-02-17|F     |-1    |\n",
            "+----------+-----------+---------+----------+------+------+\n",
            "\n"
          ]
        }
      ],
      "source": [
        "import pyspark\n",
        "from pyspark.sql import SparkSession\n",
        "from pyspark.sql.functions import col, lit\n",
        "from pyspark.sql.types import StructType, StructField, StringType, IntegerType\n",
        "\n",
        "spark = SparkSession.builder.appName(\"PySpark_With_Column\").getOrCreate()\n",
        "\n",
        "data = [('James','','Smith','1991-04-01','M',3000),\n",
        "  ('Michael','Rose','','2000-05-19','M',4000),\n",
        "  ('Robert','','Williams','1978-09-05','M',4000),\n",
        "  ('Maria','Anne','Jones','1967-12-01','F',4000),\n",
        "  ('Jen','Mary','Brown','1980-02-17','F',-1)\n",
        "]\n",
        "\n",
        "columns = [\"First Name\", \"Middle Name\", \"Last Name\", \"DOB\", \"Gender\", \"Salary\"]\n",
        "df = spark.createDataFrame(data = data, schema = columns)\n",
        "df.printSchema()\n",
        "df.show(truncate = False)\n",
        "\n"
      ]
    },
    {
      "cell_type": "code",
      "source": [
        "# Casting to Integer\n",
        "df2 = df.withColumn(\"salary\",col(\"Salary\").cast(\"Float\"))\n",
        "df2.printSchema()\n",
        "df2.show(truncate = False)"
      ],
      "metadata": {
        "colab": {
          "base_uri": "https://localhost:8080/"
        },
        "id": "gaPJ21pLnPqi",
        "outputId": "20cdfe64-34bf-44b8-b8c8-79fb01fe3f3f"
      },
      "execution_count": null,
      "outputs": [
        {
          "output_type": "stream",
          "name": "stdout",
          "text": [
            "root\n",
            " |-- First Name: string (nullable = true)\n",
            " |-- Middle Name: string (nullable = true)\n",
            " |-- Last Name: string (nullable = true)\n",
            " |-- DOB: string (nullable = true)\n",
            " |-- Gender: string (nullable = true)\n",
            " |-- salary: float (nullable = true)\n",
            "\n",
            "+----------+-----------+---------+----------+------+------+\n",
            "|First Name|Middle Name|Last Name|DOB       |Gender|salary|\n",
            "+----------+-----------+---------+----------+------+------+\n",
            "|James     |           |Smith    |1991-04-01|M     |3000.0|\n",
            "|Michael   |Rose       |         |2000-05-19|M     |4000.0|\n",
            "|Robert    |           |Williams |1978-09-05|M     |4000.0|\n",
            "|Maria     |Anne       |Jones    |1967-12-01|F     |4000.0|\n",
            "|Jen       |Mary       |Brown    |1980-02-17|F     |-1.0  |\n",
            "+----------+-----------+---------+----------+------+------+\n",
            "\n"
          ]
        }
      ]
    },
    {
      "cell_type": "code",
      "source": [
        "df3 = df.withColumn(\"salary\",col(\"Salary\") * 100)\n",
        "df3.printSchema()\n",
        "df3.show(truncate = False)"
      ],
      "metadata": {
        "colab": {
          "base_uri": "https://localhost:8080/"
        },
        "id": "uvy-O6I3neiV",
        "outputId": "6bc6d308-a43b-436c-c690-9a3d5cd8a0f3"
      },
      "execution_count": null,
      "outputs": [
        {
          "output_type": "stream",
          "name": "stdout",
          "text": [
            "root\n",
            " |-- First Name: string (nullable = true)\n",
            " |-- Middle Name: string (nullable = true)\n",
            " |-- Last Name: string (nullable = true)\n",
            " |-- DOB: string (nullable = true)\n",
            " |-- Gender: string (nullable = true)\n",
            " |-- salary: long (nullable = true)\n",
            "\n",
            "+----------+-----------+---------+----------+------+------+\n",
            "|First Name|Middle Name|Last Name|DOB       |Gender|salary|\n",
            "+----------+-----------+---------+----------+------+------+\n",
            "|James     |           |Smith    |1991-04-01|M     |300000|\n",
            "|Michael   |Rose       |         |2000-05-19|M     |400000|\n",
            "|Robert    |           |Williams |1978-09-05|M     |400000|\n",
            "|Maria     |Anne       |Jones    |1967-12-01|F     |400000|\n",
            "|Jen       |Mary       |Brown    |1980-02-17|F     |-100  |\n",
            "+----------+-----------+---------+----------+------+------+\n",
            "\n"
          ]
        }
      ]
    },
    {
      "cell_type": "code",
      "source": [
        "df4 = df.withColumn(\"Copied Column\", col(\"Salary\")* -1)\n",
        "df4.printSchema()\n",
        "df4.show()"
      ],
      "metadata": {
        "colab": {
          "base_uri": "https://localhost:8080/"
        },
        "id": "y-jFxv8fnssO",
        "outputId": "7bf10a95-9e4c-48bb-82b8-cfbbee263ae7"
      },
      "execution_count": null,
      "outputs": [
        {
          "output_type": "stream",
          "name": "stdout",
          "text": [
            "root\n",
            " |-- First Name: string (nullable = true)\n",
            " |-- Middle Name: string (nullable = true)\n",
            " |-- Last Name: string (nullable = true)\n",
            " |-- DOB: string (nullable = true)\n",
            " |-- Gender: string (nullable = true)\n",
            " |-- Salary: long (nullable = true)\n",
            " |-- Copied Column: long (nullable = true)\n",
            "\n",
            "+----------+-----------+---------+----------+------+------+-------------+\n",
            "|First Name|Middle Name|Last Name|       DOB|Gender|Salary|Copied Column|\n",
            "+----------+-----------+---------+----------+------+------+-------------+\n",
            "|     James|           |    Smith|1991-04-01|     M|  3000|        -3000|\n",
            "|   Michael|       Rose|         |2000-05-19|     M|  4000|        -4000|\n",
            "|    Robert|           | Williams|1978-09-05|     M|  4000|        -4000|\n",
            "|     Maria|       Anne|    Jones|1967-12-01|     F|  4000|        -4000|\n",
            "|       Jen|       Mary|    Brown|1980-02-17|     F|    -1|            1|\n",
            "+----------+-----------+---------+----------+------+------+-------------+\n",
            "\n"
          ]
        }
      ]
    },
    {
      "cell_type": "code",
      "source": [
        "df5 = df.withColumn(\"Country\", lit(\"USA\"))\n",
        "df5.printSchema()\n",
        "df5.show()"
      ],
      "metadata": {
        "colab": {
          "base_uri": "https://localhost:8080/"
        },
        "id": "b7sRvVM_n5Pl",
        "outputId": "17da6033-3e18-4b28-8f05-dff69ebb9652"
      },
      "execution_count": null,
      "outputs": [
        {
          "output_type": "stream",
          "name": "stdout",
          "text": [
            "root\n",
            " |-- First Name: string (nullable = true)\n",
            " |-- Middle Name: string (nullable = true)\n",
            " |-- Last Name: string (nullable = true)\n",
            " |-- DOB: string (nullable = true)\n",
            " |-- Gender: string (nullable = true)\n",
            " |-- Salary: long (nullable = true)\n",
            " |-- Country: string (nullable = false)\n",
            "\n",
            "+----------+-----------+---------+----------+------+------+-------+\n",
            "|First Name|Middle Name|Last Name|       DOB|Gender|Salary|Country|\n",
            "+----------+-----------+---------+----------+------+------+-------+\n",
            "|     James|           |    Smith|1991-04-01|     M|  3000|    USA|\n",
            "|   Michael|       Rose|         |2000-05-19|     M|  4000|    USA|\n",
            "|    Robert|           | Williams|1978-09-05|     M|  4000|    USA|\n",
            "|     Maria|       Anne|    Jones|1967-12-01|     F|  4000|    USA|\n",
            "|       Jen|       Mary|    Brown|1980-02-17|     F|    -1|    USA|\n",
            "+----------+-----------+---------+----------+------+------+-------+\n",
            "\n"
          ]
        }
      ]
    },
    {
      "cell_type": "code",
      "source": [
        "df6 = df.withColumn(\"Country\", lit(\"USA\"))\\\n",
        ".withColumn(\"anotherColumn\", lit(\"anotherValue\"))\n",
        "df6.printSchema()"
      ],
      "metadata": {
        "colab": {
          "base_uri": "https://localhost:8080/"
        },
        "id": "nQ-y_oX7wJ5r",
        "outputId": "0c9d742e-805b-4ed7-8b73-4b6e1613af92"
      },
      "execution_count": null,
      "outputs": [
        {
          "output_type": "stream",
          "name": "stdout",
          "text": [
            "root\n",
            " |-- First Name: string (nullable = true)\n",
            " |-- Middle Name: string (nullable = true)\n",
            " |-- Last Name: string (nullable = true)\n",
            " |-- DOB: string (nullable = true)\n",
            " |-- Gender: string (nullable = true)\n",
            " |-- Salary: long (nullable = true)\n",
            " |-- Country: string (nullable = false)\n",
            " |-- anotherColumn: string (nullable = false)\n",
            "\n"
          ]
        }
      ]
    },
    {
      "cell_type": "code",
      "source": [
        "df.withColumnRenamed(\"gender\", \"sex\")\\\n",
        ".show(truncate = False)"
      ],
      "metadata": {
        "colab": {
          "base_uri": "https://localhost:8080/"
        },
        "id": "2QNegDvMxAOa",
        "outputId": "eb65927e-6fec-439a-f2a6-7487cacd8b4b"
      },
      "execution_count": null,
      "outputs": [
        {
          "output_type": "stream",
          "name": "stdout",
          "text": [
            "+----------+-----------+---------+----------+---+------+\n",
            "|First Name|Middle Name|Last Name|DOB       |sex|Salary|\n",
            "+----------+-----------+---------+----------+---+------+\n",
            "|James     |           |Smith    |1991-04-01|M  |3000  |\n",
            "|Michael   |Rose       |         |2000-05-19|M  |4000  |\n",
            "|Robert    |           |Williams |1978-09-05|M  |4000  |\n",
            "|Maria     |Anne       |Jones    |1967-12-01|F  |4000  |\n",
            "|Jen       |Mary       |Brown    |1980-02-17|F  |-1    |\n",
            "+----------+-----------+---------+----------+---+------+\n",
            "\n"
          ]
        }
      ]
    },
    {
      "cell_type": "code",
      "source": [
        "df4.drop(\"Copied Column\")\\\n",
        ".show(truncate = False)"
      ],
      "metadata": {
        "colab": {
          "base_uri": "https://localhost:8080/"
        },
        "id": "_YoU3vxuxI4e",
        "outputId": "b8e9c550-7c68-4996-cc43-43d82bad9a95"
      },
      "execution_count": null,
      "outputs": [
        {
          "output_type": "stream",
          "name": "stdout",
          "text": [
            "+----------+-----------+---------+----------+------+------+\n",
            "|First Name|Middle Name|Last Name|DOB       |Gender|Salary|\n",
            "+----------+-----------+---------+----------+------+------+\n",
            "|James     |           |Smith    |1991-04-01|M     |3000  |\n",
            "|Michael   |Rose       |         |2000-05-19|M     |4000  |\n",
            "|Robert    |           |Williams |1978-09-05|M     |4000  |\n",
            "|Maria     |Anne       |Jones    |1967-12-01|F     |4000  |\n",
            "|Jen       |Mary       |Brown    |1980-02-17|F     |-1    |\n",
            "+----------+-----------+---------+----------+------+------+\n",
            "\n"
          ]
        }
      ]
    },
    {
      "cell_type": "code",
      "source": [
        "dataStruct = [((\"James\",\"\",\"Smith\"),\"36636\",\"M\",\"3000\"), \\\n",
        "      ((\"Michael\",\"Rose\",\"\"),\"40288\",\"M\",\"4000\"), \\\n",
        "      ((\"Robert\",\"\",\"Williams\"),\"42114\",\"M\",\"4000\"), \\\n",
        "      ((\"Maria\",\"Anne\",\"Jones\"),\"39192\",\"F\",\"4000\"), \\\n",
        "      ((\"Jen\",\"Mary\",\"Brown\"),\"\",\"F\",\"-1\") \\\n",
        "]\n",
        "\n",
        "schemaStruct = StructType([\n",
        "    StructField(\"name\", StructType([\n",
        "        StructField(\"First Name\", StringType(), True),\n",
        "        StructField(\"Middle Name\", StringType(), True),\n",
        "        StructField(\"Last Name\", StringType(), True),\n",
        "    ])),\n",
        "    StructField(\"DOB\", StringType(), True),\n",
        "    StructField(\"Gender\", StringType(), True),\n",
        "    StructField(\"Salary\", StringType(), True),\n",
        "])\n",
        "\n",
        "df7 = spark.createDataFrame(data = dataStruct, schema = schemaStruct)\n",
        "df7.printSchema()\n",
        "df7.show(truncate = False)"
      ],
      "metadata": {
        "colab": {
          "base_uri": "https://localhost:8080/"
        },
        "id": "RXUpF8IOxQ2z",
        "outputId": "69ed45ac-eccf-46e2-8038-5d7bc185fc16"
      },
      "execution_count": null,
      "outputs": [
        {
          "output_type": "stream",
          "name": "stdout",
          "text": [
            "root\n",
            " |-- name: struct (nullable = true)\n",
            " |    |-- First Name: string (nullable = true)\n",
            " |    |-- Middle Name: string (nullable = true)\n",
            " |    |-- Last Name: string (nullable = true)\n",
            " |-- DOB: string (nullable = true)\n",
            " |-- Gender: string (nullable = true)\n",
            " |-- Salary: string (nullable = true)\n",
            "\n",
            "+--------------------+-----+------+------+\n",
            "|name                |DOB  |Gender|Salary|\n",
            "+--------------------+-----+------+------+\n",
            "|{James, , Smith}    |36636|M     |3000  |\n",
            "|{Michael, Rose, }   |40288|M     |4000  |\n",
            "|{Robert, , Williams}|42114|M     |4000  |\n",
            "|{Maria, Anne, Jones}|39192|F     |4000  |\n",
            "|{Jen, Mary, Brown}  |     |F     |-1    |\n",
            "+--------------------+-----+------+------+\n",
            "\n"
          ]
        }
      ]
    },
    {
      "cell_type": "code",
      "source": [
        "from pyspark.sql.functions import split\n",
        "columns = [\"Name\", \"Address\"]\n",
        "data = [(\"Robert, Smith\", \"Main St, Newark, NJ, 92537\"),\n",
        "        (\"Maria, Garcia\", \"3456 Walnut St, Newark, NJ, 94732\")]\n",
        "\n",
        "dfFromData = spark.createDataFrame(data = data, schema = columns)\n",
        "\n",
        "newDF = dfFromData \\\n",
        ".withColumn(\"First Name\", split(col(\"Name\"), \",\")[0])\\\n",
        ".withColumn(\"Last Name\", split(col(\"Name\"), \",\")[1])\\\n",
        ".withColumn(\"Address Line 1\", split(col(\"Address\"), \",\")[0])\\\n",
        ".withColumn(\"City\", split(col(\"Name\"), \",\")[1])\\\n",
        ".withColumn(\"State\", split(col(\"Name\"), \",\")[2])\\\n",
        ".withColumn(\"Zipcode\", split(col(\"Name\"), \",\")[3])\\\n",
        "\n",
        "finalDF = newDF.select(\"First Name\", \"Last Name\", \"Address Line 1\", \"City\", \"State\", \"Zipcode\")\n",
        "finalDF.printSchema()\n",
        "finalDF.show(truncate = False)\n",
        "\n"
      ],
      "metadata": {
        "colab": {
          "base_uri": "https://localhost:8080/"
        },
        "id": "ivoEkaEFxeZw",
        "outputId": "53b281e0-8f42-4e9b-a366-1345f9d12fb9"
      },
      "execution_count": null,
      "outputs": [
        {
          "output_type": "stream",
          "name": "stdout",
          "text": [
            "root\n",
            " |-- First Name: string (nullable = true)\n",
            " |-- Last Name: string (nullable = true)\n",
            " |-- Address Line 1: string (nullable = true)\n",
            " |-- City: string (nullable = true)\n",
            " |-- State: string (nullable = true)\n",
            " |-- Zipcode: string (nullable = true)\n",
            "\n",
            "+----------+---------+--------------+-------+-----+-------+\n",
            "|First Name|Last Name|Address Line 1|City   |State|Zipcode|\n",
            "+----------+---------+--------------+-------+-----+-------+\n",
            "|Robert    | Smith   |Main St       | Smith |NULL |NULL   |\n",
            "|Maria     | Garcia  |3456 Walnut St| Garcia|NULL |NULL   |\n",
            "+----------+---------+--------------+-------+-----+-------+\n",
            "\n"
          ]
        }
      ]
    }
  ]
}