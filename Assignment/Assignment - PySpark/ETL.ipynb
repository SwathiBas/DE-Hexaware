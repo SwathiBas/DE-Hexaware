{
  "nbformat": 4,
  "nbformat_minor": 0,
  "metadata": {
    "colab": {
      "provenance": []
    },
    "kernelspec": {
      "name": "python3",
      "display_name": "Python 3"
    },
    "language_info": {
      "name": "python"
    }
  },
  "cells": [
    {
      "cell_type": "code",
      "execution_count": null,
      "metadata": {
        "id": "l09VjYpkc4Nu"
      },
      "outputs": [],
      "source": [
        "import pyspark\n",
        "from pyspark import SparkContext\n",
        "from pyspark.sql import SparkSession\n",
        "\n",
        "spark = SparkSession.builder.appName(\"ETL Builder\").getOrCreate()\n",
        "source_path = \"/content/orders (1).csv\"\n",
        "target_path = \"/content/orders_result.csv\"\n",
        "load_data = spark.read.csv(source_path, header= True, inferSchema = True)"
      ]
    },
    {
      "cell_type": "code",
      "source": [
        "load_data.columns\n",
        "load_data.show()"
      ],
      "metadata": {
        "colab": {
          "base_uri": "https://localhost:8080/"
        },
        "id": "N9WB7dwhemf4",
        "outputId": "b0769ecf-d5eb-4bde-d0b9-f94381bc8a08"
      },
      "execution_count": null,
      "outputs": [
        {
          "output_type": "stream",
          "name": "stdout",
          "text": [
            "+-------+----------+----------+----------+-----------+\n",
            "|cust_id|cust_fname|cust_lname|cust_order|cust_status|\n",
            "+-------+----------+----------+----------+-----------+\n",
            "|      1|      john|       doe|         5|     active|\n",
            "|      2|      jane|     smith|         8|     active|\n",
            "|      3|   micheal|   jhonson|         3|   inactive|\n",
            "|      4|      abhi|   wiliams|         1|     active|\n",
            "|      5|       ram|     brown|         4|   inactive|\n",
            "|      6|     emily|  anderson|         2|     active|\n",
            "|      7|   william|     jones|        10|     active|\n",
            "|      8|     susan|     davis|         7|   inactive|\n",
            "|      9|     david|    miller|         9|     active|\n",
            "|     10|      sara|     moore|         2|   inactive|\n",
            "|     11|     james|    tailor|         5|   inactive|\n",
            "|     12|    olivia|    wilson|         3|   inactive|\n",
            "|     13|    robert|     evans|        11|     active|\n",
            "|     14|      emma|    thomas|        29|     active|\n",
            "|     15|    mathew|     haris|         5|   inactive|\n",
            "|     16|  isabella|     white|         6|   inactive|\n",
            "|     17|    joseph|    martin|         4|   inactive|\n",
            "|     18|     grace|       lee|         5|     active|\n",
            "|     19|chrisopher|      basa|         8|   inactive|\n",
            "|     20|       ava|    joesph|         3|     active|\n",
            "+-------+----------+----------+----------+-----------+\n",
            "\n"
          ]
        }
      ]
    },
    {
      "cell_type": "code",
      "source": [
        "from pyspark.sql.functions import col, concat, lit\n",
        "load_data = load_data.withColumn(\"cust_name\", concat(col(\"cust_fname\"), lit(\" \"), col(\"cust_lname\")))"
      ],
      "metadata": {
        "id": "CaAuzUf8jTgt"
      },
      "execution_count": null,
      "outputs": []
    },
    {
      "cell_type": "code",
      "source": [
        "load_data.show()"
      ],
      "metadata": {
        "colab": {
          "base_uri": "https://localhost:8080/"
        },
        "id": "tO7w-JoYjwu-",
        "outputId": "eb03d00e-edaf-4720-867b-e2a281496cf7"
      },
      "execution_count": null,
      "outputs": [
        {
          "output_type": "stream",
          "name": "stdout",
          "text": [
            "+-------+----------+----------+----------+-----------+---------------+\n",
            "|cust_id|cust_fname|cust_lname|cust_order|cust_status|      cust_name|\n",
            "+-------+----------+----------+----------+-----------+---------------+\n",
            "|      1|      john|       doe|         5|     active|       john doe|\n",
            "|      2|      jane|     smith|         8|     active|     jane smith|\n",
            "|      3|   micheal|   jhonson|         3|   inactive|micheal jhonson|\n",
            "|      4|      abhi|   wiliams|         1|     active|   abhi wiliams|\n",
            "|      5|       ram|     brown|         4|   inactive|      ram brown|\n",
            "|      6|     emily|  anderson|         2|     active| emily anderson|\n",
            "|      7|   william|     jones|        10|     active|  william jones|\n",
            "|      8|     susan|     davis|         7|   inactive|    susan davis|\n",
            "|      9|     david|    miller|         9|     active|   david miller|\n",
            "|     10|      sara|     moore|         2|   inactive|     sara moore|\n",
            "|     11|     james|    tailor|         5|   inactive|   james tailor|\n",
            "|     12|    olivia|    wilson|         3|   inactive|  olivia wilson|\n",
            "|     13|    robert|     evans|        11|     active|   robert evans|\n",
            "|     14|      emma|    thomas|        29|     active|    emma thomas|\n",
            "|     15|    mathew|     haris|         5|   inactive|   mathew haris|\n",
            "|     16|  isabella|     white|         6|   inactive| isabella white|\n",
            "|     17|    joseph|    martin|         4|   inactive|  joseph martin|\n",
            "|     18|     grace|       lee|         5|     active|      grace lee|\n",
            "|     19|chrisopher|      basa|         8|   inactive|chrisopher basa|\n",
            "|     20|       ava|    joesph|         3|     active|     ava joesph|\n",
            "+-------+----------+----------+----------+-----------+---------------+\n",
            "\n"
          ]
        }
      ]
    }
  ]
}