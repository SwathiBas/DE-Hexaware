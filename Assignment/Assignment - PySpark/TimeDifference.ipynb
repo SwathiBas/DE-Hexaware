{
  "nbformat": 4,
  "nbformat_minor": 0,
  "metadata": {
    "colab": {
      "provenance": []
    },
    "kernelspec": {
      "name": "python3",
      "display_name": "Python 3"
    },
    "language_info": {
      "name": "python"
    }
  },
  "cells": [
    {
      "cell_type": "code",
      "execution_count": null,
      "metadata": {
        "colab": {
          "base_uri": "https://localhost:8080/"
        },
        "id": "97s5gR7cXklC",
        "outputId": "a728c443-416c-4591-bc52-c63777f0e523"
      },
      "outputs": [
        {
          "output_type": "stream",
          "name": "stdout",
          "text": [
            "+-----------------------+--------------------------+-------------+-------------+-----------+--------------+\n",
            "|input_timestamp        |current_timestamp         |DiffInSeconds|DiffInMinutes|DiffInHours|DiffInDays    |\n",
            "+-----------------------+--------------------------+-------------+-------------+-----------+--------------+\n",
            "|2019-07-01 12:01:19.111|2025-08-01 06:56:34.493818|192048915    |3200815.0    |53347.0    |2.880733725E10|\n",
            "|2019-06-24 12:01:19.222|2025-08-01 06:56:34.493818|192653715    |3210895.0    |53515.0    |2.889805725E10|\n",
            "|2019-11-16 16:44:55.406|2025-08-01 06:56:34.493818|180108699    |3001812.0    |50030.0    |2.701630485E10|\n",
            "|2019-11-16 16:50:59.406|2025-08-01 06:56:34.493818|180108335    |3001806.0    |50030.0    |2.701625025E10|\n",
            "+-----------------------+--------------------------+-------------+-------------+-----------+--------------+\n",
            "\n"
          ]
        }
      ],
      "source": [
        "import pyspark\n",
        "from pyspark.sql import SparkSession\n",
        "from pyspark.sql.functions import col, round\n",
        "from pyspark.sql.functions import to_timestamp, current_timestamp\n",
        "from pyspark.sql.types import StructType, StructField, StringType, IntegerType, LongType\n",
        "\n",
        "spark = SparkSession.builder.appName(\"Time Difference\").getOrCreate()\n",
        "\n",
        "schema = StructType([StructField(\"input_timestamp\", StringType(), True)])\n",
        "dates = ['2019-07-01 12:01:19.111',\n",
        "    '2019-06-24 12:01:19.222',\n",
        "    '2019-11-16 16:44:55.406',\n",
        "    '2019-11-16 16:50:59.406']\n",
        "\n",
        "df = spark.createDataFrame(list(zip(dates)), schema = schema)\n",
        "df.withColumn('input_timestamp',to_timestamp(col('input_timestamp')))\\\n",
        ".withColumn('current_timestamp', current_timestamp().alias('current_timestamp'))\\\n",
        ".withColumn('DiffInSeconds',current_timestamp().cast(LongType())\n",
        "- col('input_timestamp').cast(LongType()))\\\n",
        ".withColumn('DiffInMinutes', round(col('DiffInSeconds')/60))\\\n",
        ".withColumn('DiffInHours', round(col('DiffInSeconds')/3600))\\\n",
        ".withColumn('DiffInDays', round(col('DiffInSeconds')/24*3600))\\\n",
        ".show(truncate = False)"
      ]
    }
  ]
}