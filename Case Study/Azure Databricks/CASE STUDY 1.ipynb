{
 "cells": [
  {
   "cell_type": "code",
   "execution_count": 0,
   "metadata": {
    "application/vnd.databricks.v1+cell": {
     "cellMetadata": {
      "byteLimit": 2048000,
      "rowLimit": 10000
     },
     "inputWidgets": {},
     "nuid": "0aa2d550-7eac-419d-9c13-bb60c62ee429",
     "showTitle": false,
     "tableResultSettingsMap": {},
     "title": ""
    }
   },
   "outputs": [],
   "source": [
    "spark.conf.set(\n",
    "  \"fs.azure.account.key.hexadatastoragegen3.dfs.core.windows.net\",\n",
    "  \"secret-key\"\n",
    ")\n"
   ]
  },
  {
   "cell_type": "code",
   "execution_count": 0,
   "metadata": {
    "application/vnd.databricks.v1+cell": {
     "cellMetadata": {
      "byteLimit": 2048000,
      "rowLimit": 10000
     },
     "inputWidgets": {},
     "nuid": "d37149c9-37ac-41ca-8dc4-757785514de9",
     "showTitle": false,
     "tableResultSettingsMap": {},
     "title": ""
    }
   },
   "outputs": [
    {
     "output_type": "execute_result",
     "data": {
      "text/plain": [
       "[FileInfo(path='abfss://container@hexadatastoragegen3.dfs.core.windows.net/employees.csv', name='employees.csv', size=3778, modificationTime=1755501190000)]"
      ]
     },
     "execution_count": 4,
     "metadata": {},
     "output_type": "execute_result"
    }
   ],
   "source": [
    "dbutils.fs.ls(\"abfss://container@hexadatastoragegen3.dfs.core.windows.net\")"
   ]
  },
  {
   "cell_type": "markdown",
   "metadata": {
    "application/vnd.databricks.v1+cell": {
     "cellMetadata": {},
     "inputWidgets": {},
     "nuid": "b2584d70-76fd-4b7a-9d13-49dd053909af",
     "showTitle": false,
     "tableResultSettingsMap": {},
     "title": ""
    }
   },
   "source": [
    "**Reading Data**"
   ]
  },
  {
   "cell_type": "code",
   "execution_count": 0,
   "metadata": {
    "application/vnd.databricks.v1+cell": {
     "cellMetadata": {
      "byteLimit": 2048000,
      "rowLimit": 10000
     },
     "inputWidgets": {},
     "nuid": "8759b1ce-e1b2-4e95-b75f-099b110cb953",
     "showTitle": false,
     "tableResultSettingsMap": {},
     "title": ""
    }
   },
   "outputs": [
    {
     "output_type": "display_data",
     "data": {
      "text/html": [
       "<style scoped>\n",
       "  .table-result-container {\n",
       "    max-height: 300px;\n",
       "    overflow: auto;\n",
       "  }\n",
       "  table, th, td {\n",
       "    border: 1px solid black;\n",
       "    border-collapse: collapse;\n",
       "  }\n",
       "  th, td {\n",
       "    padding: 5px;\n",
       "  }\n",
       "  th {\n",
       "    text-align: left;\n",
       "  }\n",
       "</style><div class='table-result-container'><table class='table-result'><thead style='background-color: white'><tr><th>EMPLOYEE_ID</th><th>FIRST_NAME</th><th>LAST_NAME</th><th>EMAIL</th><th>PHONE_NUMBER</th><th>HIRE_DATE</th><th>JOB_ID</th><th>SALARY</th><th>COMMISSION_PCT</th><th>MANAGER_ID</th><th>DEPARTMENT_ID</th></tr></thead><tbody><tr><td>198</td><td>Donald</td><td>OConnell</td><td>DOCONNEL</td><td>650.507.9833</td><td>21-JUN-07</td><td>SH_CLERK</td><td>2600</td><td> - </td><td>124</td><td>50</td></tr><tr><td>199</td><td>Douglas</td><td>Grant</td><td>DGRANT</td><td>650.507.9844</td><td>13-JAN-08</td><td>SH_CLERK</td><td>2600</td><td> - </td><td>124</td><td>50</td></tr><tr><td>200</td><td>Jennifer</td><td>Whalen</td><td>JWHALEN</td><td>515.123.4444</td><td>17-SEP-03</td><td>AD_ASST</td><td>4400</td><td> - </td><td>101</td><td>10</td></tr><tr><td>201</td><td>Michael</td><td>Hartstein</td><td>MHARTSTE</td><td>515.123.5555</td><td>17-FEB-04</td><td>MK_MAN</td><td>13000</td><td> - </td><td>100</td><td>20</td></tr><tr><td>202</td><td>Pat</td><td>Fay</td><td>PFAY</td><td>603.123.6666</td><td>17-AUG-05</td><td>MK_REP</td><td>6000</td><td> - </td><td>201</td><td>20</td></tr><tr><td>203</td><td>Susan</td><td>Mavris</td><td>SMAVRIS</td><td>515.123.7777</td><td>07-JUN-02</td><td>HR_REP</td><td>6500</td><td> - </td><td>101</td><td>40</td></tr><tr><td>204</td><td>Hermann</td><td>Baer</td><td>HBAER</td><td>515.123.8888</td><td>07-JUN-02</td><td>PR_REP</td><td>10000</td><td> - </td><td>101</td><td>70</td></tr><tr><td>205</td><td>Shelley</td><td>Higgins</td><td>SHIGGINS</td><td>515.123.8080</td><td>07-JUN-02</td><td>AC_MGR</td><td>12008</td><td> - </td><td>101</td><td>110</td></tr><tr><td>206</td><td>William</td><td>Gietz</td><td>WGIETZ</td><td>515.123.8181</td><td>07-JUN-02</td><td>AC_ACCOUNT</td><td>8300</td><td> - </td><td>205</td><td>110</td></tr><tr><td>100</td><td>Steven</td><td>King</td><td>SKING</td><td>515.123.4567</td><td>17-JUN-03</td><td>AD_PRES</td><td>24000</td><td> - </td><td> - </td><td>90</td></tr><tr><td>101</td><td>Neena</td><td>Kochhar</td><td>NKOCHHAR</td><td>515.123.4568</td><td>21-SEP-05</td><td>AD_VP</td><td>17000</td><td> - </td><td>100</td><td>90</td></tr><tr><td>102</td><td>Lex</td><td>De Haan</td><td>LDEHAAN</td><td>515.123.4569</td><td>13-JAN-01</td><td>AD_VP</td><td>17000</td><td> - </td><td>100</td><td>90</td></tr><tr><td>103</td><td>Alexander</td><td>Hunold</td><td>AHUNOLD</td><td>590.423.4567</td><td>03-JAN-06</td><td>IT_PROG</td><td>9000</td><td> - </td><td>102</td><td>60</td></tr><tr><td>104</td><td>Bruce</td><td>Ernst</td><td>BERNST</td><td>590.423.4568</td><td>21-MAY-07</td><td>IT_PROG</td><td>6000</td><td> - </td><td>103</td><td>60</td></tr><tr><td>105</td><td>David</td><td>Austin</td><td>DAUSTIN</td><td>590.423.4569</td><td>25-JUN-05</td><td>IT_PROG</td><td>4800</td><td> - </td><td>103</td><td>60</td></tr><tr><td>106</td><td>Valli</td><td>Pataballa</td><td>VPATABAL</td><td>590.423.4560</td><td>05-FEB-06</td><td>IT_PROG</td><td>4800</td><td> - </td><td>103</td><td>60</td></tr><tr><td>107</td><td>Diana</td><td>Lorentz</td><td>DLORENTZ</td><td>590.423.5567</td><td>07-FEB-07</td><td>IT_PROG</td><td>4200</td><td> - </td><td>103</td><td>60</td></tr><tr><td>108</td><td>Nancy</td><td>Greenberg</td><td>NGREENBE</td><td>515.124.4569</td><td>17-AUG-02</td><td>FI_MGR</td><td>12008</td><td> - </td><td>101</td><td>100</td></tr><tr><td>109</td><td>Daniel</td><td>Faviet</td><td>DFAVIET</td><td>515.124.4169</td><td>16-AUG-02</td><td>FI_ACCOUNT</td><td>9000</td><td> - </td><td>108</td><td>100</td></tr><tr><td>110</td><td>John</td><td>Chen</td><td>JCHEN</td><td>515.124.4269</td><td>28-SEP-05</td><td>FI_ACCOUNT</td><td>8200</td><td> - </td><td>108</td><td>100</td></tr><tr><td>111</td><td>Ismael</td><td>Sciarra</td><td>ISCIARRA</td><td>515.124.4369</td><td>30-SEP-05</td><td>FI_ACCOUNT</td><td>7700</td><td> - </td><td>108</td><td>100</td></tr><tr><td>112</td><td>Jose Manuel</td><td>Urman</td><td>JMURMAN</td><td>515.124.4469</td><td>07-MAR-06</td><td>FI_ACCOUNT</td><td>7800</td><td> - </td><td>108</td><td>100</td></tr><tr><td>113</td><td>Luis</td><td>Popp</td><td>LPOPP</td><td>515.124.4567</td><td>07-DEC-07</td><td>FI_ACCOUNT</td><td>6900</td><td> - </td><td>108</td><td>100</td></tr><tr><td>114</td><td>Den</td><td>Raphaely</td><td>DRAPHEAL</td><td>515.127.4561</td><td>07-DEC-02</td><td>PU_MAN</td><td>11000</td><td> - </td><td>100</td><td>30</td></tr><tr><td>115</td><td>Alexander</td><td>Khoo</td><td>AKHOO</td><td>515.127.4562</td><td>18-MAY-03</td><td>PU_CLERK</td><td>3100</td><td> - </td><td>114</td><td>30</td></tr><tr><td>116</td><td>Shelli</td><td>Baida</td><td>SBAIDA</td><td>515.127.4563</td><td>24-DEC-05</td><td>PU_CLERK</td><td>2900</td><td> - </td><td>114</td><td>30</td></tr><tr><td>117</td><td>Sigal</td><td>Tobias</td><td>STOBIAS</td><td>515.127.4564</td><td>24-JUL-05</td><td>PU_CLERK</td><td>2800</td><td> - </td><td>114</td><td>30</td></tr><tr><td>118</td><td>Guy</td><td>Himuro</td><td>GHIMURO</td><td>515.127.4565</td><td>15-NOV-06</td><td>PU_CLERK</td><td>2600</td><td> - </td><td>114</td><td>30</td></tr><tr><td>119</td><td>Karen</td><td>Colmenares</td><td>KCOLMENA</td><td>515.127.4566</td><td>10-AUG-07</td><td>PU_CLERK</td><td>2500</td><td> - </td><td>114</td><td>30</td></tr><tr><td>120</td><td>Matthew</td><td>Weiss</td><td>MWEISS</td><td>650.123.1234</td><td>18-JUL-04</td><td>ST_MAN</td><td>8000</td><td> - </td><td>100</td><td>50</td></tr><tr><td>121</td><td>Adam</td><td>Fripp</td><td>AFRIPP</td><td>650.123.2234</td><td>10-APR-05</td><td>ST_MAN</td><td>8200</td><td> - </td><td>100</td><td>50</td></tr><tr><td>122</td><td>Payam</td><td>Kaufling</td><td>PKAUFLIN</td><td>650.123.3234</td><td>01-MAY-03</td><td>ST_MAN</td><td>7900</td><td> - </td><td>100</td><td>50</td></tr><tr><td>123</td><td>Shanta</td><td>Vollman</td><td>SVOLLMAN</td><td>650.123.4234</td><td>10-OCT-05</td><td>ST_MAN</td><td>6500</td><td> - </td><td>100</td><td>50</td></tr><tr><td>124</td><td>Kevin</td><td>Mourgos</td><td>KMOURGOS</td><td>650.123.5234</td><td>16-NOV-07</td><td>ST_MAN</td><td>5800</td><td> - </td><td>100</td><td>50</td></tr><tr><td>125</td><td>Julia</td><td>Nayer</td><td>JNAYER</td><td>650.124.1214</td><td>16-JUL-05</td><td>ST_CLERK</td><td>3200</td><td> - </td><td>120</td><td>50</td></tr><tr><td>126</td><td>Irene</td><td>Mikkilineni</td><td>IMIKKILI</td><td>650.124.1224</td><td>28-SEP-06</td><td>ST_CLERK</td><td>2700</td><td> - </td><td>120</td><td>50</td></tr><tr><td>127</td><td>James</td><td>Landry</td><td>JLANDRY</td><td>650.124.1334</td><td>14-JAN-07</td><td>ST_CLERK</td><td>2400</td><td> - </td><td>120</td><td>50</td></tr><tr><td>128</td><td>Steven</td><td>Markle</td><td>SMARKLE</td><td>650.124.1434</td><td>08-MAR-08</td><td>ST_CLERK</td><td>2200</td><td> - </td><td>120</td><td>50</td></tr><tr><td>129</td><td>Laura</td><td>Bissot</td><td>LBISSOT</td><td>650.124.5234</td><td>20-AUG-05</td><td>ST_CLERK</td><td>3300</td><td> - </td><td>121</td><td>50</td></tr><tr><td>130</td><td>Mozhe</td><td>Atkinson</td><td>MATKINSO</td><td>650.124.6234</td><td>30-OCT-05</td><td>ST_CLERK</td><td>2800</td><td> - </td><td>121</td><td>50</td></tr><tr><td>131</td><td>James</td><td>Marlow</td><td>JAMRLOW</td><td>650.124.7234</td><td>16-FEB-05</td><td>ST_CLERK</td><td>2500</td><td> - </td><td>121</td><td>50</td></tr><tr><td>132</td><td>TJ</td><td>Olson</td><td>TJOLSON</td><td>650.124.8234</td><td>10-APR-07</td><td>ST_CLERK</td><td>2100</td><td> - </td><td>121</td><td>50</td></tr><tr><td>133</td><td>Jason</td><td>Mallin</td><td>JMALLIN</td><td>650.127.1934</td><td>14-JUN-04</td><td>ST_CLERK</td><td>3300</td><td> - </td><td>122</td><td>50</td></tr><tr><td>134</td><td>Michael</td><td>Rogers</td><td>MROGERS</td><td>650.127.1834</td><td>26-AUG-06</td><td>ST_CLERK</td><td>2900</td><td> - </td><td>122</td><td>50</td></tr><tr><td>135</td><td>Ki</td><td>Gee</td><td>KGEE</td><td>650.127.1734</td><td>12-DEC-07</td><td>ST_CLERK</td><td>2400</td><td> - </td><td>122</td><td>50</td></tr><tr><td>136</td><td>Hazel</td><td>Philtanker</td><td>HPHILTAN</td><td>650.127.1634</td><td>06-FEB-08</td><td>ST_CLERK</td><td>2200</td><td> - </td><td>122</td><td>50</td></tr><tr><td>137</td><td>Renske</td><td>Ladwig</td><td>RLADWIG</td><td>650.121.1234</td><td>14-JUL-03</td><td>ST_CLERK</td><td>3600</td><td> - </td><td>123</td><td>50</td></tr><tr><td>138</td><td>Stephen</td><td>Stiles</td><td>SSTILES</td><td>650.121.2034</td><td>26-OCT-05</td><td>ST_CLERK</td><td>3200</td><td> - </td><td>123</td><td>50</td></tr><tr><td>139</td><td>John</td><td>Seo</td><td>JSEO</td><td>650.121.2019</td><td>12-FEB-06</td><td>ST_CLERK</td><td>2700</td><td> - </td><td>123</td><td>50</td></tr><tr><td>140</td><td>Joshua</td><td>Patel</td><td>JPATEL</td><td>650.121.1834</td><td>06-APR-06</td><td>ST_CLERK</td><td>2500</td><td> - </td><td>123</td><td>50</td></tr></tbody></table></div>"
      ]
     },
     "metadata": {
      "application/vnd.databricks.v1+output": {
       "addedWidgets": {},
       "aggData": [],
       "aggError": "",
       "aggOverflow": false,
       "aggSchema": [],
       "aggSeriesLimitReached": false,
       "aggType": "",
       "arguments": {},
       "columnCustomDisplayInfos": {},
       "data": [
        [
         198,
         "Donald",
         "OConnell",
         "DOCONNEL",
         "650.507.9833",
         "21-JUN-07",
         "SH_CLERK",
         2600,
         " - ",
         "124",
         50
        ],
        [
         199,
         "Douglas",
         "Grant",
         "DGRANT",
         "650.507.9844",
         "13-JAN-08",
         "SH_CLERK",
         2600,
         " - ",
         "124",
         50
        ],
        [
         200,
         "Jennifer",
         "Whalen",
         "JWHALEN",
         "515.123.4444",
         "17-SEP-03",
         "AD_ASST",
         4400,
         " - ",
         "101",
         10
        ],
        [
         201,
         "Michael",
         "Hartstein",
         "MHARTSTE",
         "515.123.5555",
         "17-FEB-04",
         "MK_MAN",
         13000,
         " - ",
         "100",
         20
        ],
        [
         202,
         "Pat",
         "Fay",
         "PFAY",
         "603.123.6666",
         "17-AUG-05",
         "MK_REP",
         6000,
         " - ",
         "201",
         20
        ],
        [
         203,
         "Susan",
         "Mavris",
         "SMAVRIS",
         "515.123.7777",
         "07-JUN-02",
         "HR_REP",
         6500,
         " - ",
         "101",
         40
        ],
        [
         204,
         "Hermann",
         "Baer",
         "HBAER",
         "515.123.8888",
         "07-JUN-02",
         "PR_REP",
         10000,
         " - ",
         "101",
         70
        ],
        [
         205,
         "Shelley",
         "Higgins",
         "SHIGGINS",
         "515.123.8080",
         "07-JUN-02",
         "AC_MGR",
         12008,
         " - ",
         "101",
         110
        ],
        [
         206,
         "William",
         "Gietz",
         "WGIETZ",
         "515.123.8181",
         "07-JUN-02",
         "AC_ACCOUNT",
         8300,
         " - ",
         "205",
         110
        ],
        [
         100,
         "Steven",
         "King",
         "SKING",
         "515.123.4567",
         "17-JUN-03",
         "AD_PRES",
         24000,
         " - ",
         " - ",
         90
        ],
        [
         101,
         "Neena",
         "Kochhar",
         "NKOCHHAR",
         "515.123.4568",
         "21-SEP-05",
         "AD_VP",
         17000,
         " - ",
         "100",
         90
        ],
        [
         102,
         "Lex",
         "De Haan",
         "LDEHAAN",
         "515.123.4569",
         "13-JAN-01",
         "AD_VP",
         17000,
         " - ",
         "100",
         90
        ],
        [
         103,
         "Alexander",
         "Hunold",
         "AHUNOLD",
         "590.423.4567",
         "03-JAN-06",
         "IT_PROG",
         9000,
         " - ",
         "102",
         60
        ],
        [
         104,
         "Bruce",
         "Ernst",
         "BERNST",
         "590.423.4568",
         "21-MAY-07",
         "IT_PROG",
         6000,
         " - ",
         "103",
         60
        ],
        [
         105,
         "David",
         "Austin",
         "DAUSTIN",
         "590.423.4569",
         "25-JUN-05",
         "IT_PROG",
         4800,
         " - ",
         "103",
         60
        ],
        [
         106,
         "Valli",
         "Pataballa",
         "VPATABAL",
         "590.423.4560",
         "05-FEB-06",
         "IT_PROG",
         4800,
         " - ",
         "103",
         60
        ],
        [
         107,
         "Diana",
         "Lorentz",
         "DLORENTZ",
         "590.423.5567",
         "07-FEB-07",
         "IT_PROG",
         4200,
         " - ",
         "103",
         60
        ],
        [
         108,
         "Nancy",
         "Greenberg",
         "NGREENBE",
         "515.124.4569",
         "17-AUG-02",
         "FI_MGR",
         12008,
         " - ",
         "101",
         100
        ],
        [
         109,
         "Daniel",
         "Faviet",
         "DFAVIET",
         "515.124.4169",
         "16-AUG-02",
         "FI_ACCOUNT",
         9000,
         " - ",
         "108",
         100
        ],
        [
         110,
         "John",
         "Chen",
         "JCHEN",
         "515.124.4269",
         "28-SEP-05",
         "FI_ACCOUNT",
         8200,
         " - ",
         "108",
         100
        ],
        [
         111,
         "Ismael",
         "Sciarra",
         "ISCIARRA",
         "515.124.4369",
         "30-SEP-05",
         "FI_ACCOUNT",
         7700,
         " - ",
         "108",
         100
        ],
        [
         112,
         "Jose Manuel",
         "Urman",
         "JMURMAN",
         "515.124.4469",
         "07-MAR-06",
         "FI_ACCOUNT",
         7800,
         " - ",
         "108",
         100
        ],
        [
         113,
         "Luis",
         "Popp",
         "LPOPP",
         "515.124.4567",
         "07-DEC-07",
         "FI_ACCOUNT",
         6900,
         " - ",
         "108",
         100
        ],
        [
         114,
         "Den",
         "Raphaely",
         "DRAPHEAL",
         "515.127.4561",
         "07-DEC-02",
         "PU_MAN",
         11000,
         " - ",
         "100",
         30
        ],
        [
         115,
         "Alexander",
         "Khoo",
         "AKHOO",
         "515.127.4562",
         "18-MAY-03",
         "PU_CLERK",
         3100,
         " - ",
         "114",
         30
        ],
        [
         116,
         "Shelli",
         "Baida",
         "SBAIDA",
         "515.127.4563",
         "24-DEC-05",
         "PU_CLERK",
         2900,
         " - ",
         "114",
         30
        ],
        [
         117,
         "Sigal",
         "Tobias",
         "STOBIAS",
         "515.127.4564",
         "24-JUL-05",
         "PU_CLERK",
         2800,
         " - ",
         "114",
         30
        ],
        [
         118,
         "Guy",
         "Himuro",
         "GHIMURO",
         "515.127.4565",
         "15-NOV-06",
         "PU_CLERK",
         2600,
         " - ",
         "114",
         30
        ],
        [
         119,
         "Karen",
         "Colmenares",
         "KCOLMENA",
         "515.127.4566",
         "10-AUG-07",
         "PU_CLERK",
         2500,
         " - ",
         "114",
         30
        ],
        [
         120,
         "Matthew",
         "Weiss",
         "MWEISS",
         "650.123.1234",
         "18-JUL-04",
         "ST_MAN",
         8000,
         " - ",
         "100",
         50
        ],
        [
         121,
         "Adam",
         "Fripp",
         "AFRIPP",
         "650.123.2234",
         "10-APR-05",
         "ST_MAN",
         8200,
         " - ",
         "100",
         50
        ],
        [
         122,
         "Payam",
         "Kaufling",
         "PKAUFLIN",
         "650.123.3234",
         "01-MAY-03",
         "ST_MAN",
         7900,
         " - ",
         "100",
         50
        ],
        [
         123,
         "Shanta",
         "Vollman",
         "SVOLLMAN",
         "650.123.4234",
         "10-OCT-05",
         "ST_MAN",
         6500,
         " - ",
         "100",
         50
        ],
        [
         124,
         "Kevin",
         "Mourgos",
         "KMOURGOS",
         "650.123.5234",
         "16-NOV-07",
         "ST_MAN",
         5800,
         " - ",
         "100",
         50
        ],
        [
         125,
         "Julia",
         "Nayer",
         "JNAYER",
         "650.124.1214",
         "16-JUL-05",
         "ST_CLERK",
         3200,
         " - ",
         "120",
         50
        ],
        [
         126,
         "Irene",
         "Mikkilineni",
         "IMIKKILI",
         "650.124.1224",
         "28-SEP-06",
         "ST_CLERK",
         2700,
         " - ",
         "120",
         50
        ],
        [
         127,
         "James",
         "Landry",
         "JLANDRY",
         "650.124.1334",
         "14-JAN-07",
         "ST_CLERK",
         2400,
         " - ",
         "120",
         50
        ],
        [
         128,
         "Steven",
         "Markle",
         "SMARKLE",
         "650.124.1434",
         "08-MAR-08",
         "ST_CLERK",
         2200,
         " - ",
         "120",
         50
        ],
        [
         129,
         "Laura",
         "Bissot",
         "LBISSOT",
         "650.124.5234",
         "20-AUG-05",
         "ST_CLERK",
         3300,
         " - ",
         "121",
         50
        ],
        [
         130,
         "Mozhe",
         "Atkinson",
         "MATKINSO",
         "650.124.6234",
         "30-OCT-05",
         "ST_CLERK",
         2800,
         " - ",
         "121",
         50
        ],
        [
         131,
         "James",
         "Marlow",
         "JAMRLOW",
         "650.124.7234",
         "16-FEB-05",
         "ST_CLERK",
         2500,
         " - ",
         "121",
         50
        ],
        [
         132,
         "TJ",
         "Olson",
         "TJOLSON",
         "650.124.8234",
         "10-APR-07",
         "ST_CLERK",
         2100,
         " - ",
         "121",
         50
        ],
        [
         133,
         "Jason",
         "Mallin",
         "JMALLIN",
         "650.127.1934",
         "14-JUN-04",
         "ST_CLERK",
         3300,
         " - ",
         "122",
         50
        ],
        [
         134,
         "Michael",
         "Rogers",
         "MROGERS",
         "650.127.1834",
         "26-AUG-06",
         "ST_CLERK",
         2900,
         " - ",
         "122",
         50
        ],
        [
         135,
         "Ki",
         "Gee",
         "KGEE",
         "650.127.1734",
         "12-DEC-07",
         "ST_CLERK",
         2400,
         " - ",
         "122",
         50
        ],
        [
         136,
         "Hazel",
         "Philtanker",
         "HPHILTAN",
         "650.127.1634",
         "06-FEB-08",
         "ST_CLERK",
         2200,
         " - ",
         "122",
         50
        ],
        [
         137,
         "Renske",
         "Ladwig",
         "RLADWIG",
         "650.121.1234",
         "14-JUL-03",
         "ST_CLERK",
         3600,
         " - ",
         "123",
         50
        ],
        [
         138,
         "Stephen",
         "Stiles",
         "SSTILES",
         "650.121.2034",
         "26-OCT-05",
         "ST_CLERK",
         3200,
         " - ",
         "123",
         50
        ],
        [
         139,
         "John",
         "Seo",
         "JSEO",
         "650.121.2019",
         "12-FEB-06",
         "ST_CLERK",
         2700,
         " - ",
         "123",
         50
        ],
        [
         140,
         "Joshua",
         "Patel",
         "JPATEL",
         "650.121.1834",
         "06-APR-06",
         "ST_CLERK",
         2500,
         " - ",
         "123",
         50
        ]
       ],
       "datasetInfos": [],
       "dbfsResultPath": null,
       "isJsonSchema": true,
       "metadata": {},
       "overflow": false,
       "plotOptions": {
        "customPlotOptions": {},
        "displayType": "table",
        "pivotAggregation": null,
        "pivotColumns": null,
        "xColumns": null,
        "yColumns": null
       },
       "removedWidgets": [],
       "schema": [
        {
         "metadata": "{}",
         "name": "EMPLOYEE_ID",
         "type": "\"integer\""
        },
        {
         "metadata": "{}",
         "name": "FIRST_NAME",
         "type": "\"string\""
        },
        {
         "metadata": "{}",
         "name": "LAST_NAME",
         "type": "\"string\""
        },
        {
         "metadata": "{}",
         "name": "EMAIL",
         "type": "\"string\""
        },
        {
         "metadata": "{}",
         "name": "PHONE_NUMBER",
         "type": "\"string\""
        },
        {
         "metadata": "{}",
         "name": "HIRE_DATE",
         "type": "\"string\""
        },
        {
         "metadata": "{}",
         "name": "JOB_ID",
         "type": "\"string\""
        },
        {
         "metadata": "{}",
         "name": "SALARY",
         "type": "\"integer\""
        },
        {
         "metadata": "{}",
         "name": "COMMISSION_PCT",
         "type": "\"string\""
        },
        {
         "metadata": "{}",
         "name": "MANAGER_ID",
         "type": "\"string\""
        },
        {
         "metadata": "{}",
         "name": "DEPARTMENT_ID",
         "type": "\"integer\""
        }
       ],
       "type": "table"
      }
     },
     "output_type": "display_data"
    }
   ],
   "source": [
    "df = spark.read.format(\"csv\")\\\n",
    "        .option(\"header\", True)\\\n",
    "        .option(\"inferSchema\", True)\\\n",
    "        .load(\"abfss://container@hexadatastoragegen3.dfs.core.windows.net/\")\n",
    "\n",
    "display(df)"
   ]
  },
  {
   "cell_type": "code",
   "execution_count": 0,
   "metadata": {
    "application/vnd.databricks.v1+cell": {
     "cellMetadata": {
      "byteLimit": 2048000,
      "rowLimit": 10000
     },
     "inputWidgets": {},
     "nuid": "91d06c1e-351e-4abe-9bc0-675f7e6c787b",
     "showTitle": false,
     "tableResultSettingsMap": {},
     "title": ""
    }
   },
   "outputs": [],
   "source": [
    "# Creating a managed table\n",
    "df.write.format(\"delta\").mode(\"append\").saveAsTable(\"employee\")"
   ]
  },
  {
   "cell_type": "code",
   "execution_count": 0,
   "metadata": {
    "application/vnd.databricks.v1+cell": {
     "cellMetadata": {
      "byteLimit": 2048000,
      "implicitDf": true,
      "rowLimit": 10000
     },
     "inputWidgets": {},
     "nuid": "b68e0eb4-119f-4522-88ce-6468cee2eb52",
     "showTitle": false,
     "tableResultSettingsMap": {},
     "title": ""
    }
   },
   "outputs": [
    {
     "output_type": "display_data",
     "data": {
      "text/html": [
       "<style scoped>\n",
       "  .table-result-container {\n",
       "    max-height: 300px;\n",
       "    overflow: auto;\n",
       "  }\n",
       "  table, th, td {\n",
       "    border: 1px solid black;\n",
       "    border-collapse: collapse;\n",
       "  }\n",
       "  th, td {\n",
       "    padding: 5px;\n",
       "  }\n",
       "  th {\n",
       "    text-align: left;\n",
       "  }\n",
       "</style><div class='table-result-container'><table class='table-result'><thead style='background-color: white'><tr><th>EMPLOYEE_ID</th><th>FIRST_NAME</th><th>LAST_NAME</th><th>EMAIL</th><th>PHONE_NUMBER</th><th>HIRE_DATE</th><th>JOB_ID</th><th>SALARY</th><th>COMMISSION_PCT</th><th>MANAGER_ID</th><th>DEPARTMENT_ID</th></tr></thead><tbody><tr><td>198</td><td>Donald</td><td>OConnell</td><td>DOCONNEL</td><td>650.507.9833</td><td>21-JUN-07</td><td>SH_CLERK</td><td>2600</td><td> - </td><td>124</td><td>50</td></tr><tr><td>199</td><td>Douglas</td><td>Grant</td><td>DGRANT</td><td>650.507.9844</td><td>13-JAN-08</td><td>SH_CLERK</td><td>2600</td><td> - </td><td>124</td><td>50</td></tr><tr><td>200</td><td>Jennifer</td><td>Whalen</td><td>JWHALEN</td><td>515.123.4444</td><td>17-SEP-03</td><td>AD_ASST</td><td>4400</td><td> - </td><td>101</td><td>10</td></tr><tr><td>201</td><td>Michael</td><td>Hartstein</td><td>MHARTSTE</td><td>515.123.5555</td><td>17-FEB-04</td><td>MK_MAN</td><td>13000</td><td> - </td><td>100</td><td>20</td></tr><tr><td>202</td><td>Pat</td><td>Fay</td><td>PFAY</td><td>603.123.6666</td><td>17-AUG-05</td><td>MK_REP</td><td>6000</td><td> - </td><td>201</td><td>20</td></tr><tr><td>203</td><td>Susan</td><td>Mavris</td><td>SMAVRIS</td><td>515.123.7777</td><td>07-JUN-02</td><td>HR_REP</td><td>6500</td><td> - </td><td>101</td><td>40</td></tr><tr><td>204</td><td>Hermann</td><td>Baer</td><td>HBAER</td><td>515.123.8888</td><td>07-JUN-02</td><td>PR_REP</td><td>10000</td><td> - </td><td>101</td><td>70</td></tr><tr><td>205</td><td>Shelley</td><td>Higgins</td><td>SHIGGINS</td><td>515.123.8080</td><td>07-JUN-02</td><td>AC_MGR</td><td>12008</td><td> - </td><td>101</td><td>110</td></tr><tr><td>206</td><td>William</td><td>Gietz</td><td>WGIETZ</td><td>515.123.8181</td><td>07-JUN-02</td><td>AC_ACCOUNT</td><td>8300</td><td> - </td><td>205</td><td>110</td></tr><tr><td>100</td><td>Steven</td><td>King</td><td>SKING</td><td>515.123.4567</td><td>17-JUN-03</td><td>AD_PRES</td><td>24000</td><td> - </td><td> - </td><td>90</td></tr><tr><td>101</td><td>Neena</td><td>Kochhar</td><td>NKOCHHAR</td><td>515.123.4568</td><td>21-SEP-05</td><td>AD_VP</td><td>17000</td><td> - </td><td>100</td><td>90</td></tr><tr><td>102</td><td>Lex</td><td>De Haan</td><td>LDEHAAN</td><td>515.123.4569</td><td>13-JAN-01</td><td>AD_VP</td><td>17000</td><td> - </td><td>100</td><td>90</td></tr><tr><td>103</td><td>Alexander</td><td>Hunold</td><td>AHUNOLD</td><td>590.423.4567</td><td>03-JAN-06</td><td>IT_PROG</td><td>9000</td><td> - </td><td>102</td><td>60</td></tr><tr><td>104</td><td>Bruce</td><td>Ernst</td><td>BERNST</td><td>590.423.4568</td><td>21-MAY-07</td><td>IT_PROG</td><td>6000</td><td> - </td><td>103</td><td>60</td></tr><tr><td>105</td><td>David</td><td>Austin</td><td>DAUSTIN</td><td>590.423.4569</td><td>25-JUN-05</td><td>IT_PROG</td><td>4800</td><td> - </td><td>103</td><td>60</td></tr><tr><td>106</td><td>Valli</td><td>Pataballa</td><td>VPATABAL</td><td>590.423.4560</td><td>05-FEB-06</td><td>IT_PROG</td><td>4800</td><td> - </td><td>103</td><td>60</td></tr><tr><td>107</td><td>Diana</td><td>Lorentz</td><td>DLORENTZ</td><td>590.423.5567</td><td>07-FEB-07</td><td>IT_PROG</td><td>4200</td><td> - </td><td>103</td><td>60</td></tr><tr><td>108</td><td>Nancy</td><td>Greenberg</td><td>NGREENBE</td><td>515.124.4569</td><td>17-AUG-02</td><td>FI_MGR</td><td>12008</td><td> - </td><td>101</td><td>100</td></tr><tr><td>109</td><td>Daniel</td><td>Faviet</td><td>DFAVIET</td><td>515.124.4169</td><td>16-AUG-02</td><td>FI_ACCOUNT</td><td>9000</td><td> - </td><td>108</td><td>100</td></tr><tr><td>110</td><td>John</td><td>Chen</td><td>JCHEN</td><td>515.124.4269</td><td>28-SEP-05</td><td>FI_ACCOUNT</td><td>8200</td><td> - </td><td>108</td><td>100</td></tr><tr><td>111</td><td>Ismael</td><td>Sciarra</td><td>ISCIARRA</td><td>515.124.4369</td><td>30-SEP-05</td><td>FI_ACCOUNT</td><td>7700</td><td> - </td><td>108</td><td>100</td></tr><tr><td>112</td><td>Jose Manuel</td><td>Urman</td><td>JMURMAN</td><td>515.124.4469</td><td>07-MAR-06</td><td>FI_ACCOUNT</td><td>7800</td><td> - </td><td>108</td><td>100</td></tr><tr><td>113</td><td>Luis</td><td>Popp</td><td>LPOPP</td><td>515.124.4567</td><td>07-DEC-07</td><td>FI_ACCOUNT</td><td>6900</td><td> - </td><td>108</td><td>100</td></tr><tr><td>114</td><td>Den</td><td>Raphaely</td><td>DRAPHEAL</td><td>515.127.4561</td><td>07-DEC-02</td><td>PU_MAN</td><td>11000</td><td> - </td><td>100</td><td>30</td></tr><tr><td>115</td><td>Alexander</td><td>Khoo</td><td>AKHOO</td><td>515.127.4562</td><td>18-MAY-03</td><td>PU_CLERK</td><td>3100</td><td> - </td><td>114</td><td>30</td></tr><tr><td>116</td><td>Shelli</td><td>Baida</td><td>SBAIDA</td><td>515.127.4563</td><td>24-DEC-05</td><td>PU_CLERK</td><td>2900</td><td> - </td><td>114</td><td>30</td></tr><tr><td>117</td><td>Sigal</td><td>Tobias</td><td>STOBIAS</td><td>515.127.4564</td><td>24-JUL-05</td><td>PU_CLERK</td><td>2800</td><td> - </td><td>114</td><td>30</td></tr><tr><td>118</td><td>Guy</td><td>Himuro</td><td>GHIMURO</td><td>515.127.4565</td><td>15-NOV-06</td><td>PU_CLERK</td><td>2600</td><td> - </td><td>114</td><td>30</td></tr><tr><td>119</td><td>Karen</td><td>Colmenares</td><td>KCOLMENA</td><td>515.127.4566</td><td>10-AUG-07</td><td>PU_CLERK</td><td>2500</td><td> - </td><td>114</td><td>30</td></tr><tr><td>120</td><td>Matthew</td><td>Weiss</td><td>MWEISS</td><td>650.123.1234</td><td>18-JUL-04</td><td>ST_MAN</td><td>8000</td><td> - </td><td>100</td><td>50</td></tr><tr><td>121</td><td>Adam</td><td>Fripp</td><td>AFRIPP</td><td>650.123.2234</td><td>10-APR-05</td><td>ST_MAN</td><td>8200</td><td> - </td><td>100</td><td>50</td></tr><tr><td>122</td><td>Payam</td><td>Kaufling</td><td>PKAUFLIN</td><td>650.123.3234</td><td>01-MAY-03</td><td>ST_MAN</td><td>7900</td><td> - </td><td>100</td><td>50</td></tr><tr><td>123</td><td>Shanta</td><td>Vollman</td><td>SVOLLMAN</td><td>650.123.4234</td><td>10-OCT-05</td><td>ST_MAN</td><td>6500</td><td> - </td><td>100</td><td>50</td></tr><tr><td>124</td><td>Kevin</td><td>Mourgos</td><td>KMOURGOS</td><td>650.123.5234</td><td>16-NOV-07</td><td>ST_MAN</td><td>5800</td><td> - </td><td>100</td><td>50</td></tr><tr><td>125</td><td>Julia</td><td>Nayer</td><td>JNAYER</td><td>650.124.1214</td><td>16-JUL-05</td><td>ST_CLERK</td><td>3200</td><td> - </td><td>120</td><td>50</td></tr><tr><td>126</td><td>Irene</td><td>Mikkilineni</td><td>IMIKKILI</td><td>650.124.1224</td><td>28-SEP-06</td><td>ST_CLERK</td><td>2700</td><td> - </td><td>120</td><td>50</td></tr><tr><td>127</td><td>James</td><td>Landry</td><td>JLANDRY</td><td>650.124.1334</td><td>14-JAN-07</td><td>ST_CLERK</td><td>2400</td><td> - </td><td>120</td><td>50</td></tr><tr><td>128</td><td>Steven</td><td>Markle</td><td>SMARKLE</td><td>650.124.1434</td><td>08-MAR-08</td><td>ST_CLERK</td><td>2200</td><td> - </td><td>120</td><td>50</td></tr><tr><td>129</td><td>Laura</td><td>Bissot</td><td>LBISSOT</td><td>650.124.5234</td><td>20-AUG-05</td><td>ST_CLERK</td><td>3300</td><td> - </td><td>121</td><td>50</td></tr><tr><td>130</td><td>Mozhe</td><td>Atkinson</td><td>MATKINSO</td><td>650.124.6234</td><td>30-OCT-05</td><td>ST_CLERK</td><td>2800</td><td> - </td><td>121</td><td>50</td></tr><tr><td>131</td><td>James</td><td>Marlow</td><td>JAMRLOW</td><td>650.124.7234</td><td>16-FEB-05</td><td>ST_CLERK</td><td>2500</td><td> - </td><td>121</td><td>50</td></tr><tr><td>132</td><td>TJ</td><td>Olson</td><td>TJOLSON</td><td>650.124.8234</td><td>10-APR-07</td><td>ST_CLERK</td><td>2100</td><td> - </td><td>121</td><td>50</td></tr><tr><td>133</td><td>Jason</td><td>Mallin</td><td>JMALLIN</td><td>650.127.1934</td><td>14-JUN-04</td><td>ST_CLERK</td><td>3300</td><td> - </td><td>122</td><td>50</td></tr><tr><td>134</td><td>Michael</td><td>Rogers</td><td>MROGERS</td><td>650.127.1834</td><td>26-AUG-06</td><td>ST_CLERK</td><td>2900</td><td> - </td><td>122</td><td>50</td></tr><tr><td>135</td><td>Ki</td><td>Gee</td><td>KGEE</td><td>650.127.1734</td><td>12-DEC-07</td><td>ST_CLERK</td><td>2400</td><td> - </td><td>122</td><td>50</td></tr><tr><td>136</td><td>Hazel</td><td>Philtanker</td><td>HPHILTAN</td><td>650.127.1634</td><td>06-FEB-08</td><td>ST_CLERK</td><td>2200</td><td> - </td><td>122</td><td>50</td></tr><tr><td>137</td><td>Renske</td><td>Ladwig</td><td>RLADWIG</td><td>650.121.1234</td><td>14-JUL-03</td><td>ST_CLERK</td><td>3600</td><td> - </td><td>123</td><td>50</td></tr><tr><td>138</td><td>Stephen</td><td>Stiles</td><td>SSTILES</td><td>650.121.2034</td><td>26-OCT-05</td><td>ST_CLERK</td><td>3200</td><td> - </td><td>123</td><td>50</td></tr><tr><td>139</td><td>John</td><td>Seo</td><td>JSEO</td><td>650.121.2019</td><td>12-FEB-06</td><td>ST_CLERK</td><td>2700</td><td> - </td><td>123</td><td>50</td></tr><tr><td>140</td><td>Joshua</td><td>Patel</td><td>JPATEL</td><td>650.121.1834</td><td>06-APR-06</td><td>ST_CLERK</td><td>2500</td><td> - </td><td>123</td><td>50</td></tr></tbody></table></div>"
      ]
     },
     "metadata": {
      "application/vnd.databricks.v1+output": {
       "addedWidgets": {},
       "aggData": [],
       "aggError": "",
       "aggOverflow": false,
       "aggSchema": [],
       "aggSeriesLimitReached": false,
       "aggType": "",
       "arguments": {},
       "columnCustomDisplayInfos": {},
       "data": [
        [
         198,
         "Donald",
         "OConnell",
         "DOCONNEL",
         "650.507.9833",
         "21-JUN-07",
         "SH_CLERK",
         2600,
         " - ",
         "124",
         50
        ],
        [
         199,
         "Douglas",
         "Grant",
         "DGRANT",
         "650.507.9844",
         "13-JAN-08",
         "SH_CLERK",
         2600,
         " - ",
         "124",
         50
        ],
        [
         200,
         "Jennifer",
         "Whalen",
         "JWHALEN",
         "515.123.4444",
         "17-SEP-03",
         "AD_ASST",
         4400,
         " - ",
         "101",
         10
        ],
        [
         201,
         "Michael",
         "Hartstein",
         "MHARTSTE",
         "515.123.5555",
         "17-FEB-04",
         "MK_MAN",
         13000,
         " - ",
         "100",
         20
        ],
        [
         202,
         "Pat",
         "Fay",
         "PFAY",
         "603.123.6666",
         "17-AUG-05",
         "MK_REP",
         6000,
         " - ",
         "201",
         20
        ],
        [
         203,
         "Susan",
         "Mavris",
         "SMAVRIS",
         "515.123.7777",
         "07-JUN-02",
         "HR_REP",
         6500,
         " - ",
         "101",
         40
        ],
        [
         204,
         "Hermann",
         "Baer",
         "HBAER",
         "515.123.8888",
         "07-JUN-02",
         "PR_REP",
         10000,
         " - ",
         "101",
         70
        ],
        [
         205,
         "Shelley",
         "Higgins",
         "SHIGGINS",
         "515.123.8080",
         "07-JUN-02",
         "AC_MGR",
         12008,
         " - ",
         "101",
         110
        ],
        [
         206,
         "William",
         "Gietz",
         "WGIETZ",
         "515.123.8181",
         "07-JUN-02",
         "AC_ACCOUNT",
         8300,
         " - ",
         "205",
         110
        ],
        [
         100,
         "Steven",
         "King",
         "SKING",
         "515.123.4567",
         "17-JUN-03",
         "AD_PRES",
         24000,
         " - ",
         " - ",
         90
        ],
        [
         101,
         "Neena",
         "Kochhar",
         "NKOCHHAR",
         "515.123.4568",
         "21-SEP-05",
         "AD_VP",
         17000,
         " - ",
         "100",
         90
        ],
        [
         102,
         "Lex",
         "De Haan",
         "LDEHAAN",
         "515.123.4569",
         "13-JAN-01",
         "AD_VP",
         17000,
         " - ",
         "100",
         90
        ],
        [
         103,
         "Alexander",
         "Hunold",
         "AHUNOLD",
         "590.423.4567",
         "03-JAN-06",
         "IT_PROG",
         9000,
         " - ",
         "102",
         60
        ],
        [
         104,
         "Bruce",
         "Ernst",
         "BERNST",
         "590.423.4568",
         "21-MAY-07",
         "IT_PROG",
         6000,
         " - ",
         "103",
         60
        ],
        [
         105,
         "David",
         "Austin",
         "DAUSTIN",
         "590.423.4569",
         "25-JUN-05",
         "IT_PROG",
         4800,
         " - ",
         "103",
         60
        ],
        [
         106,
         "Valli",
         "Pataballa",
         "VPATABAL",
         "590.423.4560",
         "05-FEB-06",
         "IT_PROG",
         4800,
         " - ",
         "103",
         60
        ],
        [
         107,
         "Diana",
         "Lorentz",
         "DLORENTZ",
         "590.423.5567",
         "07-FEB-07",
         "IT_PROG",
         4200,
         " - ",
         "103",
         60
        ],
        [
         108,
         "Nancy",
         "Greenberg",
         "NGREENBE",
         "515.124.4569",
         "17-AUG-02",
         "FI_MGR",
         12008,
         " - ",
         "101",
         100
        ],
        [
         109,
         "Daniel",
         "Faviet",
         "DFAVIET",
         "515.124.4169",
         "16-AUG-02",
         "FI_ACCOUNT",
         9000,
         " - ",
         "108",
         100
        ],
        [
         110,
         "John",
         "Chen",
         "JCHEN",
         "515.124.4269",
         "28-SEP-05",
         "FI_ACCOUNT",
         8200,
         " - ",
         "108",
         100
        ],
        [
         111,
         "Ismael",
         "Sciarra",
         "ISCIARRA",
         "515.124.4369",
         "30-SEP-05",
         "FI_ACCOUNT",
         7700,
         " - ",
         "108",
         100
        ],
        [
         112,
         "Jose Manuel",
         "Urman",
         "JMURMAN",
         "515.124.4469",
         "07-MAR-06",
         "FI_ACCOUNT",
         7800,
         " - ",
         "108",
         100
        ],
        [
         113,
         "Luis",
         "Popp",
         "LPOPP",
         "515.124.4567",
         "07-DEC-07",
         "FI_ACCOUNT",
         6900,
         " - ",
         "108",
         100
        ],
        [
         114,
         "Den",
         "Raphaely",
         "DRAPHEAL",
         "515.127.4561",
         "07-DEC-02",
         "PU_MAN",
         11000,
         " - ",
         "100",
         30
        ],
        [
         115,
         "Alexander",
         "Khoo",
         "AKHOO",
         "515.127.4562",
         "18-MAY-03",
         "PU_CLERK",
         3100,
         " - ",
         "114",
         30
        ],
        [
         116,
         "Shelli",
         "Baida",
         "SBAIDA",
         "515.127.4563",
         "24-DEC-05",
         "PU_CLERK",
         2900,
         " - ",
         "114",
         30
        ],
        [
         117,
         "Sigal",
         "Tobias",
         "STOBIAS",
         "515.127.4564",
         "24-JUL-05",
         "PU_CLERK",
         2800,
         " - ",
         "114",
         30
        ],
        [
         118,
         "Guy",
         "Himuro",
         "GHIMURO",
         "515.127.4565",
         "15-NOV-06",
         "PU_CLERK",
         2600,
         " - ",
         "114",
         30
        ],
        [
         119,
         "Karen",
         "Colmenares",
         "KCOLMENA",
         "515.127.4566",
         "10-AUG-07",
         "PU_CLERK",
         2500,
         " - ",
         "114",
         30
        ],
        [
         120,
         "Matthew",
         "Weiss",
         "MWEISS",
         "650.123.1234",
         "18-JUL-04",
         "ST_MAN",
         8000,
         " - ",
         "100",
         50
        ],
        [
         121,
         "Adam",
         "Fripp",
         "AFRIPP",
         "650.123.2234",
         "10-APR-05",
         "ST_MAN",
         8200,
         " - ",
         "100",
         50
        ],
        [
         122,
         "Payam",
         "Kaufling",
         "PKAUFLIN",
         "650.123.3234",
         "01-MAY-03",
         "ST_MAN",
         7900,
         " - ",
         "100",
         50
        ],
        [
         123,
         "Shanta",
         "Vollman",
         "SVOLLMAN",
         "650.123.4234",
         "10-OCT-05",
         "ST_MAN",
         6500,
         " - ",
         "100",
         50
        ],
        [
         124,
         "Kevin",
         "Mourgos",
         "KMOURGOS",
         "650.123.5234",
         "16-NOV-07",
         "ST_MAN",
         5800,
         " - ",
         "100",
         50
        ],
        [
         125,
         "Julia",
         "Nayer",
         "JNAYER",
         "650.124.1214",
         "16-JUL-05",
         "ST_CLERK",
         3200,
         " - ",
         "120",
         50
        ],
        [
         126,
         "Irene",
         "Mikkilineni",
         "IMIKKILI",
         "650.124.1224",
         "28-SEP-06",
         "ST_CLERK",
         2700,
         " - ",
         "120",
         50
        ],
        [
         127,
         "James",
         "Landry",
         "JLANDRY",
         "650.124.1334",
         "14-JAN-07",
         "ST_CLERK",
         2400,
         " - ",
         "120",
         50
        ],
        [
         128,
         "Steven",
         "Markle",
         "SMARKLE",
         "650.124.1434",
         "08-MAR-08",
         "ST_CLERK",
         2200,
         " - ",
         "120",
         50
        ],
        [
         129,
         "Laura",
         "Bissot",
         "LBISSOT",
         "650.124.5234",
         "20-AUG-05",
         "ST_CLERK",
         3300,
         " - ",
         "121",
         50
        ],
        [
         130,
         "Mozhe",
         "Atkinson",
         "MATKINSO",
         "650.124.6234",
         "30-OCT-05",
         "ST_CLERK",
         2800,
         " - ",
         "121",
         50
        ],
        [
         131,
         "James",
         "Marlow",
         "JAMRLOW",
         "650.124.7234",
         "16-FEB-05",
         "ST_CLERK",
         2500,
         " - ",
         "121",
         50
        ],
        [
         132,
         "TJ",
         "Olson",
         "TJOLSON",
         "650.124.8234",
         "10-APR-07",
         "ST_CLERK",
         2100,
         " - ",
         "121",
         50
        ],
        [
         133,
         "Jason",
         "Mallin",
         "JMALLIN",
         "650.127.1934",
         "14-JUN-04",
         "ST_CLERK",
         3300,
         " - ",
         "122",
         50
        ],
        [
         134,
         "Michael",
         "Rogers",
         "MROGERS",
         "650.127.1834",
         "26-AUG-06",
         "ST_CLERK",
         2900,
         " - ",
         "122",
         50
        ],
        [
         135,
         "Ki",
         "Gee",
         "KGEE",
         "650.127.1734",
         "12-DEC-07",
         "ST_CLERK",
         2400,
         " - ",
         "122",
         50
        ],
        [
         136,
         "Hazel",
         "Philtanker",
         "HPHILTAN",
         "650.127.1634",
         "06-FEB-08",
         "ST_CLERK",
         2200,
         " - ",
         "122",
         50
        ],
        [
         137,
         "Renske",
         "Ladwig",
         "RLADWIG",
         "650.121.1234",
         "14-JUL-03",
         "ST_CLERK",
         3600,
         " - ",
         "123",
         50
        ],
        [
         138,
         "Stephen",
         "Stiles",
         "SSTILES",
         "650.121.2034",
         "26-OCT-05",
         "ST_CLERK",
         3200,
         " - ",
         "123",
         50
        ],
        [
         139,
         "John",
         "Seo",
         "JSEO",
         "650.121.2019",
         "12-FEB-06",
         "ST_CLERK",
         2700,
         " - ",
         "123",
         50
        ],
        [
         140,
         "Joshua",
         "Patel",
         "JPATEL",
         "650.121.1834",
         "06-APR-06",
         "ST_CLERK",
         2500,
         " - ",
         "123",
         50
        ]
       ],
       "datasetInfos": [
        {
         "name": "_sqldf",
         "schema": {
          "fields": [
           {
            "metadata": {},
            "name": "EMPLOYEE_ID",
            "nullable": true,
            "type": "integer"
           },
           {
            "metadata": {},
            "name": "FIRST_NAME",
            "nullable": true,
            "type": "string"
           },
           {
            "metadata": {},
            "name": "LAST_NAME",
            "nullable": true,
            "type": "string"
           },
           {
            "metadata": {},
            "name": "EMAIL",
            "nullable": true,
            "type": "string"
           },
           {
            "metadata": {},
            "name": "PHONE_NUMBER",
            "nullable": true,
            "type": "string"
           },
           {
            "metadata": {},
            "name": "HIRE_DATE",
            "nullable": true,
            "type": "string"
           },
           {
            "metadata": {},
            "name": "JOB_ID",
            "nullable": true,
            "type": "string"
           },
           {
            "metadata": {},
            "name": "SALARY",
            "nullable": true,
            "type": "integer"
           },
           {
            "metadata": {},
            "name": "COMMISSION_PCT",
            "nullable": true,
            "type": "string"
           },
           {
            "metadata": {},
            "name": "MANAGER_ID",
            "nullable": true,
            "type": "string"
           },
           {
            "metadata": {},
            "name": "DEPARTMENT_ID",
            "nullable": true,
            "type": "integer"
           }
          ],
          "type": "struct"
         },
         "tableIdentifier": null,
         "typeStr": "pyspark.sql.dataframe.DataFrame"
        }
       ],
       "dbfsResultPath": null,
       "isJsonSchema": true,
       "metadata": {
        "createTempViewForImplicitDf": true,
        "dataframeName": "_sqldf",
        "executionCount": 18
       },
       "overflow": false,
       "plotOptions": {
        "customPlotOptions": {},
        "displayType": "table",
        "pivotAggregation": null,
        "pivotColumns": null,
        "xColumns": null,
        "yColumns": null
       },
       "removedWidgets": [],
       "schema": [
        {
         "metadata": "{}",
         "name": "EMPLOYEE_ID",
         "type": "\"integer\""
        },
        {
         "metadata": "{}",
         "name": "FIRST_NAME",
         "type": "\"string\""
        },
        {
         "metadata": "{}",
         "name": "LAST_NAME",
         "type": "\"string\""
        },
        {
         "metadata": "{}",
         "name": "EMAIL",
         "type": "\"string\""
        },
        {
         "metadata": "{}",
         "name": "PHONE_NUMBER",
         "type": "\"string\""
        },
        {
         "metadata": "{}",
         "name": "HIRE_DATE",
         "type": "\"string\""
        },
        {
         "metadata": "{}",
         "name": "JOB_ID",
         "type": "\"string\""
        },
        {
         "metadata": "{}",
         "name": "SALARY",
         "type": "\"integer\""
        },
        {
         "metadata": "{}",
         "name": "COMMISSION_PCT",
         "type": "\"string\""
        },
        {
         "metadata": "{}",
         "name": "MANAGER_ID",
         "type": "\"string\""
        },
        {
         "metadata": "{}",
         "name": "DEPARTMENT_ID",
         "type": "\"integer\""
        }
       ],
       "type": "table"
      }
     },
     "output_type": "display_data"
    }
   ],
   "source": [
    "%sql\n",
    "SELECT * FROM employee"
   ]
  },
  {
   "cell_type": "code",
   "execution_count": 0,
   "metadata": {
    "application/vnd.databricks.v1+cell": {
     "cellMetadata": {
      "byteLimit": 2048000,
      "implicitDf": true,
      "rowLimit": 10000
     },
     "inputWidgets": {},
     "nuid": "54e764e7-988a-4e5e-bd66-4b751cd34c29",
     "showTitle": false,
     "tableResultSettingsMap": {},
     "title": ""
    }
   },
   "outputs": [
    {
     "output_type": "display_data",
     "data": {
      "text/html": [
       "<style scoped>\n",
       "  .table-result-container {\n",
       "    max-height: 300px;\n",
       "    overflow: auto;\n",
       "  }\n",
       "  table, th, td {\n",
       "    border: 1px solid black;\n",
       "    border-collapse: collapse;\n",
       "  }\n",
       "  th, td {\n",
       "    padding: 5px;\n",
       "  }\n",
       "  th {\n",
       "    text-align: left;\n",
       "  }\n",
       "</style><div class='table-result-container'><table class='table-result'><thead style='background-color: white'><tr><th>count(1)</th></tr></thead><tbody><tr><td>50</td></tr></tbody></table></div>"
      ]
     },
     "metadata": {
      "application/vnd.databricks.v1+output": {
       "addedWidgets": {},
       "aggData": [],
       "aggError": "",
       "aggOverflow": false,
       "aggSchema": [],
       "aggSeriesLimitReached": false,
       "aggType": "",
       "arguments": {},
       "columnCustomDisplayInfos": {},
       "data": [
        [
         50
        ]
       ],
       "datasetInfos": [
        {
         "name": "_sqldf",
         "schema": {
          "fields": [
           {
            "metadata": {
             "__autoGeneratedAlias": "true"
            },
            "name": "count(1)",
            "nullable": false,
            "type": "long"
           }
          ],
          "type": "struct"
         },
         "tableIdentifier": null,
         "typeStr": "pyspark.sql.dataframe.DataFrame"
        }
       ],
       "dbfsResultPath": null,
       "isJsonSchema": true,
       "metadata": {
        "createTempViewForImplicitDf": true,
        "dataframeName": "_sqldf",
        "executionCount": 19
       },
       "overflow": false,
       "plotOptions": {
        "customPlotOptions": {},
        "displayType": "table",
        "pivotAggregation": null,
        "pivotColumns": null,
        "xColumns": null,
        "yColumns": null
       },
       "removedWidgets": [],
       "schema": [
        {
         "metadata": "{\"__autoGeneratedAlias\":\"true\"}",
         "name": "count(1)",
         "type": "\"long\""
        }
       ],
       "type": "table"
      }
     },
     "output_type": "display_data"
    }
   ],
   "source": [
    "%sql\n",
    "SELECT COUNT(*) FROM employee;"
   ]
  },
  {
   "cell_type": "code",
   "execution_count": 0,
   "metadata": {
    "application/vnd.databricks.v1+cell": {
     "cellMetadata": {
      "byteLimit": 2048000,
      "implicitDf": true,
      "rowLimit": 10000
     },
     "inputWidgets": {},
     "nuid": "1be2b7c6-f583-44cd-bcfb-c3ba81fa1556",
     "showTitle": false,
     "tableResultSettingsMap": {},
     "title": ""
    }
   },
   "outputs": [
    {
     "output_type": "display_data",
     "data": {
      "text/html": [
       "<style scoped>\n",
       "  .table-result-container {\n",
       "    max-height: 300px;\n",
       "    overflow: auto;\n",
       "  }\n",
       "  table, th, td {\n",
       "    border: 1px solid black;\n",
       "    border-collapse: collapse;\n",
       "  }\n",
       "  th, td {\n",
       "    padding: 5px;\n",
       "  }\n",
       "  th {\n",
       "    text-align: left;\n",
       "  }\n",
       "</style><div class='table-result-container'><table class='table-result'><thead style='background-color: white'><tr><th>DEPARTMENT_ID</th><th>Number Of Employees</th></tr></thead><tbody><tr><td>20</td><td>2</td></tr><tr><td>40</td><td>1</td></tr><tr><td>100</td><td>6</td></tr><tr><td>10</td><td>1</td></tr><tr><td>50</td><td>23</td></tr><tr><td>70</td><td>1</td></tr><tr><td>90</td><td>3</td></tr><tr><td>60</td><td>5</td></tr><tr><td>110</td><td>2</td></tr><tr><td>30</td><td>6</td></tr></tbody></table></div>"
      ]
     },
     "metadata": {
      "application/vnd.databricks.v1+output": {
       "addedWidgets": {},
       "aggData": [],
       "aggError": "",
       "aggOverflow": false,
       "aggSchema": [],
       "aggSeriesLimitReached": false,
       "aggType": "",
       "arguments": {},
       "columnCustomDisplayInfos": {},
       "data": [
        [
         20,
         2
        ],
        [
         40,
         1
        ],
        [
         100,
         6
        ],
        [
         10,
         1
        ],
        [
         50,
         23
        ],
        [
         70,
         1
        ],
        [
         90,
         3
        ],
        [
         60,
         5
        ],
        [
         110,
         2
        ],
        [
         30,
         6
        ]
       ],
       "datasetInfos": [
        {
         "name": "_sqldf",
         "schema": {
          "fields": [
           {
            "metadata": {},
            "name": "DEPARTMENT_ID",
            "nullable": true,
            "type": "integer"
           },
           {
            "metadata": {},
            "name": "Number Of Employees",
            "nullable": false,
            "type": "long"
           }
          ],
          "type": "struct"
         },
         "tableIdentifier": null,
         "typeStr": "pyspark.sql.dataframe.DataFrame"
        }
       ],
       "dbfsResultPath": null,
       "isJsonSchema": true,
       "metadata": {
        "createTempViewForImplicitDf": true,
        "dataframeName": "_sqldf",
        "executionCount": 22
       },
       "overflow": false,
       "plotOptions": {
        "customPlotOptions": {},
        "displayType": "table",
        "pivotAggregation": null,
        "pivotColumns": null,
        "xColumns": null,
        "yColumns": null
       },
       "removedWidgets": [],
       "schema": [
        {
         "metadata": "{}",
         "name": "DEPARTMENT_ID",
         "type": "\"integer\""
        },
        {
         "metadata": "{}",
         "name": "Number Of Employees",
         "type": "\"long\""
        }
       ],
       "type": "table"
      }
     },
     "output_type": "display_data"
    }
   ],
   "source": [
    "%sql\n",
    "SELECT DEPARTMENT_ID, COUNT(*) AS `Number Of Employees`\n",
    "FROM employee\n",
    "GROUP BY DEPARTMENT_ID;"
   ]
  },
  {
   "cell_type": "code",
   "execution_count": 0,
   "metadata": {
    "application/vnd.databricks.v1+cell": {
     "cellMetadata": {
      "byteLimit": 2048000,
      "rowLimit": 10000
     },
     "inputWidgets": {},
     "nuid": "d7b09a98-7768-4500-9097-4b02bea67f57",
     "showTitle": false,
     "tableResultSettingsMap": {},
     "title": ""
    }
   },
   "outputs": [
    {
     "output_type": "display_data",
     "data": {
      "image/png": "[encoded data removed]",
      "text/plain": [
       "<Figure size 640x480 with 1 Axes>"
      ]
     },
     "metadata": {},
     "output_type": "display_data"
    }
   ],
   "source": [
    "pdf = df.toPandas()\n",
    "\n",
    "import matplotlib.pyplot as plt\n",
    "pdf[\"SALARY\"].hist()\n",
    "plt.show()"
   ]
  },
  {
   "cell_type": "code",
   "execution_count": 0,
   "metadata": {
    "application/vnd.databricks.v1+cell": {
     "cellMetadata": {
      "byteLimit": 2048000,
      "implicitDf": true,
      "rowLimit": 10000
     },
     "inputWidgets": {},
     "nuid": "255f1614-b387-49f6-a3fd-21469463a42f",
     "showTitle": false,
     "tableResultSettingsMap": {},
     "title": ""
    }
   },
   "outputs": [
    {
     "output_type": "display_data",
     "data": {
      "text/html": [
       "<style scoped>\n",
       "  .table-result-container {\n",
       "    max-height: 300px;\n",
       "    overflow: auto;\n",
       "  }\n",
       "  table, th, td {\n",
       "    border: 1px solid black;\n",
       "    border-collapse: collapse;\n",
       "  }\n",
       "  th, td {\n",
       "    padding: 5px;\n",
       "  }\n",
       "  th {\n",
       "    text-align: left;\n",
       "  }\n",
       "</style><div class='table-result-container'><table class='table-result'><thead style='background-color: white'><tr><th>version</th><th>timestamp</th><th>userId</th><th>userName</th><th>operation</th><th>operationParameters</th><th>job</th><th>notebook</th><th>clusterId</th><th>readVersion</th><th>isolationLevel</th><th>isBlindAppend</th><th>operationMetrics</th><th>userMetadata</th><th>engineInfo</th></tr></thead><tbody><tr><td>0</td><td>2025-08-18T07:44:22Z</td><td>146386952150351</td><td>azuser4030_mml.local@techademy.com</td><td>CREATE TABLE AS SELECT</td><td>Map(partitionBy -> [], clusterBy -> [], description -> null, isManaged -> true, properties -> {\"delta.enableDeletionVectors\":\"true\"}, statsOnLoad -> false)</td><td>null</td><td>List(4468564998943956)</td><td>0806-091614-zhfbr6hu</td><td>null</td><td>WriteSerializable</td><td>true</td><td>Map(numFiles -> 1, numOutputRows -> 50, numOutputBytes -> 5546)</td><td>null</td><td>Databricks-Runtime/16.4.x-photon-scala2.12</td></tr></tbody></table></div>"
      ]
     },
     "metadata": {
      "application/vnd.databricks.v1+output": {
       "addedWidgets": {},
       "aggData": [],
       "aggError": "",
       "aggOverflow": false,
       "aggSchema": [],
       "aggSeriesLimitReached": false,
       "aggType": "",
       "arguments": {},
       "columnCustomDisplayInfos": {},
       "data": [
        [
         0,
         "2025-08-18T07:44:22Z",
         "146386952150351",
         "azuser4030_mml.local@techademy.com",
         "CREATE TABLE AS SELECT",
         {
          "clusterBy": "[]",
          "description": null,
          "isManaged": "true",
          "partitionBy": "[]",
          "properties": "{\"delta.enableDeletionVectors\":\"true\"}",
          "statsOnLoad": "false"
         },
         null,
         [
          "4468564998943956"
         ],
         "0806-091614-zhfbr6hu",
         null,
         "WriteSerializable",
         true,
         {
          "numFiles": "1",
          "numOutputBytes": "5546",
          "numOutputRows": "50"
         },
         null,
         "Databricks-Runtime/16.4.x-photon-scala2.12"
        ]
       ],
       "datasetInfos": [
        {
         "name": "_sqldf",
         "schema": {
          "fields": [
           {
            "metadata": {},
            "name": "version",
            "nullable": true,
            "type": "long"
           },
           {
            "metadata": {},
            "name": "timestamp",
            "nullable": true,
            "type": "timestamp"
           },
           {
            "metadata": {},
            "name": "userId",
            "nullable": true,
            "type": "string"
           },
           {
            "metadata": {},
            "name": "userName",
            "nullable": true,
            "type": "string"
           },
           {
            "metadata": {},
            "name": "operation",
            "nullable": true,
            "type": "string"
           },
           {
            "metadata": {},
            "name": "operationParameters",
            "nullable": true,
            "type": {
             "keyType": "string",
             "type": "map",
             "valueContainsNull": true,
             "valueType": "string"
            }
           },
           {
            "metadata": {},
            "name": "job",
            "nullable": true,
            "type": {
             "fields": [
              {
               "metadata": {},
               "name": "jobId",
               "nullable": true,
               "type": "string"
              },
              {
               "metadata": {},
               "name": "jobName",
               "nullable": true,
               "type": "string"
              },
              {
               "metadata": {},
               "name": "jobRunId",
               "nullable": true,
               "type": "string"
              },
              {
               "metadata": {},
               "name": "runId",
               "nullable": true,
               "type": "string"
              },
              {
               "metadata": {},
               "name": "jobOwnerId",
               "nullable": true,
               "type": "string"
              },
              {
               "metadata": {},
               "name": "triggerType",
               "nullable": true,
               "type": "string"
              }
             ],
             "type": "struct"
            }
           },
           {
            "metadata": {},
            "name": "notebook",
            "nullable": true,
            "type": {
             "fields": [
              {
               "metadata": {},
               "name": "notebookId",
               "nullable": true,
               "type": "string"
              }
             ],
             "type": "struct"
            }
           },
           {
            "metadata": {},
            "name": "clusterId",
            "nullable": true,
            "type": "string"
           },
           {
            "metadata": {},
            "name": "readVersion",
            "nullable": true,
            "type": "long"
           },
           {
            "metadata": {},
            "name": "isolationLevel",
            "nullable": true,
            "type": "string"
           },
           {
            "metadata": {},
            "name": "isBlindAppend",
            "nullable": true,
            "type": "boolean"
           },
           {
            "metadata": {},
            "name": "operationMetrics",
            "nullable": true,
            "type": {
             "keyType": "string",
             "type": "map",
             "valueContainsNull": true,
             "valueType": "string"
            }
           },
           {
            "metadata": {},
            "name": "userMetadata",
            "nullable": true,
            "type": "string"
           },
           {
            "metadata": {},
            "name": "engineInfo",
            "nullable": true,
            "type": "string"
           }
          ],
          "type": "struct"
         },
         "tableIdentifier": null,
         "typeStr": "pyspark.sql.dataframe.DataFrame"
        }
       ],
       "dbfsResultPath": null,
       "isJsonSchema": true,
       "metadata": {
        "createTempViewForImplicitDf": true,
        "dataframeName": "_sqldf",
        "executionCount": 25
       },
       "overflow": false,
       "plotOptions": {
        "customPlotOptions": {},
        "displayType": "table",
        "pivotAggregation": null,
        "pivotColumns": null,
        "xColumns": null,
        "yColumns": null
       },
       "removedWidgets": [],
       "schema": [
        {
         "metadata": "{}",
         "name": "version",
         "type": "\"long\""
        },
        {
         "metadata": "{}",
         "name": "timestamp",
         "type": "\"timestamp\""
        },
        {
         "metadata": "{}",
         "name": "userId",
         "type": "\"string\""
        },
        {
         "metadata": "{}",
         "name": "userName",
         "type": "\"string\""
        },
        {
         "metadata": "{}",
         "name": "operation",
         "type": "\"string\""
        },
        {
         "metadata": "{}",
         "name": "operationParameters",
         "type": "{\"type\":\"map\",\"keyType\":\"string\",\"valueType\":\"string\",\"valueContainsNull\":true}"
        },
        {
         "metadata": "{}",
         "name": "job",
         "type": "{\"type\":\"struct\",\"fields\":[{\"name\":\"jobId\",\"type\":\"string\",\"nullable\":true,\"metadata\":{}},{\"name\":\"jobName\",\"type\":\"string\",\"nullable\":true,\"metadata\":{}},{\"name\":\"jobRunId\",\"type\":\"string\",\"nullable\":true,\"metadata\":{}},{\"name\":\"runId\",\"type\":\"string\",\"nullable\":true,\"metadata\":{}},{\"name\":\"jobOwnerId\",\"type\":\"string\",\"nullable\":true,\"metadata\":{}},{\"name\":\"triggerType\",\"type\":\"string\",\"nullable\":true,\"metadata\":{}}]}"
        },
        {
         "metadata": "{}",
         "name": "notebook",
         "type": "{\"type\":\"struct\",\"fields\":[{\"name\":\"notebookId\",\"type\":\"string\",\"nullable\":true,\"metadata\":{}}]}"
        },
        {
         "metadata": "{}",
         "name": "clusterId",
         "type": "\"string\""
        },
        {
         "metadata": "{}",
         "name": "readVersion",
         "type": "\"long\""
        },
        {
         "metadata": "{}",
         "name": "isolationLevel",
         "type": "\"string\""
        },
        {
         "metadata": "{}",
         "name": "isBlindAppend",
         "type": "\"boolean\""
        },
        {
         "metadata": "{}",
         "name": "operationMetrics",
         "type": "{\"type\":\"map\",\"keyType\":\"string\",\"valueType\":\"string\",\"valueContainsNull\":true}"
        },
        {
         "metadata": "{}",
         "name": "userMetadata",
         "type": "\"string\""
        },
        {
         "metadata": "{}",
         "name": "engineInfo",
         "type": "\"string\""
        }
       ],
       "type": "table"
      }
     },
     "output_type": "display_data"
    }
   ],
   "source": [
    "%sql\n",
    "DESCRIBE HISTORY employee;"
   ]
  },
  {
   "cell_type": "code",
   "execution_count": 0,
   "metadata": {
    "application/vnd.databricks.v1+cell": {
     "cellMetadata": {
      "byteLimit": 2048000,
      "implicitDf": true,
      "rowLimit": 10000
     },
     "inputWidgets": {},
     "nuid": "731761ea-a681-4d2b-86f6-0ff7a8d27f47",
     "showTitle": false,
     "tableResultSettingsMap": {},
     "title": ""
    }
   },
   "outputs": [
    {
     "output_type": "display_data",
     "data": {
      "text/html": [
       "<style scoped>\n",
       "  .table-result-container {\n",
       "    max-height: 300px;\n",
       "    overflow: auto;\n",
       "  }\n",
       "  table, th, td {\n",
       "    border: 1px solid black;\n",
       "    border-collapse: collapse;\n",
       "  }\n",
       "  th, td {\n",
       "    padding: 5px;\n",
       "  }\n",
       "  th {\n",
       "    text-align: left;\n",
       "  }\n",
       "</style><div class='table-result-container'><table class='table-result'><thead style='background-color: white'><tr><th>num_affected_rows</th></tr></thead><tbody><tr><td>1</td></tr></tbody></table></div>"
      ]
     },
     "metadata": {
      "application/vnd.databricks.v1+output": {
       "addedWidgets": {},
       "aggData": [],
       "aggError": "",
       "aggOverflow": false,
       "aggSchema": [],
       "aggSeriesLimitReached": false,
       "aggType": "",
       "arguments": {},
       "columnCustomDisplayInfos": {},
       "data": [
        [
         1
        ]
       ],
       "datasetInfos": [
        {
         "name": "_sqldf",
         "schema": {
          "fields": [
           {
            "metadata": {},
            "name": "num_affected_rows",
            "nullable": true,
            "type": "long"
           }
          ],
          "type": "struct"
         },
         "tableIdentifier": null,
         "typeStr": "pyspark.sql.dataframe.DataFrame"
        }
       ],
       "dbfsResultPath": null,
       "isJsonSchema": true,
       "metadata": {
        "createTempViewForImplicitDf": true,
        "dataframeName": "_sqldf",
        "executionCount": 26
       },
       "overflow": false,
       "plotOptions": {
        "customPlotOptions": {},
        "displayType": "table",
        "pivotAggregation": null,
        "pivotColumns": null,
        "xColumns": null,
        "yColumns": null
       },
       "removedWidgets": [],
       "schema": [
        {
         "metadata": "{}",
         "name": "num_affected_rows",
         "type": "\"long\""
        }
       ],
       "type": "table"
      }
     },
     "output_type": "display_data"
    }
   ],
   "source": [
    "%sql\n",
    "DELETE FROM employee WHERE EMPLOYEE_ID = 104;"
   ]
  },
  {
   "cell_type": "code",
   "execution_count": 0,
   "metadata": {
    "application/vnd.databricks.v1+cell": {
     "cellMetadata": {
      "byteLimit": 2048000,
      "implicitDf": true,
      "rowLimit": 10000
     },
     "inputWidgets": {},
     "nuid": "b0b14ee6-9b42-4d48-8a2d-780aa3e31e28",
     "showTitle": false,
     "tableResultSettingsMap": {},
     "title": ""
    }
   },
   "outputs": [
    {
     "output_type": "display_data",
     "data": {
      "text/html": [
       "<style scoped>\n",
       "  .table-result-container {\n",
       "    max-height: 300px;\n",
       "    overflow: auto;\n",
       "  }\n",
       "  table, th, td {\n",
       "    border: 1px solid black;\n",
       "    border-collapse: collapse;\n",
       "  }\n",
       "  th, td {\n",
       "    padding: 5px;\n",
       "  }\n",
       "  th {\n",
       "    text-align: left;\n",
       "  }\n",
       "</style><div class='table-result-container'><table class='table-result'><thead style='background-color: white'><tr><th>num_affected_rows</th></tr></thead><tbody><tr><td>1</td></tr></tbody></table></div>"
      ]
     },
     "metadata": {
      "application/vnd.databricks.v1+output": {
       "addedWidgets": {},
       "aggData": [],
       "aggError": "",
       "aggOverflow": false,
       "aggSchema": [],
       "aggSeriesLimitReached": false,
       "aggType": "",
       "arguments": {},
       "columnCustomDisplayInfos": {},
       "data": [
        [
         1
        ]
       ],
       "datasetInfos": [
        {
         "name": "_sqldf",
         "schema": {
          "fields": [
           {
            "metadata": {},
            "name": "num_affected_rows",
            "nullable": true,
            "type": "long"
           }
          ],
          "type": "struct"
         },
         "tableIdentifier": null,
         "typeStr": "pyspark.sql.dataframe.DataFrame"
        }
       ],
       "dbfsResultPath": null,
       "isJsonSchema": true,
       "metadata": {
        "createTempViewForImplicitDf": true,
        "dataframeName": "_sqldf",
        "executionCount": 28
       },
       "overflow": false,
       "plotOptions": {
        "customPlotOptions": {},
        "displayType": "table",
        "pivotAggregation": null,
        "pivotColumns": null,
        "xColumns": null,
        "yColumns": null
       },
       "removedWidgets": [],
       "schema": [
        {
         "metadata": "{}",
         "name": "num_affected_rows",
         "type": "\"long\""
        }
       ],
       "type": "table"
      }
     },
     "output_type": "display_data"
    }
   ],
   "source": [
    "%sql\n",
    "DELETE FROM employee WHERE EMPLOYEE_ID = 198;"
   ]
  },
  {
   "cell_type": "code",
   "execution_count": 0,
   "metadata": {
    "application/vnd.databricks.v1+cell": {
     "cellMetadata": {
      "byteLimit": 2048000,
      "implicitDf": true,
      "rowLimit": 10000
     },
     "inputWidgets": {},
     "nuid": "b26853ed-452a-4c7f-aecc-b21a7ce96166",
     "showTitle": false,
     "tableResultSettingsMap": {},
     "title": ""
    }
   },
   "outputs": [
    {
     "output_type": "display_data",
     "data": {
      "text/html": [
       "<style scoped>\n",
       "  .table-result-container {\n",
       "    max-height: 300px;\n",
       "    overflow: auto;\n",
       "  }\n",
       "  table, th, td {\n",
       "    border: 1px solid black;\n",
       "    border-collapse: collapse;\n",
       "  }\n",
       "  th, td {\n",
       "    padding: 5px;\n",
       "  }\n",
       "  th {\n",
       "    text-align: left;\n",
       "  }\n",
       "</style><div class='table-result-container'><table class='table-result'><thead style='background-color: white'><tr><th>version</th><th>timestamp</th><th>userId</th><th>userName</th><th>operation</th><th>operationParameters</th><th>job</th><th>notebook</th><th>clusterId</th><th>readVersion</th><th>isolationLevel</th><th>isBlindAppend</th><th>operationMetrics</th><th>userMetadata</th><th>engineInfo</th></tr></thead><tbody><tr><td>3</td><td>2025-08-18T07:53:22Z</td><td>146386952150351</td><td>azuser4030_mml.local@techademy.com</td><td>DELETE</td><td>Map(predicate -> [\"(EMPLOYEE_ID#5234 = 198)\"])</td><td>null</td><td>List(4468564998943956)</td><td>0806-091614-zhfbr6hu</td><td>2</td><td>WriteSerializable</td><td>false</td><td>Map(numRemovedFiles -> 0, numRemovedBytes -> 0, numCopiedRows -> 0, numDeletionVectorsAdded -> 1, numDeletionVectorsRemoved -> 1, numAddedChangeFiles -> 0, executionTimeMs -> 1121, numDeletionVectorsUpdated -> 1, numDeletedRows -> 1, scanTimeMs -> 797, numAddedFiles -> 0, numAddedBytes -> 0, rewriteTimeMs -> 323)</td><td>null</td><td>Databricks-Runtime/16.4.x-photon-scala2.12</td></tr><tr><td>2</td><td>2025-08-18T07:53:12Z</td><td>146386952150351</td><td>azuser4030_mml.local@techademy.com</td><td>DELETE</td><td>Map(predicate -> [\"(EMPLOYEE_ID#5094 = 298)\"])</td><td>null</td><td>List(4468564998943956)</td><td>0806-091614-zhfbr6hu</td><td>1</td><td>WriteSerializable</td><td>false</td><td>Map(numRemovedFiles -> 0, numRemovedBytes -> 0, numCopiedRows -> 0, numDeletionVectorsAdded -> 0, numDeletionVectorsRemoved -> 0, numAddedChangeFiles -> 0, executionTimeMs -> 265, numDeletionVectorsUpdated -> 0, numDeletedRows -> 0, scanTimeMs -> 262, numAddedFiles -> 0, numAddedBytes -> 0, rewriteTimeMs -> 0)</td><td>null</td><td>Databricks-Runtime/16.4.x-photon-scala2.12</td></tr><tr><td>1</td><td>2025-08-18T07:52:57Z</td><td>146386952150351</td><td>azuser4030_mml.local@techademy.com</td><td>DELETE</td><td>Map(predicate -> [\"(EMPLOYEE_ID#4748 = 104)\"])</td><td>null</td><td>List(4468564998943956)</td><td>0806-091614-zhfbr6hu</td><td>0</td><td>WriteSerializable</td><td>false</td><td>Map(numRemovedFiles -> 0, numRemovedBytes -> 0, numCopiedRows -> 0, numDeletionVectorsAdded -> 1, numDeletionVectorsRemoved -> 0, numAddedChangeFiles -> 0, executionTimeMs -> 1103, numDeletionVectorsUpdated -> 0, numDeletedRows -> 1, scanTimeMs -> 686, numAddedFiles -> 0, numAddedBytes -> 0, rewriteTimeMs -> 417)</td><td>null</td><td>Databricks-Runtime/16.4.x-photon-scala2.12</td></tr><tr><td>0</td><td>2025-08-18T07:44:22Z</td><td>146386952150351</td><td>azuser4030_mml.local@techademy.com</td><td>CREATE TABLE AS SELECT</td><td>Map(partitionBy -> [], clusterBy -> [], description -> null, isManaged -> true, properties -> {\"delta.enableDeletionVectors\":\"true\"}, statsOnLoad -> false)</td><td>null</td><td>List(4468564998943956)</td><td>0806-091614-zhfbr6hu</td><td>null</td><td>WriteSerializable</td><td>true</td><td>Map(numFiles -> 1, numOutputRows -> 50, numOutputBytes -> 5546)</td><td>null</td><td>Databricks-Runtime/16.4.x-photon-scala2.12</td></tr></tbody></table></div>"
      ]
     },
     "metadata": {
      "application/vnd.databricks.v1+output": {
       "addedWidgets": {},
       "aggData": [],
       "aggError": "",
       "aggOverflow": false,
       "aggSchema": [],
       "aggSeriesLimitReached": false,
       "aggType": "",
       "arguments": {},
       "columnCustomDisplayInfos": {},
       "data": [
        [
         3,
         "2025-08-18T07:53:22Z",
         "146386952150351",
         "azuser4030_mml.local@techademy.com",
         "DELETE",
         {
          "predicate": "[\"(EMPLOYEE_ID#5234 = 198)\"]"
         },
         null,
         [
          "4468564998943956"
         ],
         "0806-091614-zhfbr6hu",
         2,
         "WriteSerializable",
         false,
         {
          "executionTimeMs": "1121",
          "numAddedBytes": "0",
          "numAddedChangeFiles": "0",
          "numAddedFiles": "0",
          "numCopiedRows": "0",
          "numDeletedRows": "1",
          "numDeletionVectorsAdded": "1",
          "numDeletionVectorsRemoved": "1",
          "numDeletionVectorsUpdated": "1",
          "numRemovedBytes": "0",
          "numRemovedFiles": "0",
          "rewriteTimeMs": "323",
          "scanTimeMs": "797"
         },
         null,
         "Databricks-Runtime/16.4.x-photon-scala2.12"
        ],
        [
         2,
         "2025-08-18T07:53:12Z",
         "146386952150351",
         "azuser4030_mml.local@techademy.com",
         "DELETE",
         {
          "predicate": "[\"(EMPLOYEE_ID#5094 = 298)\"]"
         },
         null,
         [
          "4468564998943956"
         ],
         "0806-091614-zhfbr6hu",
         1,
         "WriteSerializable",
         false,
         {
          "executionTimeMs": "265",
          "numAddedBytes": "0",
          "numAddedChangeFiles": "0",
          "numAddedFiles": "0",
          "numCopiedRows": "0",
          "numDeletedRows": "0",
          "numDeletionVectorsAdded": "0",
          "numDeletionVectorsRemoved": "0",
          "numDeletionVectorsUpdated": "0",
          "numRemovedBytes": "0",
          "numRemovedFiles": "0",
          "rewriteTimeMs": "0",
          "scanTimeMs": "262"
         },
         null,
         "Databricks-Runtime/16.4.x-photon-scala2.12"
        ],
        [
         1,
         "2025-08-18T07:52:57Z",
         "146386952150351",
         "azuser4030_mml.local@techademy.com",
         "DELETE",
         {
          "predicate": "[\"(EMPLOYEE_ID#4748 = 104)\"]"
         },
         null,
         [
          "4468564998943956"
         ],
         "0806-091614-zhfbr6hu",
         0,
         "WriteSerializable",
         false,
         {
          "executionTimeMs": "1103",
          "numAddedBytes": "0",
          "numAddedChangeFiles": "0",
          "numAddedFiles": "0",
          "numCopiedRows": "0",
          "numDeletedRows": "1",
          "numDeletionVectorsAdded": "1",
          "numDeletionVectorsRemoved": "0",
          "numDeletionVectorsUpdated": "0",
          "numRemovedBytes": "0",
          "numRemovedFiles": "0",
          "rewriteTimeMs": "417",
          "scanTimeMs": "686"
         },
         null,
         "Databricks-Runtime/16.4.x-photon-scala2.12"
        ],
        [
         0,
         "2025-08-18T07:44:22Z",
         "146386952150351",
         "azuser4030_mml.local@techademy.com",
         "CREATE TABLE AS SELECT",
         {
          "clusterBy": "[]",
          "description": null,
          "isManaged": "true",
          "partitionBy": "[]",
          "properties": "{\"delta.enableDeletionVectors\":\"true\"}",
          "statsOnLoad": "false"
         },
         null,
         [
          "4468564998943956"
         ],
         "0806-091614-zhfbr6hu",
         null,
         "WriteSerializable",
         true,
         {
          "numFiles": "1",
          "numOutputBytes": "5546",
          "numOutputRows": "50"
         },
         null,
         "Databricks-Runtime/16.4.x-photon-scala2.12"
        ]
       ],
       "datasetInfos": [
        {
         "name": "_sqldf",
         "schema": {
          "fields": [
           {
            "metadata": {},
            "name": "version",
            "nullable": true,
            "type": "long"
           },
           {
            "metadata": {},
            "name": "timestamp",
            "nullable": true,
            "type": "timestamp"
           },
           {
            "metadata": {},
            "name": "userId",
            "nullable": true,
            "type": "string"
           },
           {
            "metadata": {},
            "name": "userName",
            "nullable": true,
            "type": "string"
           },
           {
            "metadata": {},
            "name": "operation",
            "nullable": true,
            "type": "string"
           },
           {
            "metadata": {},
            "name": "operationParameters",
            "nullable": true,
            "type": {
             "keyType": "string",
             "type": "map",
             "valueContainsNull": true,
             "valueType": "string"
            }
           },
           {
            "metadata": {},
            "name": "job",
            "nullable": true,
            "type": {
             "fields": [
              {
               "metadata": {},
               "name": "jobId",
               "nullable": true,
               "type": "string"
              },
              {
               "metadata": {},
               "name": "jobName",
               "nullable": true,
               "type": "string"
              },
              {
               "metadata": {},
               "name": "jobRunId",
               "nullable": true,
               "type": "string"
              },
              {
               "metadata": {},
               "name": "runId",
               "nullable": true,
               "type": "string"
              },
              {
               "metadata": {},
               "name": "jobOwnerId",
               "nullable": true,
               "type": "string"
              },
              {
               "metadata": {},
               "name": "triggerType",
               "nullable": true,
               "type": "string"
              }
             ],
             "type": "struct"
            }
           },
           {
            "metadata": {},
            "name": "notebook",
            "nullable": true,
            "type": {
             "fields": [
              {
               "metadata": {},
               "name": "notebookId",
               "nullable": true,
               "type": "string"
              }
             ],
             "type": "struct"
            }
           },
           {
            "metadata": {},
            "name": "clusterId",
            "nullable": true,
            "type": "string"
           },
           {
            "metadata": {},
            "name": "readVersion",
            "nullable": true,
            "type": "long"
           },
           {
            "metadata": {},
            "name": "isolationLevel",
            "nullable": true,
            "type": "string"
           },
           {
            "metadata": {},
            "name": "isBlindAppend",
            "nullable": true,
            "type": "boolean"
           },
           {
            "metadata": {},
            "name": "operationMetrics",
            "nullable": true,
            "type": {
             "keyType": "string",
             "type": "map",
             "valueContainsNull": true,
             "valueType": "string"
            }
           },
           {
            "metadata": {},
            "name": "userMetadata",
            "nullable": true,
            "type": "string"
           },
           {
            "metadata": {},
            "name": "engineInfo",
            "nullable": true,
            "type": "string"
           }
          ],
          "type": "struct"
         },
         "tableIdentifier": null,
         "typeStr": "pyspark.sql.dataframe.DataFrame"
        }
       ],
       "dbfsResultPath": null,
       "isJsonSchema": true,
       "metadata": {
        "createTempViewForImplicitDf": true,
        "dataframeName": "_sqldf",
        "executionCount": 29
       },
       "overflow": false,
       "plotOptions": {
        "customPlotOptions": {},
        "displayType": "table",
        "pivotAggregation": null,
        "pivotColumns": null,
        "xColumns": null,
        "yColumns": null
       },
       "removedWidgets": [],
       "schema": [
        {
         "metadata": "{}",
         "name": "version",
         "type": "\"long\""
        },
        {
         "metadata": "{}",
         "name": "timestamp",
         "type": "\"timestamp\""
        },
        {
         "metadata": "{}",
         "name": "userId",
         "type": "\"string\""
        },
        {
         "metadata": "{}",
         "name": "userName",
         "type": "\"string\""
        },
        {
         "metadata": "{}",
         "name": "operation",
         "type": "\"string\""
        },
        {
         "metadata": "{}",
         "name": "operationParameters",
         "type": "{\"type\":\"map\",\"keyType\":\"string\",\"valueType\":\"string\",\"valueContainsNull\":true}"
        },
        {
         "metadata": "{}",
         "name": "job",
         "type": "{\"type\":\"struct\",\"fields\":[{\"name\":\"jobId\",\"type\":\"string\",\"nullable\":true,\"metadata\":{}},{\"name\":\"jobName\",\"type\":\"string\",\"nullable\":true,\"metadata\":{}},{\"name\":\"jobRunId\",\"type\":\"string\",\"nullable\":true,\"metadata\":{}},{\"name\":\"runId\",\"type\":\"string\",\"nullable\":true,\"metadata\":{}},{\"name\":\"jobOwnerId\",\"type\":\"string\",\"nullable\":true,\"metadata\":{}},{\"name\":\"triggerType\",\"type\":\"string\",\"nullable\":true,\"metadata\":{}}]}"
        },
        {
         "metadata": "{}",
         "name": "notebook",
         "type": "{\"type\":\"struct\",\"fields\":[{\"name\":\"notebookId\",\"type\":\"string\",\"nullable\":true,\"metadata\":{}}]}"
        },
        {
         "metadata": "{}",
         "name": "clusterId",
         "type": "\"string\""
        },
        {
         "metadata": "{}",
         "name": "readVersion",
         "type": "\"long\""
        },
        {
         "metadata": "{}",
         "name": "isolationLevel",
         "type": "\"string\""
        },
        {
         "metadata": "{}",
         "name": "isBlindAppend",
         "type": "\"boolean\""
        },
        {
         "metadata": "{}",
         "name": "operationMetrics",
         "type": "{\"type\":\"map\",\"keyType\":\"string\",\"valueType\":\"string\",\"valueContainsNull\":true}"
        },
        {
         "metadata": "{}",
         "name": "userMetadata",
         "type": "\"string\""
        },
        {
         "metadata": "{}",
         "name": "engineInfo",
         "type": "\"string\""
        }
       ],
       "type": "table"
      }
     },
     "output_type": "display_data"
    }
   ],
   "source": [
    "%sql\n",
    "DESCRIBE HISTORY employee;"
   ]
  },
  {
   "cell_type": "code",
   "execution_count": 0,
   "metadata": {
    "application/vnd.databricks.v1+cell": {
     "cellMetadata": {
      "byteLimit": 2048000,
      "implicitDf": true,
      "rowLimit": 10000
     },
     "inputWidgets": {},
     "nuid": "5a922482-c2a1-44c5-8110-044731c5597b",
     "showTitle": false,
     "tableResultSettingsMap": {},
     "title": ""
    }
   },
   "outputs": [
    {
     "output_type": "display_data",
     "data": {
      "text/html": [
       "<style scoped>\n",
       "  .table-result-container {\n",
       "    max-height: 300px;\n",
       "    overflow: auto;\n",
       "  }\n",
       "  table, th, td {\n",
       "    border: 1px solid black;\n",
       "    border-collapse: collapse;\n",
       "  }\n",
       "  th, td {\n",
       "    padding: 5px;\n",
       "  }\n",
       "  th {\n",
       "    text-align: left;\n",
       "  }\n",
       "</style><div class='table-result-container'><table class='table-result'><thead style='background-color: white'><tr><th>EMPLOYEE_ID</th><th>FIRST_NAME</th><th>LAST_NAME</th><th>EMAIL</th><th>PHONE_NUMBER</th><th>HIRE_DATE</th><th>JOB_ID</th><th>SALARY</th><th>COMMISSION_PCT</th><th>MANAGER_ID</th><th>DEPARTMENT_ID</th></tr></thead><tbody><tr><td>198</td><td>Donald</td><td>OConnell</td><td>DOCONNEL</td><td>650.507.9833</td><td>21-JUN-07</td><td>SH_CLERK</td><td>2600</td><td> - </td><td>124</td><td>50</td></tr><tr><td>199</td><td>Douglas</td><td>Grant</td><td>DGRANT</td><td>650.507.9844</td><td>13-JAN-08</td><td>SH_CLERK</td><td>2600</td><td> - </td><td>124</td><td>50</td></tr><tr><td>200</td><td>Jennifer</td><td>Whalen</td><td>JWHALEN</td><td>515.123.4444</td><td>17-SEP-03</td><td>AD_ASST</td><td>4400</td><td> - </td><td>101</td><td>10</td></tr><tr><td>201</td><td>Michael</td><td>Hartstein</td><td>MHARTSTE</td><td>515.123.5555</td><td>17-FEB-04</td><td>MK_MAN</td><td>13000</td><td> - </td><td>100</td><td>20</td></tr><tr><td>202</td><td>Pat</td><td>Fay</td><td>PFAY</td><td>603.123.6666</td><td>17-AUG-05</td><td>MK_REP</td><td>6000</td><td> - </td><td>201</td><td>20</td></tr><tr><td>203</td><td>Susan</td><td>Mavris</td><td>SMAVRIS</td><td>515.123.7777</td><td>07-JUN-02</td><td>HR_REP</td><td>6500</td><td> - </td><td>101</td><td>40</td></tr><tr><td>204</td><td>Hermann</td><td>Baer</td><td>HBAER</td><td>515.123.8888</td><td>07-JUN-02</td><td>PR_REP</td><td>10000</td><td> - </td><td>101</td><td>70</td></tr><tr><td>205</td><td>Shelley</td><td>Higgins</td><td>SHIGGINS</td><td>515.123.8080</td><td>07-JUN-02</td><td>AC_MGR</td><td>12008</td><td> - </td><td>101</td><td>110</td></tr><tr><td>206</td><td>William</td><td>Gietz</td><td>WGIETZ</td><td>515.123.8181</td><td>07-JUN-02</td><td>AC_ACCOUNT</td><td>8300</td><td> - </td><td>205</td><td>110</td></tr><tr><td>100</td><td>Steven</td><td>King</td><td>SKING</td><td>515.123.4567</td><td>17-JUN-03</td><td>AD_PRES</td><td>24000</td><td> - </td><td> - </td><td>90</td></tr><tr><td>101</td><td>Neena</td><td>Kochhar</td><td>NKOCHHAR</td><td>515.123.4568</td><td>21-SEP-05</td><td>AD_VP</td><td>17000</td><td> - </td><td>100</td><td>90</td></tr><tr><td>102</td><td>Lex</td><td>De Haan</td><td>LDEHAAN</td><td>515.123.4569</td><td>13-JAN-01</td><td>AD_VP</td><td>17000</td><td> - </td><td>100</td><td>90</td></tr><tr><td>103</td><td>Alexander</td><td>Hunold</td><td>AHUNOLD</td><td>590.423.4567</td><td>03-JAN-06</td><td>IT_PROG</td><td>9000</td><td> - </td><td>102</td><td>60</td></tr><tr><td>105</td><td>David</td><td>Austin</td><td>DAUSTIN</td><td>590.423.4569</td><td>25-JUN-05</td><td>IT_PROG</td><td>4800</td><td> - </td><td>103</td><td>60</td></tr><tr><td>106</td><td>Valli</td><td>Pataballa</td><td>VPATABAL</td><td>590.423.4560</td><td>05-FEB-06</td><td>IT_PROG</td><td>4800</td><td> - </td><td>103</td><td>60</td></tr><tr><td>107</td><td>Diana</td><td>Lorentz</td><td>DLORENTZ</td><td>590.423.5567</td><td>07-FEB-07</td><td>IT_PROG</td><td>4200</td><td> - </td><td>103</td><td>60</td></tr><tr><td>108</td><td>Nancy</td><td>Greenberg</td><td>NGREENBE</td><td>515.124.4569</td><td>17-AUG-02</td><td>FI_MGR</td><td>12008</td><td> - </td><td>101</td><td>100</td></tr><tr><td>109</td><td>Daniel</td><td>Faviet</td><td>DFAVIET</td><td>515.124.4169</td><td>16-AUG-02</td><td>FI_ACCOUNT</td><td>9000</td><td> - </td><td>108</td><td>100</td></tr><tr><td>110</td><td>John</td><td>Chen</td><td>JCHEN</td><td>515.124.4269</td><td>28-SEP-05</td><td>FI_ACCOUNT</td><td>8200</td><td> - </td><td>108</td><td>100</td></tr><tr><td>111</td><td>Ismael</td><td>Sciarra</td><td>ISCIARRA</td><td>515.124.4369</td><td>30-SEP-05</td><td>FI_ACCOUNT</td><td>7700</td><td> - </td><td>108</td><td>100</td></tr><tr><td>112</td><td>Jose Manuel</td><td>Urman</td><td>JMURMAN</td><td>515.124.4469</td><td>07-MAR-06</td><td>FI_ACCOUNT</td><td>7800</td><td> - </td><td>108</td><td>100</td></tr><tr><td>113</td><td>Luis</td><td>Popp</td><td>LPOPP</td><td>515.124.4567</td><td>07-DEC-07</td><td>FI_ACCOUNT</td><td>6900</td><td> - </td><td>108</td><td>100</td></tr><tr><td>114</td><td>Den</td><td>Raphaely</td><td>DRAPHEAL</td><td>515.127.4561</td><td>07-DEC-02</td><td>PU_MAN</td><td>11000</td><td> - </td><td>100</td><td>30</td></tr><tr><td>115</td><td>Alexander</td><td>Khoo</td><td>AKHOO</td><td>515.127.4562</td><td>18-MAY-03</td><td>PU_CLERK</td><td>3100</td><td> - </td><td>114</td><td>30</td></tr><tr><td>116</td><td>Shelli</td><td>Baida</td><td>SBAIDA</td><td>515.127.4563</td><td>24-DEC-05</td><td>PU_CLERK</td><td>2900</td><td> - </td><td>114</td><td>30</td></tr><tr><td>117</td><td>Sigal</td><td>Tobias</td><td>STOBIAS</td><td>515.127.4564</td><td>24-JUL-05</td><td>PU_CLERK</td><td>2800</td><td> - </td><td>114</td><td>30</td></tr><tr><td>118</td><td>Guy</td><td>Himuro</td><td>GHIMURO</td><td>515.127.4565</td><td>15-NOV-06</td><td>PU_CLERK</td><td>2600</td><td> - </td><td>114</td><td>30</td></tr><tr><td>119</td><td>Karen</td><td>Colmenares</td><td>KCOLMENA</td><td>515.127.4566</td><td>10-AUG-07</td><td>PU_CLERK</td><td>2500</td><td> - </td><td>114</td><td>30</td></tr><tr><td>120</td><td>Matthew</td><td>Weiss</td><td>MWEISS</td><td>650.123.1234</td><td>18-JUL-04</td><td>ST_MAN</td><td>8000</td><td> - </td><td>100</td><td>50</td></tr><tr><td>121</td><td>Adam</td><td>Fripp</td><td>AFRIPP</td><td>650.123.2234</td><td>10-APR-05</td><td>ST_MAN</td><td>8200</td><td> - </td><td>100</td><td>50</td></tr><tr><td>122</td><td>Payam</td><td>Kaufling</td><td>PKAUFLIN</td><td>650.123.3234</td><td>01-MAY-03</td><td>ST_MAN</td><td>7900</td><td> - </td><td>100</td><td>50</td></tr><tr><td>123</td><td>Shanta</td><td>Vollman</td><td>SVOLLMAN</td><td>650.123.4234</td><td>10-OCT-05</td><td>ST_MAN</td><td>6500</td><td> - </td><td>100</td><td>50</td></tr><tr><td>124</td><td>Kevin</td><td>Mourgos</td><td>KMOURGOS</td><td>650.123.5234</td><td>16-NOV-07</td><td>ST_MAN</td><td>5800</td><td> - </td><td>100</td><td>50</td></tr><tr><td>125</td><td>Julia</td><td>Nayer</td><td>JNAYER</td><td>650.124.1214</td><td>16-JUL-05</td><td>ST_CLERK</td><td>3200</td><td> - </td><td>120</td><td>50</td></tr><tr><td>126</td><td>Irene</td><td>Mikkilineni</td><td>IMIKKILI</td><td>650.124.1224</td><td>28-SEP-06</td><td>ST_CLERK</td><td>2700</td><td> - </td><td>120</td><td>50</td></tr><tr><td>127</td><td>James</td><td>Landry</td><td>JLANDRY</td><td>650.124.1334</td><td>14-JAN-07</td><td>ST_CLERK</td><td>2400</td><td> - </td><td>120</td><td>50</td></tr><tr><td>128</td><td>Steven</td><td>Markle</td><td>SMARKLE</td><td>650.124.1434</td><td>08-MAR-08</td><td>ST_CLERK</td><td>2200</td><td> - </td><td>120</td><td>50</td></tr><tr><td>129</td><td>Laura</td><td>Bissot</td><td>LBISSOT</td><td>650.124.5234</td><td>20-AUG-05</td><td>ST_CLERK</td><td>3300</td><td> - </td><td>121</td><td>50</td></tr><tr><td>130</td><td>Mozhe</td><td>Atkinson</td><td>MATKINSO</td><td>650.124.6234</td><td>30-OCT-05</td><td>ST_CLERK</td><td>2800</td><td> - </td><td>121</td><td>50</td></tr><tr><td>131</td><td>James</td><td>Marlow</td><td>JAMRLOW</td><td>650.124.7234</td><td>16-FEB-05</td><td>ST_CLERK</td><td>2500</td><td> - </td><td>121</td><td>50</td></tr><tr><td>132</td><td>TJ</td><td>Olson</td><td>TJOLSON</td><td>650.124.8234</td><td>10-APR-07</td><td>ST_CLERK</td><td>2100</td><td> - </td><td>121</td><td>50</td></tr><tr><td>133</td><td>Jason</td><td>Mallin</td><td>JMALLIN</td><td>650.127.1934</td><td>14-JUN-04</td><td>ST_CLERK</td><td>3300</td><td> - </td><td>122</td><td>50</td></tr><tr><td>134</td><td>Michael</td><td>Rogers</td><td>MROGERS</td><td>650.127.1834</td><td>26-AUG-06</td><td>ST_CLERK</td><td>2900</td><td> - </td><td>122</td><td>50</td></tr><tr><td>135</td><td>Ki</td><td>Gee</td><td>KGEE</td><td>650.127.1734</td><td>12-DEC-07</td><td>ST_CLERK</td><td>2400</td><td> - </td><td>122</td><td>50</td></tr><tr><td>136</td><td>Hazel</td><td>Philtanker</td><td>HPHILTAN</td><td>650.127.1634</td><td>06-FEB-08</td><td>ST_CLERK</td><td>2200</td><td> - </td><td>122</td><td>50</td></tr><tr><td>137</td><td>Renske</td><td>Ladwig</td><td>RLADWIG</td><td>650.121.1234</td><td>14-JUL-03</td><td>ST_CLERK</td><td>3600</td><td> - </td><td>123</td><td>50</td></tr><tr><td>138</td><td>Stephen</td><td>Stiles</td><td>SSTILES</td><td>650.121.2034</td><td>26-OCT-05</td><td>ST_CLERK</td><td>3200</td><td> - </td><td>123</td><td>50</td></tr><tr><td>139</td><td>John</td><td>Seo</td><td>JSEO</td><td>650.121.2019</td><td>12-FEB-06</td><td>ST_CLERK</td><td>2700</td><td> - </td><td>123</td><td>50</td></tr><tr><td>140</td><td>Joshua</td><td>Patel</td><td>JPATEL</td><td>650.121.1834</td><td>06-APR-06</td><td>ST_CLERK</td><td>2500</td><td> - </td><td>123</td><td>50</td></tr></tbody></table></div>"
      ]
     },
     "metadata": {
      "application/vnd.databricks.v1+output": {
       "addedWidgets": {},
       "aggData": [],
       "aggError": "",
       "aggOverflow": false,
       "aggSchema": [],
       "aggSeriesLimitReached": false,
       "aggType": "",
       "arguments": {},
       "columnCustomDisplayInfos": {},
       "data": [
        [
         198,
         "Donald",
         "OConnell",
         "DOCONNEL",
         "650.507.9833",
         "21-JUN-07",
         "SH_CLERK",
         2600,
         " - ",
         "124",
         50
        ],
        [
         199,
         "Douglas",
         "Grant",
         "DGRANT",
         "650.507.9844",
         "13-JAN-08",
         "SH_CLERK",
         2600,
         " - ",
         "124",
         50
        ],
        [
         200,
         "Jennifer",
         "Whalen",
         "JWHALEN",
         "515.123.4444",
         "17-SEP-03",
         "AD_ASST",
         4400,
         " - ",
         "101",
         10
        ],
        [
         201,
         "Michael",
         "Hartstein",
         "MHARTSTE",
         "515.123.5555",
         "17-FEB-04",
         "MK_MAN",
         13000,
         " - ",
         "100",
         20
        ],
        [
         202,
         "Pat",
         "Fay",
         "PFAY",
         "603.123.6666",
         "17-AUG-05",
         "MK_REP",
         6000,
         " - ",
         "201",
         20
        ],
        [
         203,
         "Susan",
         "Mavris",
         "SMAVRIS",
         "515.123.7777",
         "07-JUN-02",
         "HR_REP",
         6500,
         " - ",
         "101",
         40
        ],
        [
         204,
         "Hermann",
         "Baer",
         "HBAER",
         "515.123.8888",
         "07-JUN-02",
         "PR_REP",
         10000,
         " - ",
         "101",
         70
        ],
        [
         205,
         "Shelley",
         "Higgins",
         "SHIGGINS",
         "515.123.8080",
         "07-JUN-02",
         "AC_MGR",
         12008,
         " - ",
         "101",
         110
        ],
        [
         206,
         "William",
         "Gietz",
         "WGIETZ",
         "515.123.8181",
         "07-JUN-02",
         "AC_ACCOUNT",
         8300,
         " - ",
         "205",
         110
        ],
        [
         100,
         "Steven",
         "King",
         "SKING",
         "515.123.4567",
         "17-JUN-03",
         "AD_PRES",
         24000,
         " - ",
         " - ",
         90
        ],
        [
         101,
         "Neena",
         "Kochhar",
         "NKOCHHAR",
         "515.123.4568",
         "21-SEP-05",
         "AD_VP",
         17000,
         " - ",
         "100",
         90
        ],
        [
         102,
         "Lex",
         "De Haan",
         "LDEHAAN",
         "515.123.4569",
         "13-JAN-01",
         "AD_VP",
         17000,
         " - ",
         "100",
         90
        ],
        [
         103,
         "Alexander",
         "Hunold",
         "AHUNOLD",
         "590.423.4567",
         "03-JAN-06",
         "IT_PROG",
         9000,
         " - ",
         "102",
         60
        ],
        [
         105,
         "David",
         "Austin",
         "DAUSTIN",
         "590.423.4569",
         "25-JUN-05",
         "IT_PROG",
         4800,
         " - ",
         "103",
         60
        ],
        [
         106,
         "Valli",
         "Pataballa",
         "VPATABAL",
         "590.423.4560",
         "05-FEB-06",
         "IT_PROG",
         4800,
         " - ",
         "103",
         60
        ],
        [
         107,
         "Diana",
         "Lorentz",
         "DLORENTZ",
         "590.423.5567",
         "07-FEB-07",
         "IT_PROG",
         4200,
         " - ",
         "103",
         60
        ],
        [
         108,
         "Nancy",
         "Greenberg",
         "NGREENBE",
         "515.124.4569",
         "17-AUG-02",
         "FI_MGR",
         12008,
         " - ",
         "101",
         100
        ],
        [
         109,
         "Daniel",
         "Faviet",
         "DFAVIET",
         "515.124.4169",
         "16-AUG-02",
         "FI_ACCOUNT",
         9000,
         " - ",
         "108",
         100
        ],
        [
         110,
         "John",
         "Chen",
         "JCHEN",
         "515.124.4269",
         "28-SEP-05",
         "FI_ACCOUNT",
         8200,
         " - ",
         "108",
         100
        ],
        [
         111,
         "Ismael",
         "Sciarra",
         "ISCIARRA",
         "515.124.4369",
         "30-SEP-05",
         "FI_ACCOUNT",
         7700,
         " - ",
         "108",
         100
        ],
        [
         112,
         "Jose Manuel",
         "Urman",
         "JMURMAN",
         "515.124.4469",
         "07-MAR-06",
         "FI_ACCOUNT",
         7800,
         " - ",
         "108",
         100
        ],
        [
         113,
         "Luis",
         "Popp",
         "LPOPP",
         "515.124.4567",
         "07-DEC-07",
         "FI_ACCOUNT",
         6900,
         " - ",
         "108",
         100
        ],
        [
         114,
         "Den",
         "Raphaely",
         "DRAPHEAL",
         "515.127.4561",
         "07-DEC-02",
         "PU_MAN",
         11000,
         " - ",
         "100",
         30
        ],
        [
         115,
         "Alexander",
         "Khoo",
         "AKHOO",
         "515.127.4562",
         "18-MAY-03",
         "PU_CLERK",
         3100,
         " - ",
         "114",
         30
        ],
        [
         116,
         "Shelli",
         "Baida",
         "SBAIDA",
         "515.127.4563",
         "24-DEC-05",
         "PU_CLERK",
         2900,
         " - ",
         "114",
         30
        ],
        [
         117,
         "Sigal",
         "Tobias",
         "STOBIAS",
         "515.127.4564",
         "24-JUL-05",
         "PU_CLERK",
         2800,
         " - ",
         "114",
         30
        ],
        [
         118,
         "Guy",
         "Himuro",
         "GHIMURO",
         "515.127.4565",
         "15-NOV-06",
         "PU_CLERK",
         2600,
         " - ",
         "114",
         30
        ],
        [
         119,
         "Karen",
         "Colmenares",
         "KCOLMENA",
         "515.127.4566",
         "10-AUG-07",
         "PU_CLERK",
         2500,
         " - ",
         "114",
         30
        ],
        [
         120,
         "Matthew",
         "Weiss",
         "MWEISS",
         "650.123.1234",
         "18-JUL-04",
         "ST_MAN",
         8000,
         " - ",
         "100",
         50
        ],
        [
         121,
         "Adam",
         "Fripp",
         "AFRIPP",
         "650.123.2234",
         "10-APR-05",
         "ST_MAN",
         8200,
         " - ",
         "100",
         50
        ],
        [
         122,
         "Payam",
         "Kaufling",
         "PKAUFLIN",
         "650.123.3234",
         "01-MAY-03",
         "ST_MAN",
         7900,
         " - ",
         "100",
         50
        ],
        [
         123,
         "Shanta",
         "Vollman",
         "SVOLLMAN",
         "650.123.4234",
         "10-OCT-05",
         "ST_MAN",
         6500,
         " - ",
         "100",
         50
        ],
        [
         124,
         "Kevin",
         "Mourgos",
         "KMOURGOS",
         "650.123.5234",
         "16-NOV-07",
         "ST_MAN",
         5800,
         " - ",
         "100",
         50
        ],
        [
         125,
         "Julia",
         "Nayer",
         "JNAYER",
         "650.124.1214",
         "16-JUL-05",
         "ST_CLERK",
         3200,
         " - ",
         "120",
         50
        ],
        [
         126,
         "Irene",
         "Mikkilineni",
         "IMIKKILI",
         "650.124.1224",
         "28-SEP-06",
         "ST_CLERK",
         2700,
         " - ",
         "120",
         50
        ],
        [
         127,
         "James",
         "Landry",
         "JLANDRY",
         "650.124.1334",
         "14-JAN-07",
         "ST_CLERK",
         2400,
         " - ",
         "120",
         50
        ],
        [
         128,
         "Steven",
         "Markle",
         "SMARKLE",
         "650.124.1434",
         "08-MAR-08",
         "ST_CLERK",
         2200,
         " - ",
         "120",
         50
        ],
        [
         129,
         "Laura",
         "Bissot",
         "LBISSOT",
         "650.124.5234",
         "20-AUG-05",
         "ST_CLERK",
         3300,
         " - ",
         "121",
         50
        ],
        [
         130,
         "Mozhe",
         "Atkinson",
         "MATKINSO",
         "650.124.6234",
         "30-OCT-05",
         "ST_CLERK",
         2800,
         " - ",
         "121",
         50
        ],
        [
         131,
         "James",
         "Marlow",
         "JAMRLOW",
         "650.124.7234",
         "16-FEB-05",
         "ST_CLERK",
         2500,
         " - ",
         "121",
         50
        ],
        [
         132,
         "TJ",
         "Olson",
         "TJOLSON",
         "650.124.8234",
         "10-APR-07",
         "ST_CLERK",
         2100,
         " - ",
         "121",
         50
        ],
        [
         133,
         "Jason",
         "Mallin",
         "JMALLIN",
         "650.127.1934",
         "14-JUN-04",
         "ST_CLERK",
         3300,
         " - ",
         "122",
         50
        ],
        [
         134,
         "Michael",
         "Rogers",
         "MROGERS",
         "650.127.1834",
         "26-AUG-06",
         "ST_CLERK",
         2900,
         " - ",
         "122",
         50
        ],
        [
         135,
         "Ki",
         "Gee",
         "KGEE",
         "650.127.1734",
         "12-DEC-07",
         "ST_CLERK",
         2400,
         " - ",
         "122",
         50
        ],
        [
         136,
         "Hazel",
         "Philtanker",
         "HPHILTAN",
         "650.127.1634",
         "06-FEB-08",
         "ST_CLERK",
         2200,
         " - ",
         "122",
         50
        ],
        [
         137,
         "Renske",
         "Ladwig",
         "RLADWIG",
         "650.121.1234",
         "14-JUL-03",
         "ST_CLERK",
         3600,
         " - ",
         "123",
         50
        ],
        [
         138,
         "Stephen",
         "Stiles",
         "SSTILES",
         "650.121.2034",
         "26-OCT-05",
         "ST_CLERK",
         3200,
         " - ",
         "123",
         50
        ],
        [
         139,
         "John",
         "Seo",
         "JSEO",
         "650.121.2019",
         "12-FEB-06",
         "ST_CLERK",
         2700,
         " - ",
         "123",
         50
        ],
        [
         140,
         "Joshua",
         "Patel",
         "JPATEL",
         "650.121.1834",
         "06-APR-06",
         "ST_CLERK",
         2500,
         " - ",
         "123",
         50
        ]
       ],
       "datasetInfos": [
        {
         "name": "_sqldf",
         "schema": {
          "fields": [
           {
            "metadata": {},
            "name": "EMPLOYEE_ID",
            "nullable": true,
            "type": "integer"
           },
           {
            "metadata": {},
            "name": "FIRST_NAME",
            "nullable": true,
            "type": "string"
           },
           {
            "metadata": {},
            "name": "LAST_NAME",
            "nullable": true,
            "type": "string"
           },
           {
            "metadata": {},
            "name": "EMAIL",
            "nullable": true,
            "type": "string"
           },
           {
            "metadata": {},
            "name": "PHONE_NUMBER",
            "nullable": true,
            "type": "string"
           },
           {
            "metadata": {},
            "name": "HIRE_DATE",
            "nullable": true,
            "type": "string"
           },
           {
            "metadata": {},
            "name": "JOB_ID",
            "nullable": true,
            "type": "string"
           },
           {
            "metadata": {},
            "name": "SALARY",
            "nullable": true,
            "type": "integer"
           },
           {
            "metadata": {},
            "name": "COMMISSION_PCT",
            "nullable": true,
            "type": "string"
           },
           {
            "metadata": {},
            "name": "MANAGER_ID",
            "nullable": true,
            "type": "string"
           },
           {
            "metadata": {},
            "name": "DEPARTMENT_ID",
            "nullable": true,
            "type": "integer"
           }
          ],
          "type": "struct"
         },
         "tableIdentifier": null,
         "typeStr": "pyspark.sql.dataframe.DataFrame"
        }
       ],
       "dbfsResultPath": null,
       "isJsonSchema": true,
       "metadata": {
        "createTempViewForImplicitDf": true,
        "dataframeName": "_sqldf",
        "executionCount": 30
       },
       "overflow": false,
       "plotOptions": {
        "customPlotOptions": {},
        "displayType": "table",
        "pivotAggregation": null,
        "pivotColumns": null,
        "xColumns": null,
        "yColumns": null
       },
       "removedWidgets": [],
       "schema": [
        {
         "metadata": "{}",
         "name": "EMPLOYEE_ID",
         "type": "\"integer\""
        },
        {
         "metadata": "{}",
         "name": "FIRST_NAME",
         "type": "\"string\""
        },
        {
         "metadata": "{}",
         "name": "LAST_NAME",
         "type": "\"string\""
        },
        {
         "metadata": "{}",
         "name": "EMAIL",
         "type": "\"string\""
        },
        {
         "metadata": "{}",
         "name": "PHONE_NUMBER",
         "type": "\"string\""
        },
        {
         "metadata": "{}",
         "name": "HIRE_DATE",
         "type": "\"string\""
        },
        {
         "metadata": "{}",
         "name": "JOB_ID",
         "type": "\"string\""
        },
        {
         "metadata": "{}",
         "name": "SALARY",
         "type": "\"integer\""
        },
        {
         "metadata": "{}",
         "name": "COMMISSION_PCT",
         "type": "\"string\""
        },
        {
         "metadata": "{}",
         "name": "MANAGER_ID",
         "type": "\"string\""
        },
        {
         "metadata": "{}",
         "name": "DEPARTMENT_ID",
         "type": "\"integer\""
        }
       ],
       "type": "table"
      }
     },
     "output_type": "display_data"
    }
   ],
   "source": [
    "%sql\n",
    "SELECT * FROM employee VERSION AS OF 1"
   ]
  },
  {
   "cell_type": "code",
   "execution_count": 0,
   "metadata": {
    "application/vnd.databricks.v1+cell": {
     "cellMetadata": {
      "byteLimit": 2048000,
      "implicitDf": true,
      "rowLimit": 10000
     },
     "inputWidgets": {},
     "nuid": "6e8d470e-2c01-431b-bf33-d31d9e3c3327",
     "showTitle": false,
     "tableResultSettingsMap": {},
     "title": ""
    }
   },
   "outputs": [
    {
     "output_type": "display_data",
     "data": {
      "text/html": [
       "<style scoped>\n",
       "  .table-result-container {\n",
       "    max-height: 300px;\n",
       "    overflow: auto;\n",
       "  }\n",
       "  table, th, td {\n",
       "    border: 1px solid black;\n",
       "    border-collapse: collapse;\n",
       "  }\n",
       "  th, td {\n",
       "    padding: 5px;\n",
       "  }\n",
       "  th {\n",
       "    text-align: left;\n",
       "  }\n",
       "</style><div class='table-result-container'><table class='table-result'><thead style='background-color: white'><tr><th>path</th><th>metrics</th></tr></thead><tbody><tr><td>dbfs:/user/hive/warehouse/employee</td><td>List(0, 0, List(null, null, 0.0, 0, 0), List(null, null, 0.0, 0, 0), 0, null, null, 0, 0, 1, 1, true, 0, 0, 1755504335205, 1755504335721, 4, 0, null, List(0, 0), null, 11, 11, 0, 0, null)</td></tr></tbody></table></div>"
      ]
     },
     "metadata": {
      "application/vnd.databricks.v1+output": {
       "addedWidgets": {},
       "aggData": [],
       "aggError": "",
       "aggOverflow": false,
       "aggSchema": [],
       "aggSeriesLimitReached": false,
       "aggType": "",
       "arguments": {},
       "columnCustomDisplayInfos": {},
       "data": [
        [
         "dbfs:/user/hive/warehouse/employee",
         [
          0,
          0,
          [
           null,
           null,
           0.0,
           0,
           0
          ],
          [
           null,
           null,
           0.0,
           0,
           0
          ],
          0,
          null,
          null,
          0,
          0,
          1,
          1,
          true,
          0,
          0,
          1755504335205,
          1755504335721,
          4,
          0,
          null,
          [
           0,
           0
          ],
          null,
          11,
          11,
          0,
          0,
          null
         ]
        ]
       ],
       "datasetInfos": [
        {
         "name": "_sqldf",
         "schema": {
          "fields": [
           {
            "metadata": {},
            "name": "path",
            "nullable": true,
            "type": "string"
           },
           {
            "metadata": {},
            "name": "metrics",
            "nullable": true,
            "type": {
             "fields": [
              {
               "metadata": {},
               "name": "numFilesAdded",
               "nullable": false,
               "type": "long"
              },
              {
               "metadata": {},
               "name": "numFilesRemoved",
               "nullable": false,
               "type": "long"
              },
              {
               "metadata": {},
               "name": "filesAdded",
               "nullable": true,
               "type": {
                "fields": [
                 {
                  "metadata": {},
                  "name": "min",
                  "nullable": true,
                  "type": "long"
                 },
                 {
                  "metadata": {},
                  "name": "max",
                  "nullable": true,
                  "type": "long"
                 },
                 {
                  "metadata": {},
                  "name": "avg",
                  "nullable": false,
                  "type": "double"
                 },
                 {
                  "metadata": {},
                  "name": "totalFiles",
                  "nullable": false,
                  "type": "long"
                 },
                 {
                  "metadata": {},
                  "name": "totalSize",
                  "nullable": false,
                  "type": "long"
                 }
                ],
                "type": "struct"
               }
              },
              {
               "metadata": {},
               "name": "filesRemoved",
               "nullable": true,
               "type": {
                "fields": [
                 {
                  "metadata": {},
                  "name": "min",
                  "nullable": true,
                  "type": "long"
                 },
                 {
                  "metadata": {},
                  "name": "max",
                  "nullable": true,
                  "type": "long"
                 },
                 {
                  "metadata": {},
                  "name": "avg",
                  "nullable": false,
                  "type": "double"
                 },
                 {
                  "metadata": {},
                  "name": "totalFiles",
                  "nullable": false,
                  "type": "long"
                 },
                 {
                  "metadata": {},
                  "name": "totalSize",
                  "nullable": false,
                  "type": "long"
                 }
                ],
                "type": "struct"
               }
              },
              {
               "metadata": {},
               "name": "partitionsOptimized",
               "nullable": false,
               "type": "long"
              },
              {
               "metadata": {},
               "name": "zOrderStats",
               "nullable": true,
               "type": {
                "fields": [
                 {
                  "metadata": {},
                  "name": "strategyName",
                  "nullable": true,
                  "type": "string"
                 },
                 {
                  "metadata": {},
                  "name": "inputCubeFiles",
                  "nullable": true,
                  "type": {
                   "fields": [
                    {
                     "metadata": {},
                     "name": "num",
                     "nullable": false,
                     "type": "long"
                    },
                    {
                     "metadata": {},
                     "name": "size",
                     "nullable": false,
                     "type": "long"
                    }
                   ],
                   "type": "struct"
                  }
                 },
                 {
                  "metadata": {},
                  "name": "inputOtherFiles",
                  "nullable": true,
                  "type": {
                   "fields": [
                    {
                     "metadata": {},
                     "name": "num",
                     "nullable": false,
                     "type": "long"
                    },
                    {
                     "metadata": {},
                     "name": "size",
                     "nullable": false,
                     "type": "long"
                    }
                   ],
                   "type": "struct"
                  }
                 },
                 {
                  "metadata": {},
                  "name": "inputNumCubes",
                  "nullable": false,
                  "type": "long"
                 },
                 {
                  "metadata": {},
                  "name": "mergedFiles",
                  "nullable": true,
                  "type": {
                   "fields": [
                    {
                     "metadata": {},
                     "name": "num",
                     "nullable": false,
                     "type": "long"
                    },
                    {
                     "metadata": {},
                     "name": "size",
                     "nullable": false,
                     "type": "long"
                    }
                   ],
                   "type": "struct"
                  }
                 },
                 {
                  "metadata": {},
                  "name": "numOutputCubes",
                  "nullable": false,
                  "type": "long"
                 },
                 {
                  "metadata": {},
                  "name": "mergedNumCubes",
                  "nullable": true,
                  "type": "long"
                 }
                ],
                "type": "struct"
               }
              },
              {
               "metadata": {},
               "name": "clusteringStats",
               "nullable": true,
               "type": {
                "fields": [
                 {
                  "metadata": {},
                  "name": "inputZCubeFiles",
                  "nullable": true,
                  "type": {
                   "fields": [
                    {
                     "metadata": {},
                     "name": "numFiles",
                     "nullable": false,
                     "type": "long"
                    },
                    {
                     "metadata": {},
                     "name": "size",
                     "nullable": false,
                     "type": "long"
                    }
                   ],
                   "type": "struct"
                  }
                 },
                 {
                  "metadata": {},
                  "name": "inputOtherFiles",
                  "nullable": true,
                  "type": {
                   "fields": [
                    {
                     "metadata": {},
                     "name": "numFiles",
                     "nullable": false,
                     "type": "long"
                    },
                    {
                     "metadata": {},
                     "name": "size",
                     "nullable": false,
                     "type": "long"
                    }
                   ],
                   "type": "struct"
                  }
                 },
                 {
                  "metadata": {},
                  "name": "inputNumZCubes",
                  "nullable": false,
                  "type": "long"
                 },
                 {
                  "metadata": {},
                  "name": "mergedFiles",
                  "nullable": true,
                  "type": {
                   "fields": [
                    {
                     "metadata": {},
                     "name": "numFiles",
                     "nullable": false,
                     "type": "long"
                    },
                    {
                     "metadata": {},
                     "name": "size",
                     "nullable": false,
                     "type": "long"
                    }
                   ],
                   "type": "struct"
                  }
                 },
                 {
                  "metadata": {},
                  "name": "numOutputZCubes",
                  "nullable": false,
                  "type": "long"
                 }
                ],
                "type": "struct"
               }
              },
              {
               "metadata": {},
               "name": "numBins",
               "nullable": false,
               "type": "long"
              },
              {
               "metadata": {},
               "name": "numBatches",
               "nullable": false,
               "type": "long"
              },
              {
               "metadata": {},
               "name": "totalConsideredFiles",
               "nullable": false,
               "type": "long"
              },
              {
               "metadata": {},
               "name": "totalFilesSkipped",
               "nullable": false,
               "type": "long"
              },
              {
               "metadata": {},
               "name": "preserveInsertionOrder",
               "nullable": false,
               "type": "boolean"
              },
              {
               "metadata": {},
               "name": "numFilesSkippedToReduceWriteAmplification",
               "nullable": false,
               "type": "long"
              },
              {
               "metadata": {},
               "name": "numBytesSkippedToReduceWriteAmplification",
               "nullable": false,
               "type": "long"
              },
              {
               "metadata": {},
               "name": "startTimeMs",
               "nullable": false,
               "type": "long"
              },
              {
               "metadata": {},
               "name": "endTimeMs",
               "nullable": false,
               "type": "long"
              },
              {
               "metadata": {},
               "name": "totalClusterParallelism",
               "nullable": false,
               "type": "long"
              },
              {
               "metadata": {},
               "name": "totalScheduledTasks",
               "nullable": false,
               "type": "long"
              },
              {
               "metadata": {},
               "name": "autoCompactParallelismStats",
               "nullable": true,
               "type": {
                "fields": [
                 {
                  "metadata": {},
                  "name": "maxClusterActiveParallelism",
                  "nullable": true,
                  "type": "long"
                 },
                 {
                  "metadata": {},
                  "name": "minClusterActiveParallelism",
                  "nullable": true,
                  "type": "long"
                 },
                 {
                  "metadata": {},
                  "name": "maxSessionActiveParallelism",
                  "nullable": true,
                  "type": "long"
                 },
                 {
                  "metadata": {},
                  "name": "minSessionActiveParallelism",
                  "nullable": true,
                  "type": "long"
                 }
                ],
                "type": "struct"
               }
              },
              {
               "metadata": {},
               "name": "deletionVectorStats",
               "nullable": true,
               "type": {
                "fields": [
                 {
                  "metadata": {},
                  "name": "numDeletionVectorsRemoved",
                  "nullable": false,
                  "type": "long"
                 },
                 {
                  "metadata": {},
                  "name": "numDeletionVectorRowsRemoved",
                  "nullable": false,
                  "type": "long"
                 }
                ],
                "type": "struct"
               }
              },
              {
               "metadata": {},
               "name": "recompressionCodec",
               "nullable": true,
               "type": "string"
              },
              {
               "metadata": {},
               "name": "numTableColumns",
               "nullable": false,
               "type": "long"
              },
              {
               "metadata": {},
               "name": "numTableColumnsWithStats",
               "nullable": false,
               "type": "long"
              },
              {
               "metadata": {},
               "name": "totalTaskExecutionTimeMs",
               "nullable": false,
               "type": "long"
              },
              {
               "metadata": {},
               "name": "skippedArchivedFiles",
               "nullable": false,
               "type": "long"
              },
              {
               "metadata": {},
               "name": "clusteringMetrics",
               "nullable": true,
               "type": {
                "fields": [
                 {
                  "metadata": {},
                  "name": "sizeOfTableInBytesBeforeLazyClustering",
                  "nullable": false,
                  "type": "long"
                 },
                 {
                  "metadata": {},
                  "name": "isNewMetadataCreated",
                  "nullable": false,
                  "type": "boolean"
                 },
                 {
                  "metadata": {},
                  "name": "isPOTriggered",
                  "nullable": false,
                  "type": "boolean"
                 },
                 {
                  "metadata": {},
                  "name": "isFull",
                  "nullable": false,
                  "type": "boolean"
                 },
                 {
                  "metadata": {},
                  "name": "approxClusteringQuality",
                  "nullable": true,
                  "type": "double"
                 },
                 {
                  "metadata": {},
                  "name": "approxClusteringQualityPerColumn",
                  "nullable": true,
                  "type": {
                   "containsNull": false,
                   "elementType": "double",
                   "type": "array"
                  }
                 },
                 {
                  "metadata": {},
                  "name": "approxClusteringCoverage",
                  "nullable": true,
                  "type": "double"
                 },
                 {
                  "metadata": {},
                  "name": "numFilesSkippedWithoutStats",
                  "nullable": false,
                  "type": "long"
                 },
                 {
                  "metadata": {},
                  "name": "numFilesClassifiedToIntermediateNodes",
                  "nullable": false,
                  "type": "long"
                 },
                 {
                  "metadata": {},
                  "name": "sizeOfFilesClassifiedToIntermediateNodesInBytes",
                  "nullable": false,
                  "type": "long"
                 },
                 {
                  "metadata": {},
                  "name": "logicalSizeOfFilesClassifiedToIntermediateNodesInBytes",
                  "nullable": false,
                  "type": "long"
                 },
                 {
                  "metadata": {},
                  "name": "numFilesClassifiedToLeafNodes",
                  "nullable": false,
                  "type": "long"
                 },
                 {
                  "metadata": {},
                  "name": "sizeOfFilesClassifiedToLeafNodesInBytes",
                  "nullable": false,
                  "type": "long"
                 },
                 {
                  "metadata": {},
                  "name": "logicalSizeOfFilesClassifiedToLeafNodesInBytes",
                  "nullable": false,
                  "type": "long"
                 },
                 {
                  "metadata": {},
                  "name": "numThreadsForClassifier",
                  "nullable": true,
                  "type": "integer"
                 },
                 {
                  "metadata": {},
                  "name": "clusterThresholdStrategy",
                  "nullable": true,
                  "type": "string"
                 },
                 {
                  "metadata": {},
                  "name": "minFileSize",
                  "nullable": false,
                  "type": "long"
                 },
                 {
                  "metadata": {},
                  "name": "maxFileSize",
                  "nullable": false,
                  "type": "long"
                 },
                 {
                  "metadata": {},
                  "name": "nodeMinNumFilesToCompact",
                  "nullable": false,
                  "type": "long"
                 },
                 {
                  "metadata": {},
                  "name": "numIdealFiles",
                  "nullable": false,
                  "type": "long"
                 },
                 {
                  "metadata": {},
                  "name": "numIdealFilesWithTrimmedStringMaxValue",
                  "nullable": false,
                  "type": "long"
                 },
                 {
                  "metadata": {},
                  "name": "numAddedFilesWithSameMinMaxOnClusteringColumns",
                  "nullable": true,
                  "type": {
                   "containsNull": false,
                   "elementType": "long",
                   "type": "array"
                  }
                 },
                 {
                  "metadata": {},
                  "name": "numClusteringTasksPlanned",
                  "nullable": false,
                  "type": "integer"
                 },
                 {
                  "metadata": {},
                  "name": "numClusteringTasksNotPlannedDueToPO",
                  "nullable": false,
                  "type": "integer"
                 },
                 {
                  "metadata": {},
                  "name": "numCompactionTasksPlanned",
                  "nullable": false,
                  "type": "integer"
                 },
                 {
                  "metadata": {},
                  "name": "numCompactionTasksPlannedUndoneDueToPO",
                  "nullable": false,
                  "type": "integer"
                 },
                 {
                  "metadata": {},
                  "name": "numOptimizeBatchesPlanned",
                  "nullable": false,
                  "type": "integer"
                 },
                 {
                  "metadata": {},
                  "name": "numLeafNodesExpanded",
                  "nullable": false,
                  "type": "long"
                 },
                 {
                  "metadata": {},
                  "name": "numLeafNodesClustered",
                  "nullable": false,
                  "type": "long"
                 },
                 {
                  "metadata": {},
                  "name": "numGetFilesForNodeCalls",
                  "nullable": false,
                  "type": "long"
                 },
                 {
                  "metadata": {},
                  "name": "numSamplingJobs",
                  "nullable": false,
                  "type": "long"
                 },
                 {
                  "metadata": {},
                  "name": "numLeafNodesCompacted",
                  "nullable": false,
                  "type": "long"
                 },
                 {
                  "metadata": {},
                  "name": "numLeafNodesCompactedUndoneDueToPO",
                  "nullable": false,
                  "type": "long"
                 },
                 {
                  "metadata": {},
                  "name": "numIntermediateNodesCompacted",
                  "nullable": false,
                  "type": "long"
                 },
                 {
                  "metadata": {},
                  "name": "numIntermediateNodesCompactedUndoneDueToPO",
                  "nullable": false,
                  "type": "long"
                 },
                 {
                  "metadata": {},
                  "name": "totalSizeOfDataToCompactInBytes",
                  "nullable": false,
                  "type": "long"
                 },
                 {
                  "metadata": {},
                  "name": "totalSizeOfDataToCompactInBytesUndoneDueToPO",
                  "nullable": false,
                  "type": "long"
                 },
                 {
                  "metadata": {},
                  "name": "totalLogicalSizeOfDataToCompactInBytes",
                  "nullable": false,
                  "type": "long"
                 },
                 {
                  "metadata": {},
                  "name": "totalLogicalSizeOfDataToCompactInBytesUndoneDueToPO",
                  "nullable": false,
                  "type": "long"
                 },
                 {
                  "metadata": {},
                  "name": "numIntermediateNodesClustered",
                  "nullable": false,
                  "type": "long"
                 },
                 {
                  "metadata": {},
                  "name": "numFilesSkippedAfterExpansion",
                  "nullable": false,
                  "type": "long"
                 },
                 {
                  "metadata": {},
                  "name": "totalSizeOfFilesSkippedAfterExpansionInBytes",
                  "nullable": false,
                  "type": "long"
                 },
                 {
                  "metadata": {},
                  "name": "totalLogicalSizeOfFilesSkippedAfterExpansionInBytes",
                  "nullable": false,
                  "type": "long"
                 },
                 {
                  "metadata": {},
                  "name": "totalSizeOfDataToRewriteInBytes",
                  "nullable": false,
                  "type": "long"
                 },
                 {
                  "metadata": {},
                  "name": "totalLogicalSizeOfDataToRewriteInBytes",
                  "nullable": false,
                  "type": "long"
                 },
                 {
                  "metadata": {},
                  "name": "timeMetrics",
                  "nullable": true,
                  "type": {
                   "fields": [
                    {
                     "metadata": {},
                     "name": "classifierTimeMs",
                     "nullable": false,
                     "type": "long"
                    },
                    {
                     "metadata": {},
                     "name": "optimizerTimeMs",
                     "nullable": false,
                     "type": "long"
                    },
                    {
                     "metadata": {},
                     "name": "metadataLoadTimeMs",
                     "nullable": false,
                     "type": "long"
                    },
                    {
                     "metadata": {},
                     "name": "totalGetFilesForNodeCallsTimeMs",
                     "nullable": false,
                     "type": "long"
                    },
                    {
                     "metadata": {},
                     "name": "totalSamplingTimeMs",
                     "nullable": false,
                     "type": "long"
                    },
                    {
                     "metadata": {},
                     "name": "metadataCreationTimeMs",
                     "nullable": false,
                     "type": "long"
                    }
                   ],
                   "type": "struct"
                  }
                 },
                 {
                  "metadata": {},
                  "name": "maxOptimizeBatchesInParallel",
                  "nullable": false,
                  "type": "long"
                 },
                 {
                  "metadata": {},
                  "name": "currentIteration",
                  "nullable": false,
                  "type": "integer"
                 },
                 {
                  "metadata": {},
                  "name": "maxIterations",
                  "nullable": false,
                  "type": "integer"
                 },
                 {
                  "metadata": {},
                  "name": "clusteringStrategy",
                  "nullable": true,
                  "type": "string"
                 }
                ],
                "type": "struct"
               }
              }
             ],
             "type": "struct"
            }
           }
          ],
          "type": "struct"
         },
         "tableIdentifier": null,
         "typeStr": "pyspark.sql.dataframe.DataFrame"
        }
       ],
       "dbfsResultPath": null,
       "isJsonSchema": true,
       "metadata": {
        "createTempViewForImplicitDf": true,
        "dataframeName": "_sqldf",
        "executionCount": 31
       },
       "overflow": false,
       "plotOptions": {
        "customPlotOptions": {},
        "displayType": "table",
        "pivotAggregation": null,
        "pivotColumns": null,
        "xColumns": null,
        "yColumns": null
       },
       "removedWidgets": [],
       "schema": [
        {
         "metadata": "{}",
         "name": "path",
         "type": "\"string\""
        },
        {
         "metadata": "{}",
         "name": "metrics",
         "type": "{\"type\":\"struct\",\"fields\":[{\"name\":\"numFilesAdded\",\"type\":\"long\",\"nullable\":false,\"metadata\":{}},{\"name\":\"numFilesRemoved\",\"type\":\"long\",\"nullable\":false,\"metadata\":{}},{\"name\":\"filesAdded\",\"type\":{\"type\":\"struct\",\"fields\":[{\"name\":\"min\",\"type\":\"long\",\"nullable\":true,\"metadata\":{}},{\"name\":\"max\",\"type\":\"long\",\"nullable\":true,\"metadata\":{}},{\"name\":\"avg\",\"type\":\"double\",\"nullable\":false,\"metadata\":{}},{\"name\":\"totalFiles\",\"type\":\"long\",\"nullable\":false,\"metadata\":{}},{\"name\":\"totalSize\",\"type\":\"long\",\"nullable\":false,\"metadata\":{}}]},\"nullable\":true,\"metadata\":{}},{\"name\":\"filesRemoved\",\"type\":{\"type\":\"struct\",\"fields\":[{\"name\":\"min\",\"type\":\"long\",\"nullable\":true,\"metadata\":{}},{\"name\":\"max\",\"type\":\"long\",\"nullable\":true,\"metadata\":{}},{\"name\":\"avg\",\"type\":\"double\",\"nullable\":false,\"metadata\":{}},{\"name\":\"totalFiles\",\"type\":\"long\",\"nullable\":false,\"metadata\":{}},{\"name\":\"totalSize\",\"type\":\"long\",\"nullable\":false,\"metadata\":{}}]},\"nullable\":true,\"metadata\":{}},{\"name\":\"partitionsOptimized\",\"type\":\"long\",\"nullable\":false,\"metadata\":{}},{\"name\":\"zOrderStats\",\"type\":{\"type\":\"struct\",\"fields\":[{\"name\":\"strategyName\",\"type\":\"string\",\"nullable\":true,\"metadata\":{}},{\"name\":\"inputCubeFiles\",\"type\":{\"type\":\"struct\",\"fields\":[{\"name\":\"num\",\"type\":\"long\",\"nullable\":false,\"metadata\":{}},{\"name\":\"size\",\"type\":\"long\",\"nullable\":false,\"metadata\":{}}]},\"nullable\":true,\"metadata\":{}},{\"name\":\"inputOtherFiles\",\"type\":{\"type\":\"struct\",\"fields\":[{\"name\":\"num\",\"type\":\"long\",\"nullable\":false,\"metadata\":{}},{\"name\":\"size\",\"type\":\"long\",\"nullable\":false,\"metadata\":{}}]},\"nullable\":true,\"metadata\":{}},{\"name\":\"inputNumCubes\",\"type\":\"long\",\"nullable\":false,\"metadata\":{}},{\"name\":\"mergedFiles\",\"type\":{\"type\":\"struct\",\"fields\":[{\"name\":\"num\",\"type\":\"long\",\"nullable\":false,\"metadata\":{}},{\"name\":\"size\",\"type\":\"long\",\"nullable\":false,\"metadata\":{}}]},\"nullable\":true,\"metadata\":{}},{\"name\":\"numOutputCubes\",\"type\":\"long\",\"nullable\":false,\"metadata\":{}},{\"name\":\"mergedNumCubes\",\"type\":\"long\",\"nullable\":true,\"metadata\":{}}]},\"nullable\":true,\"metadata\":{}},{\"name\":\"clusteringStats\",\"type\":{\"type\":\"struct\",\"fields\":[{\"name\":\"inputZCubeFiles\",\"type\":{\"type\":\"struct\",\"fields\":[{\"name\":\"numFiles\",\"type\":\"long\",\"nullable\":false,\"metadata\":{}},{\"name\":\"size\",\"type\":\"long\",\"nullable\":false,\"metadata\":{}}]},\"nullable\":true,\"metadata\":{}},{\"name\":\"inputOtherFiles\",\"type\":{\"type\":\"struct\",\"fields\":[{\"name\":\"numFiles\",\"type\":\"long\",\"nullable\":false,\"metadata\":{}},{\"name\":\"size\",\"type\":\"long\",\"nullable\":false,\"metadata\":{}}]},\"nullable\":true,\"metadata\":{}},{\"name\":\"inputNumZCubes\",\"type\":\"long\",\"nullable\":false,\"metadata\":{}},{\"name\":\"mergedFiles\",\"type\":{\"type\":\"struct\",\"fields\":[{\"name\":\"numFiles\",\"type\":\"long\",\"nullable\":false,\"metadata\":{}},{\"name\":\"size\",\"type\":\"long\",\"nullable\":false,\"metadata\":{}}]},\"nullable\":true,\"metadata\":{}},{\"name\":\"numOutputZCubes\",\"type\":\"long\",\"nullable\":false,\"metadata\":{}}]},\"nullable\":true,\"metadata\":{}},{\"name\":\"numBins\",\"type\":\"long\",\"nullable\":false,\"metadata\":{}},{\"name\":\"numBatches\",\"type\":\"long\",\"nullable\":false,\"metadata\":{}},{\"name\":\"totalConsideredFiles\",\"type\":\"long\",\"nullable\":false,\"metadata\":{}},{\"name\":\"totalFilesSkipped\",\"type\":\"long\",\"nullable\":false,\"metadata\":{}},{\"name\":\"preserveInsertionOrder\",\"type\":\"boolean\",\"nullable\":false,\"metadata\":{}},{\"name\":\"numFilesSkippedToReduceWriteAmplification\",\"type\":\"long\",\"nullable\":false,\"metadata\":{}},{\"name\":\"numBytesSkippedToReduceWriteAmplification\",\"type\":\"long\",\"nullable\":false,\"metadata\":{}},{\"name\":\"startTimeMs\",\"type\":\"long\",\"nullable\":false,\"metadata\":{}},{\"name\":\"endTimeMs\",\"type\":\"long\",\"nullable\":false,\"metadata\":{}},{\"name\":\"totalClusterParallelism\",\"type\":\"long\",\"nullable\":false,\"metadata\":{}},{\"name\":\"totalScheduledTasks\",\"type\":\"long\",\"nullable\":false,\"metadata\":{}},{\"name\":\"autoCompactParallelismStats\",\"type\":{\"type\":\"struct\",\"fields\":[{\"name\":\"maxClusterActiveParallelism\",\"type\":\"long\",\"nullable\":true,\"metadata\":{}},{\"name\":\"minClusterActiveParallelism\",\"type\":\"long\",\"nullable\":true,\"metadata\":{}},{\"name\":\"maxSessionActiveParallelism\",\"type\":\"long\",\"nullable\":true,\"metadata\":{}},{\"name\":\"minSessionActiveParallelism\",\"type\":\"long\",\"nullable\":true,\"metadata\":{}}]},\"nullable\":true,\"metadata\":{}},{\"name\":\"deletionVectorStats\",\"type\":{\"type\":\"struct\",\"fields\":[{\"name\":\"numDeletionVectorsRemoved\",\"type\":\"long\",\"nullable\":false,\"metadata\":{}},{\"name\":\"numDeletionVectorRowsRemoved\",\"type\":\"long\",\"nullable\":false,\"metadata\":{}}]},\"nullable\":true,\"metadata\":{}},{\"name\":\"recompressionCodec\",\"type\":\"string\",\"nullable\":true,\"metadata\":{}},{\"name\":\"numTableColumns\",\"type\":\"long\",\"nullable\":false,\"metadata\":{}},{\"name\":\"numTableColumnsWithStats\",\"type\":\"long\",\"nullable\":false,\"metadata\":{}},{\"name\":\"totalTaskExecutionTimeMs\",\"type\":\"long\",\"nullable\":false,\"metadata\":{}},{\"name\":\"skippedArchivedFiles\",\"type\":\"long\",\"nullable\":false,\"metadata\":{}},{\"name\":\"clusteringMetrics\",\"type\":{\"type\":\"struct\",\"fields\":[{\"name\":\"sizeOfTableInBytesBeforeLazyClustering\",\"type\":\"long\",\"nullable\":false,\"metadata\":{}},{\"name\":\"isNewMetadataCreated\",\"type\":\"boolean\",\"nullable\":false,\"metadata\":{}},{\"name\":\"isPOTriggered\",\"type\":\"boolean\",\"nullable\":false,\"metadata\":{}},{\"name\":\"isFull\",\"type\":\"boolean\",\"nullable\":false,\"metadata\":{}},{\"name\":\"approxClusteringQuality\",\"type\":\"double\",\"nullable\":true,\"metadata\":{}},{\"name\":\"approxClusteringQualityPerColumn\",\"type\":{\"type\":\"array\",\"elementType\":\"double\",\"containsNull\":false},\"nullable\":true,\"metadata\":{}},{\"name\":\"approxClusteringCoverage\",\"type\":\"double\",\"nullable\":true,\"metadata\":{}},{\"name\":\"numFilesSkippedWithoutStats\",\"type\":\"long\",\"nullable\":false,\"metadata\":{}},{\"name\":\"numFilesClassifiedToIntermediateNodes\",\"type\":\"long\",\"nullable\":false,\"metadata\":{}},{\"name\":\"sizeOfFilesClassifiedToIntermediateNodesInBytes\",\"type\":\"long\",\"nullable\":false,\"metadata\":{}},{\"name\":\"logicalSizeOfFilesClassifiedToIntermediateNodesInBytes\",\"type\":\"long\",\"nullable\":false,\"metadata\":{}},{\"name\":\"numFilesClassifiedToLeafNodes\",\"type\":\"long\",\"nullable\":false,\"metadata\":{}},{\"name\":\"sizeOfFilesClassifiedToLeafNodesInBytes\",\"type\":\"long\",\"nullable\":false,\"metadata\":{}},{\"name\":\"logicalSizeOfFilesClassifiedToLeafNodesInBytes\",\"type\":\"long\",\"nullable\":false,\"metadata\":{}},{\"name\":\"numThreadsForClassifier\",\"type\":\"integer\",\"nullable\":true,\"metadata\":{}},{\"name\":\"clusterThresholdStrategy\",\"type\":\"string\",\"nullable\":true,\"metadata\":{}},{\"name\":\"minFileSize\",\"type\":\"long\",\"nullable\":false,\"metadata\":{}},{\"name\":\"maxFileSize\",\"type\":\"long\",\"nullable\":false,\"metadata\":{}},{\"name\":\"nodeMinNumFilesToCompact\",\"type\":\"long\",\"nullable\":false,\"metadata\":{}},{\"name\":\"numIdealFiles\",\"type\":\"long\",\"nullable\":false,\"metadata\":{}},{\"name\":\"numIdealFilesWithTrimmedStringMaxValue\",\"type\":\"long\",\"nullable\":false,\"metadata\":{}},{\"name\":\"numAddedFilesWithSameMinMaxOnClusteringColumns\",\"type\":{\"type\":\"array\",\"elementType\":\"long\",\"containsNull\":false},\"nullable\":true,\"metadata\":{}},{\"name\":\"numClusteringTasksPlanned\",\"type\":\"integer\",\"nullable\":false,\"metadata\":{}},{\"name\":\"numClusteringTasksNotPlannedDueToPO\",\"type\":\"integer\",\"nullable\":false,\"metadata\":{}},{\"name\":\"numCompactionTasksPlanned\",\"type\":\"integer\",\"nullable\":false,\"metadata\":{}},{\"name\":\"numCompactionTasksPlannedUndoneDueToPO\",\"type\":\"integer\",\"nullable\":false,\"metadata\":{}},{\"name\":\"numOptimizeBatchesPlanned\",\"type\":\"integer\",\"nullable\":false,\"metadata\":{}},{\"name\":\"numLeafNodesExpanded\",\"type\":\"long\",\"nullable\":false,\"metadata\":{}},{\"name\":\"numLeafNodesClustered\",\"type\":\"long\",\"nullable\":false,\"metadata\":{}},{\"name\":\"numGetFilesForNodeCalls\",\"type\":\"long\",\"nullable\":false,\"metadata\":{}},{\"name\":\"numSamplingJobs\",\"type\":\"long\",\"nullable\":false,\"metadata\":{}},{\"name\":\"numLeafNodesCompacted\",\"type\":\"long\",\"nullable\":false,\"metadata\":{}},{\"name\":\"numLeafNodesCompactedUndoneDueToPO\",\"type\":\"long\",\"nullable\":false,\"metadata\":{}},{\"name\":\"numIntermediateNodesCompacted\",\"type\":\"long\",\"nullable\":false,\"metadata\":{}},{\"name\":\"numIntermediateNodesCompactedUndoneDueToPO\",\"type\":\"long\",\"nullable\":false,\"metadata\":{}},{\"name\":\"totalSizeOfDataToCompactInBytes\",\"type\":\"long\",\"nullable\":false,\"metadata\":{}},{\"name\":\"totalSizeOfDataToCompactInBytesUndoneDueToPO\",\"type\":\"long\",\"nullable\":false,\"metadata\":{}},{\"name\":\"totalLogicalSizeOfDataToCompactInBytes\",\"type\":\"long\",\"nullable\":false,\"metadata\":{}},{\"name\":\"totalLogicalSizeOfDataToCompactInBytesUndoneDueToPO\",\"type\":\"long\",\"nullable\":false,\"metadata\":{}},{\"name\":\"numIntermediateNodesClustered\",\"type\":\"long\",\"nullable\":false,\"metadata\":{}},{\"name\":\"numFilesSkippedAfterExpansion\",\"type\":\"long\",\"nullable\":false,\"metadata\":{}},{\"name\":\"totalSizeOfFilesSkippedAfterExpansionInBytes\",\"type\":\"long\",\"nullable\":false,\"metadata\":{}},{\"name\":\"totalLogicalSizeOfFilesSkippedAfterExpansionInBytes\",\"type\":\"long\",\"nullable\":false,\"metadata\":{}},{\"name\":\"totalSizeOfDataToRewriteInBytes\",\"type\":\"long\",\"nullable\":false,\"metadata\":{}},{\"name\":\"totalLogicalSizeOfDataToRewriteInBytes\",\"type\":\"long\",\"nullable\":false,\"metadata\":{}},{\"name\":\"timeMetrics\",\"type\":{\"type\":\"struct\",\"fields\":[{\"name\":\"classifierTimeMs\",\"type\":\"long\",\"nullable\":false,\"metadata\":{}},{\"name\":\"optimizerTimeMs\",\"type\":\"long\",\"nullable\":false,\"metadata\":{}},{\"name\":\"metadataLoadTimeMs\",\"type\":\"long\",\"nullable\":false,\"metadata\":{}},{\"name\":\"totalGetFilesForNodeCallsTimeMs\",\"type\":\"long\",\"nullable\":false,\"metadata\":{}},{\"name\":\"totalSamplingTimeMs\",\"type\":\"long\",\"nullable\":false,\"metadata\":{}},{\"name\":\"metadataCreationTimeMs\",\"type\":\"long\",\"nullable\":false,\"metadata\":{}}]},\"nullable\":true,\"metadata\":{}},{\"name\":\"maxOptimizeBatchesInParallel\",\"type\":\"long\",\"nullable\":false,\"metadata\":{}},{\"name\":\"currentIteration\",\"type\":\"integer\",\"nullable\":false,\"metadata\":{}},{\"name\":\"maxIterations\",\"type\":\"integer\",\"nullable\":false,\"metadata\":{}},{\"name\":\"clusteringStrategy\",\"type\":\"string\",\"nullable\":true,\"metadata\":{}}]},\"nullable\":true,\"metadata\":{}}]}"
        }
       ],
       "type": "table"
      }
     },
     "output_type": "display_data"
    }
   ],
   "source": [
    "%sql\n",
    "OPTIMIZE employee;"
   ]
  },
  {
   "cell_type": "code",
   "execution_count": 0,
   "metadata": {
    "application/vnd.databricks.v1+cell": {
     "cellMetadata": {
      "byteLimit": 2048000,
      "implicitDf": true,
      "rowLimit": 10000
     },
     "inputWidgets": {},
     "nuid": "9809c14f-40fc-4f01-afdf-9f0fe73ed010",
     "showTitle": false,
     "tableResultSettingsMap": {},
     "title": ""
    }
   },
   "outputs": [
    {
     "output_type": "display_data",
     "data": {
      "text/html": [
       "<style scoped>\n",
       "  .table-result-container {\n",
       "    max-height: 300px;\n",
       "    overflow: auto;\n",
       "  }\n",
       "  table, th, td {\n",
       "    border: 1px solid black;\n",
       "    border-collapse: collapse;\n",
       "  }\n",
       "  th, td {\n",
       "    padding: 5px;\n",
       "  }\n",
       "  th {\n",
       "    text-align: left;\n",
       "  }\n",
       "</style><div class='table-result-container'><table class='table-result'><thead style='background-color: white'><tr><th>path</th><th>metrics</th></tr></thead><tbody><tr><td>dbfs:/user/hive/warehouse/employee</td><td>List(0, 0, List(null, null, 0.0, 0, 0), List(null, null, 0.0, 0, 0), 0, List(minCubeSize(107374182400), List(0, 0), List(1, 5546), 0, List(0, 0), 0, null), null, 0, 0, 1, 1, false, 0, 0, 1755504350928, 1755504351418, 4, 0, null, List(0, 0), null, 11, 11, 0, 0, null)</td></tr></tbody></table></div>"
      ]
     },
     "metadata": {
      "application/vnd.databricks.v1+output": {
       "addedWidgets": {},
       "aggData": [],
       "aggError": "",
       "aggOverflow": false,
       "aggSchema": [],
       "aggSeriesLimitReached": false,
       "aggType": "",
       "arguments": {},
       "columnCustomDisplayInfos": {},
       "data": [
        [
         "dbfs:/user/hive/warehouse/employee",
         [
          0,
          0,
          [
           null,
           null,
           0.0,
           0,
           0
          ],
          [
           null,
           null,
           0.0,
           0,
           0
          ],
          0,
          [
           "minCubeSize(107374182400)",
           [
            0,
            0
           ],
           [
            1,
            5546
           ],
           0,
           [
            0,
            0
           ],
           0,
           null
          ],
          null,
          0,
          0,
          1,
          1,
          false,
          0,
          0,
          1755504350928,
          1755504351418,
          4,
          0,
          null,
          [
           0,
           0
          ],
          null,
          11,
          11,
          0,
          0,
          null
         ]
        ]
       ],
       "datasetInfos": [
        {
         "name": "_sqldf",
         "schema": {
          "fields": [
           {
            "metadata": {},
            "name": "path",
            "nullable": true,
            "type": "string"
           },
           {
            "metadata": {},
            "name": "metrics",
            "nullable": true,
            "type": {
             "fields": [
              {
               "metadata": {},
               "name": "numFilesAdded",
               "nullable": false,
               "type": "long"
              },
              {
               "metadata": {},
               "name": "numFilesRemoved",
               "nullable": false,
               "type": "long"
              },
              {
               "metadata": {},
               "name": "filesAdded",
               "nullable": true,
               "type": {
                "fields": [
                 {
                  "metadata": {},
                  "name": "min",
                  "nullable": true,
                  "type": "long"
                 },
                 {
                  "metadata": {},
                  "name": "max",
                  "nullable": true,
                  "type": "long"
                 },
                 {
                  "metadata": {},
                  "name": "avg",
                  "nullable": false,
                  "type": "double"
                 },
                 {
                  "metadata": {},
                  "name": "totalFiles",
                  "nullable": false,
                  "type": "long"
                 },
                 {
                  "metadata": {},
                  "name": "totalSize",
                  "nullable": false,
                  "type": "long"
                 }
                ],
                "type": "struct"
               }
              },
              {
               "metadata": {},
               "name": "filesRemoved",
               "nullable": true,
               "type": {
                "fields": [
                 {
                  "metadata": {},
                  "name": "min",
                  "nullable": true,
                  "type": "long"
                 },
                 {
                  "metadata": {},
                  "name": "max",
                  "nullable": true,
                  "type": "long"
                 },
                 {
                  "metadata": {},
                  "name": "avg",
                  "nullable": false,
                  "type": "double"
                 },
                 {
                  "metadata": {},
                  "name": "totalFiles",
                  "nullable": false,
                  "type": "long"
                 },
                 {
                  "metadata": {},
                  "name": "totalSize",
                  "nullable": false,
                  "type": "long"
                 }
                ],
                "type": "struct"
               }
              },
              {
               "metadata": {},
               "name": "partitionsOptimized",
               "nullable": false,
               "type": "long"
              },
              {
               "metadata": {},
               "name": "zOrderStats",
               "nullable": true,
               "type": {
                "fields": [
                 {
                  "metadata": {},
                  "name": "strategyName",
                  "nullable": true,
                  "type": "string"
                 },
                 {
                  "metadata": {},
                  "name": "inputCubeFiles",
                  "nullable": true,
                  "type": {
                   "fields": [
                    {
                     "metadata": {},
                     "name": "num",
                     "nullable": false,
                     "type": "long"
                    },
                    {
                     "metadata": {},
                     "name": "size",
                     "nullable": false,
                     "type": "long"
                    }
                   ],
                   "type": "struct"
                  }
                 },
                 {
                  "metadata": {},
                  "name": "inputOtherFiles",
                  "nullable": true,
                  "type": {
                   "fields": [
                    {
                     "metadata": {},
                     "name": "num",
                     "nullable": false,
                     "type": "long"
                    },
                    {
                     "metadata": {},
                     "name": "size",
                     "nullable": false,
                     "type": "long"
                    }
                   ],
                   "type": "struct"
                  }
                 },
                 {
                  "metadata": {},
                  "name": "inputNumCubes",
                  "nullable": false,
                  "type": "long"
                 },
                 {
                  "metadata": {},
                  "name": "mergedFiles",
                  "nullable": true,
                  "type": {
                   "fields": [
                    {
                     "metadata": {},
                     "name": "num",
                     "nullable": false,
                     "type": "long"
                    },
                    {
                     "metadata": {},
                     "name": "size",
                     "nullable": false,
                     "type": "long"
                    }
                   ],
                   "type": "struct"
                  }
                 },
                 {
                  "metadata": {},
                  "name": "numOutputCubes",
                  "nullable": false,
                  "type": "long"
                 },
                 {
                  "metadata": {},
                  "name": "mergedNumCubes",
                  "nullable": true,
                  "type": "long"
                 }
                ],
                "type": "struct"
               }
              },
              {
               "metadata": {},
               "name": "clusteringStats",
               "nullable": true,
               "type": {
                "fields": [
                 {
                  "metadata": {},
                  "name": "inputZCubeFiles",
                  "nullable": true,
                  "type": {
                   "fields": [
                    {
                     "metadata": {},
                     "name": "numFiles",
                     "nullable": false,
                     "type": "long"
                    },
                    {
                     "metadata": {},
                     "name": "size",
                     "nullable": false,
                     "type": "long"
                    }
                   ],
                   "type": "struct"
                  }
                 },
                 {
                  "metadata": {},
                  "name": "inputOtherFiles",
                  "nullable": true,
                  "type": {
                   "fields": [
                    {
                     "metadata": {},
                     "name": "numFiles",
                     "nullable": false,
                     "type": "long"
                    },
                    {
                     "metadata": {},
                     "name": "size",
                     "nullable": false,
                     "type": "long"
                    }
                   ],
                   "type": "struct"
                  }
                 },
                 {
                  "metadata": {},
                  "name": "inputNumZCubes",
                  "nullable": false,
                  "type": "long"
                 },
                 {
                  "metadata": {},
                  "name": "mergedFiles",
                  "nullable": true,
                  "type": {
                   "fields": [
                    {
                     "metadata": {},
                     "name": "numFiles",
                     "nullable": false,
                     "type": "long"
                    },
                    {
                     "metadata": {},
                     "name": "size",
                     "nullable": false,
                     "type": "long"
                    }
                   ],
                   "type": "struct"
                  }
                 },
                 {
                  "metadata": {},
                  "name": "numOutputZCubes",
                  "nullable": false,
                  "type": "long"
                 }
                ],
                "type": "struct"
               }
              },
              {
               "metadata": {},
               "name": "numBins",
               "nullable": false,
               "type": "long"
              },
              {
               "metadata": {},
               "name": "numBatches",
               "nullable": false,
               "type": "long"
              },
              {
               "metadata": {},
               "name": "totalConsideredFiles",
               "nullable": false,
               "type": "long"
              },
              {
               "metadata": {},
               "name": "totalFilesSkipped",
               "nullable": false,
               "type": "long"
              },
              {
               "metadata": {},
               "name": "preserveInsertionOrder",
               "nullable": false,
               "type": "boolean"
              },
              {
               "metadata": {},
               "name": "numFilesSkippedToReduceWriteAmplification",
               "nullable": false,
               "type": "long"
              },
              {
               "metadata": {},
               "name": "numBytesSkippedToReduceWriteAmplification",
               "nullable": false,
               "type": "long"
              },
              {
               "metadata": {},
               "name": "startTimeMs",
               "nullable": false,
               "type": "long"
              },
              {
               "metadata": {},
               "name": "endTimeMs",
               "nullable": false,
               "type": "long"
              },
              {
               "metadata": {},
               "name": "totalClusterParallelism",
               "nullable": false,
               "type": "long"
              },
              {
               "metadata": {},
               "name": "totalScheduledTasks",
               "nullable": false,
               "type": "long"
              },
              {
               "metadata": {},
               "name": "autoCompactParallelismStats",
               "nullable": true,
               "type": {
                "fields": [
                 {
                  "metadata": {},
                  "name": "maxClusterActiveParallelism",
                  "nullable": true,
                  "type": "long"
                 },
                 {
                  "metadata": {},
                  "name": "minClusterActiveParallelism",
                  "nullable": true,
                  "type": "long"
                 },
                 {
                  "metadata": {},
                  "name": "maxSessionActiveParallelism",
                  "nullable": true,
                  "type": "long"
                 },
                 {
                  "metadata": {},
                  "name": "minSessionActiveParallelism",
                  "nullable": true,
                  "type": "long"
                 }
                ],
                "type": "struct"
               }
              },
              {
               "metadata": {},
               "name": "deletionVectorStats",
               "nullable": true,
               "type": {
                "fields": [
                 {
                  "metadata": {},
                  "name": "numDeletionVectorsRemoved",
                  "nullable": false,
                  "type": "long"
                 },
                 {
                  "metadata": {},
                  "name": "numDeletionVectorRowsRemoved",
                  "nullable": false,
                  "type": "long"
                 }
                ],
                "type": "struct"
               }
              },
              {
               "metadata": {},
               "name": "recompressionCodec",
               "nullable": true,
               "type": "string"
              },
              {
               "metadata": {},
               "name": "numTableColumns",
               "nullable": false,
               "type": "long"
              },
              {
               "metadata": {},
               "name": "numTableColumnsWithStats",
               "nullable": false,
               "type": "long"
              },
              {
               "metadata": {},
               "name": "totalTaskExecutionTimeMs",
               "nullable": false,
               "type": "long"
              },
              {
               "metadata": {},
               "name": "skippedArchivedFiles",
               "nullable": false,
               "type": "long"
              },
              {
               "metadata": {},
               "name": "clusteringMetrics",
               "nullable": true,
               "type": {
                "fields": [
                 {
                  "metadata": {},
                  "name": "sizeOfTableInBytesBeforeLazyClustering",
                  "nullable": false,
                  "type": "long"
                 },
                 {
                  "metadata": {},
                  "name": "isNewMetadataCreated",
                  "nullable": false,
                  "type": "boolean"
                 },
                 {
                  "metadata": {},
                  "name": "isPOTriggered",
                  "nullable": false,
                  "type": "boolean"
                 },
                 {
                  "metadata": {},
                  "name": "isFull",
                  "nullable": false,
                  "type": "boolean"
                 },
                 {
                  "metadata": {},
                  "name": "approxClusteringQuality",
                  "nullable": true,
                  "type": "double"
                 },
                 {
                  "metadata": {},
                  "name": "approxClusteringQualityPerColumn",
                  "nullable": true,
                  "type": {
                   "containsNull": false,
                   "elementType": "double",
                   "type": "array"
                  }
                 },
                 {
                  "metadata": {},
                  "name": "approxClusteringCoverage",
                  "nullable": true,
                  "type": "double"
                 },
                 {
                  "metadata": {},
                  "name": "numFilesSkippedWithoutStats",
                  "nullable": false,
                  "type": "long"
                 },
                 {
                  "metadata": {},
                  "name": "numFilesClassifiedToIntermediateNodes",
                  "nullable": false,
                  "type": "long"
                 },
                 {
                  "metadata": {},
                  "name": "sizeOfFilesClassifiedToIntermediateNodesInBytes",
                  "nullable": false,
                  "type": "long"
                 },
                 {
                  "metadata": {},
                  "name": "logicalSizeOfFilesClassifiedToIntermediateNodesInBytes",
                  "nullable": false,
                  "type": "long"
                 },
                 {
                  "metadata": {},
                  "name": "numFilesClassifiedToLeafNodes",
                  "nullable": false,
                  "type": "long"
                 },
                 {
                  "metadata": {},
                  "name": "sizeOfFilesClassifiedToLeafNodesInBytes",
                  "nullable": false,
                  "type": "long"
                 },
                 {
                  "metadata": {},
                  "name": "logicalSizeOfFilesClassifiedToLeafNodesInBytes",
                  "nullable": false,
                  "type": "long"
                 },
                 {
                  "metadata": {},
                  "name": "numThreadsForClassifier",
                  "nullable": true,
                  "type": "integer"
                 },
                 {
                  "metadata": {},
                  "name": "clusterThresholdStrategy",
                  "nullable": true,
                  "type": "string"
                 },
                 {
                  "metadata": {},
                  "name": "minFileSize",
                  "nullable": false,
                  "type": "long"
                 },
                 {
                  "metadata": {},
                  "name": "maxFileSize",
                  "nullable": false,
                  "type": "long"
                 },
                 {
                  "metadata": {},
                  "name": "nodeMinNumFilesToCompact",
                  "nullable": false,
                  "type": "long"
                 },
                 {
                  "metadata": {},
                  "name": "numIdealFiles",
                  "nullable": false,
                  "type": "long"
                 },
                 {
                  "metadata": {},
                  "name": "numIdealFilesWithTrimmedStringMaxValue",
                  "nullable": false,
                  "type": "long"
                 },
                 {
                  "metadata": {},
                  "name": "numAddedFilesWithSameMinMaxOnClusteringColumns",
                  "nullable": true,
                  "type": {
                   "containsNull": false,
                   "elementType": "long",
                   "type": "array"
                  }
                 },
                 {
                  "metadata": {},
                  "name": "numClusteringTasksPlanned",
                  "nullable": false,
                  "type": "integer"
                 },
                 {
                  "metadata": {},
                  "name": "numClusteringTasksNotPlannedDueToPO",
                  "nullable": false,
                  "type": "integer"
                 },
                 {
                  "metadata": {},
                  "name": "numCompactionTasksPlanned",
                  "nullable": false,
                  "type": "integer"
                 },
                 {
                  "metadata": {},
                  "name": "numCompactionTasksPlannedUndoneDueToPO",
                  "nullable": false,
                  "type": "integer"
                 },
                 {
                  "metadata": {},
                  "name": "numOptimizeBatchesPlanned",
                  "nullable": false,
                  "type": "integer"
                 },
                 {
                  "metadata": {},
                  "name": "numLeafNodesExpanded",
                  "nullable": false,
                  "type": "long"
                 },
                 {
                  "metadata": {},
                  "name": "numLeafNodesClustered",
                  "nullable": false,
                  "type": "long"
                 },
                 {
                  "metadata": {},
                  "name": "numGetFilesForNodeCalls",
                  "nullable": false,
                  "type": "long"
                 },
                 {
                  "metadata": {},
                  "name": "numSamplingJobs",
                  "nullable": false,
                  "type": "long"
                 },
                 {
                  "metadata": {},
                  "name": "numLeafNodesCompacted",
                  "nullable": false,
                  "type": "long"
                 },
                 {
                  "metadata": {},
                  "name": "numLeafNodesCompactedUndoneDueToPO",
                  "nullable": false,
                  "type": "long"
                 },
                 {
                  "metadata": {},
                  "name": "numIntermediateNodesCompacted",
                  "nullable": false,
                  "type": "long"
                 },
                 {
                  "metadata": {},
                  "name": "numIntermediateNodesCompactedUndoneDueToPO",
                  "nullable": false,
                  "type": "long"
                 },
                 {
                  "metadata": {},
                  "name": "totalSizeOfDataToCompactInBytes",
                  "nullable": false,
                  "type": "long"
                 },
                 {
                  "metadata": {},
                  "name": "totalSizeOfDataToCompactInBytesUndoneDueToPO",
                  "nullable": false,
                  "type": "long"
                 },
                 {
                  "metadata": {},
                  "name": "totalLogicalSizeOfDataToCompactInBytes",
                  "nullable": false,
                  "type": "long"
                 },
                 {
                  "metadata": {},
                  "name": "totalLogicalSizeOfDataToCompactInBytesUndoneDueToPO",
                  "nullable": false,
                  "type": "long"
                 },
                 {
                  "metadata": {},
                  "name": "numIntermediateNodesClustered",
                  "nullable": false,
                  "type": "long"
                 },
                 {
                  "metadata": {},
                  "name": "numFilesSkippedAfterExpansion",
                  "nullable": false,
                  "type": "long"
                 },
                 {
                  "metadata": {},
                  "name": "totalSizeOfFilesSkippedAfterExpansionInBytes",
                  "nullable": false,
                  "type": "long"
                 },
                 {
                  "metadata": {},
                  "name": "totalLogicalSizeOfFilesSkippedAfterExpansionInBytes",
                  "nullable": false,
                  "type": "long"
                 },
                 {
                  "metadata": {},
                  "name": "totalSizeOfDataToRewriteInBytes",
                  "nullable": false,
                  "type": "long"
                 },
                 {
                  "metadata": {},
                  "name": "totalLogicalSizeOfDataToRewriteInBytes",
                  "nullable": false,
                  "type": "long"
                 },
                 {
                  "metadata": {},
                  "name": "timeMetrics",
                  "nullable": true,
                  "type": {
                   "fields": [
                    {
                     "metadata": {},
                     "name": "classifierTimeMs",
                     "nullable": false,
                     "type": "long"
                    },
                    {
                     "metadata": {},
                     "name": "optimizerTimeMs",
                     "nullable": false,
                     "type": "long"
                    },
                    {
                     "metadata": {},
                     "name": "metadataLoadTimeMs",
                     "nullable": false,
                     "type": "long"
                    },
                    {
                     "metadata": {},
                     "name": "totalGetFilesForNodeCallsTimeMs",
                     "nullable": false,
                     "type": "long"
                    },
                    {
                     "metadata": {},
                     "name": "totalSamplingTimeMs",
                     "nullable": false,
                     "type": "long"
                    },
                    {
                     "metadata": {},
                     "name": "metadataCreationTimeMs",
                     "nullable": false,
                     "type": "long"
                    }
                   ],
                   "type": "struct"
                  }
                 },
                 {
                  "metadata": {},
                  "name": "maxOptimizeBatchesInParallel",
                  "nullable": false,
                  "type": "long"
                 },
                 {
                  "metadata": {},
                  "name": "currentIteration",
                  "nullable": false,
                  "type": "integer"
                 },
                 {
                  "metadata": {},
                  "name": "maxIterations",
                  "nullable": false,
                  "type": "integer"
                 },
                 {
                  "metadata": {},
                  "name": "clusteringStrategy",
                  "nullable": true,
                  "type": "string"
                 }
                ],
                "type": "struct"
               }
              }
             ],
             "type": "struct"
            }
           }
          ],
          "type": "struct"
         },
         "tableIdentifier": null,
         "typeStr": "pyspark.sql.dataframe.DataFrame"
        }
       ],
       "dbfsResultPath": null,
       "isJsonSchema": true,
       "metadata": {
        "createTempViewForImplicitDf": true,
        "dataframeName": "_sqldf",
        "executionCount": 32
       },
       "overflow": false,
       "plotOptions": {
        "customPlotOptions": {},
        "displayType": "table",
        "pivotAggregation": null,
        "pivotColumns": null,
        "xColumns": null,
        "yColumns": null
       },
       "removedWidgets": [],
       "schema": [
        {
         "metadata": "{}",
         "name": "path",
         "type": "\"string\""
        },
        {
         "metadata": "{}",
         "name": "metrics",
         "type": "{\"type\":\"struct\",\"fields\":[{\"name\":\"numFilesAdded\",\"type\":\"long\",\"nullable\":false,\"metadata\":{}},{\"name\":\"numFilesRemoved\",\"type\":\"long\",\"nullable\":false,\"metadata\":{}},{\"name\":\"filesAdded\",\"type\":{\"type\":\"struct\",\"fields\":[{\"name\":\"min\",\"type\":\"long\",\"nullable\":true,\"metadata\":{}},{\"name\":\"max\",\"type\":\"long\",\"nullable\":true,\"metadata\":{}},{\"name\":\"avg\",\"type\":\"double\",\"nullable\":false,\"metadata\":{}},{\"name\":\"totalFiles\",\"type\":\"long\",\"nullable\":false,\"metadata\":{}},{\"name\":\"totalSize\",\"type\":\"long\",\"nullable\":false,\"metadata\":{}}]},\"nullable\":true,\"metadata\":{}},{\"name\":\"filesRemoved\",\"type\":{\"type\":\"struct\",\"fields\":[{\"name\":\"min\",\"type\":\"long\",\"nullable\":true,\"metadata\":{}},{\"name\":\"max\",\"type\":\"long\",\"nullable\":true,\"metadata\":{}},{\"name\":\"avg\",\"type\":\"double\",\"nullable\":false,\"metadata\":{}},{\"name\":\"totalFiles\",\"type\":\"long\",\"nullable\":false,\"metadata\":{}},{\"name\":\"totalSize\",\"type\":\"long\",\"nullable\":false,\"metadata\":{}}]},\"nullable\":true,\"metadata\":{}},{\"name\":\"partitionsOptimized\",\"type\":\"long\",\"nullable\":false,\"metadata\":{}},{\"name\":\"zOrderStats\",\"type\":{\"type\":\"struct\",\"fields\":[{\"name\":\"strategyName\",\"type\":\"string\",\"nullable\":true,\"metadata\":{}},{\"name\":\"inputCubeFiles\",\"type\":{\"type\":\"struct\",\"fields\":[{\"name\":\"num\",\"type\":\"long\",\"nullable\":false,\"metadata\":{}},{\"name\":\"size\",\"type\":\"long\",\"nullable\":false,\"metadata\":{}}]},\"nullable\":true,\"metadata\":{}},{\"name\":\"inputOtherFiles\",\"type\":{\"type\":\"struct\",\"fields\":[{\"name\":\"num\",\"type\":\"long\",\"nullable\":false,\"metadata\":{}},{\"name\":\"size\",\"type\":\"long\",\"nullable\":false,\"metadata\":{}}]},\"nullable\":true,\"metadata\":{}},{\"name\":\"inputNumCubes\",\"type\":\"long\",\"nullable\":false,\"metadata\":{}},{\"name\":\"mergedFiles\",\"type\":{\"type\":\"struct\",\"fields\":[{\"name\":\"num\",\"type\":\"long\",\"nullable\":false,\"metadata\":{}},{\"name\":\"size\",\"type\":\"long\",\"nullable\":false,\"metadata\":{}}]},\"nullable\":true,\"metadata\":{}},{\"name\":\"numOutputCubes\",\"type\":\"long\",\"nullable\":false,\"metadata\":{}},{\"name\":\"mergedNumCubes\",\"type\":\"long\",\"nullable\":true,\"metadata\":{}}]},\"nullable\":true,\"metadata\":{}},{\"name\":\"clusteringStats\",\"type\":{\"type\":\"struct\",\"fields\":[{\"name\":\"inputZCubeFiles\",\"type\":{\"type\":\"struct\",\"fields\":[{\"name\":\"numFiles\",\"type\":\"long\",\"nullable\":false,\"metadata\":{}},{\"name\":\"size\",\"type\":\"long\",\"nullable\":false,\"metadata\":{}}]},\"nullable\":true,\"metadata\":{}},{\"name\":\"inputOtherFiles\",\"type\":{\"type\":\"struct\",\"fields\":[{\"name\":\"numFiles\",\"type\":\"long\",\"nullable\":false,\"metadata\":{}},{\"name\":\"size\",\"type\":\"long\",\"nullable\":false,\"metadata\":{}}]},\"nullable\":true,\"metadata\":{}},{\"name\":\"inputNumZCubes\",\"type\":\"long\",\"nullable\":false,\"metadata\":{}},{\"name\":\"mergedFiles\",\"type\":{\"type\":\"struct\",\"fields\":[{\"name\":\"numFiles\",\"type\":\"long\",\"nullable\":false,\"metadata\":{}},{\"name\":\"size\",\"type\":\"long\",\"nullable\":false,\"metadata\":{}}]},\"nullable\":true,\"metadata\":{}},{\"name\":\"numOutputZCubes\",\"type\":\"long\",\"nullable\":false,\"metadata\":{}}]},\"nullable\":true,\"metadata\":{}},{\"name\":\"numBins\",\"type\":\"long\",\"nullable\":false,\"metadata\":{}},{\"name\":\"numBatches\",\"type\":\"long\",\"nullable\":false,\"metadata\":{}},{\"name\":\"totalConsideredFiles\",\"type\":\"long\",\"nullable\":false,\"metadata\":{}},{\"name\":\"totalFilesSkipped\",\"type\":\"long\",\"nullable\":false,\"metadata\":{}},{\"name\":\"preserveInsertionOrder\",\"type\":\"boolean\",\"nullable\":false,\"metadata\":{}},{\"name\":\"numFilesSkippedToReduceWriteAmplification\",\"type\":\"long\",\"nullable\":false,\"metadata\":{}},{\"name\":\"numBytesSkippedToReduceWriteAmplification\",\"type\":\"long\",\"nullable\":false,\"metadata\":{}},{\"name\":\"startTimeMs\",\"type\":\"long\",\"nullable\":false,\"metadata\":{}},{\"name\":\"endTimeMs\",\"type\":\"long\",\"nullable\":false,\"metadata\":{}},{\"name\":\"totalClusterParallelism\",\"type\":\"long\",\"nullable\":false,\"metadata\":{}},{\"name\":\"totalScheduledTasks\",\"type\":\"long\",\"nullable\":false,\"metadata\":{}},{\"name\":\"autoCompactParallelismStats\",\"type\":{\"type\":\"struct\",\"fields\":[{\"name\":\"maxClusterActiveParallelism\",\"type\":\"long\",\"nullable\":true,\"metadata\":{}},{\"name\":\"minClusterActiveParallelism\",\"type\":\"long\",\"nullable\":true,\"metadata\":{}},{\"name\":\"maxSessionActiveParallelism\",\"type\":\"long\",\"nullable\":true,\"metadata\":{}},{\"name\":\"minSessionActiveParallelism\",\"type\":\"long\",\"nullable\":true,\"metadata\":{}}]},\"nullable\":true,\"metadata\":{}},{\"name\":\"deletionVectorStats\",\"type\":{\"type\":\"struct\",\"fields\":[{\"name\":\"numDeletionVectorsRemoved\",\"type\":\"long\",\"nullable\":false,\"metadata\":{}},{\"name\":\"numDeletionVectorRowsRemoved\",\"type\":\"long\",\"nullable\":false,\"metadata\":{}}]},\"nullable\":true,\"metadata\":{}},{\"name\":\"recompressionCodec\",\"type\":\"string\",\"nullable\":true,\"metadata\":{}},{\"name\":\"numTableColumns\",\"type\":\"long\",\"nullable\":false,\"metadata\":{}},{\"name\":\"numTableColumnsWithStats\",\"type\":\"long\",\"nullable\":false,\"metadata\":{}},{\"name\":\"totalTaskExecutionTimeMs\",\"type\":\"long\",\"nullable\":false,\"metadata\":{}},{\"name\":\"skippedArchivedFiles\",\"type\":\"long\",\"nullable\":false,\"metadata\":{}},{\"name\":\"clusteringMetrics\",\"type\":{\"type\":\"struct\",\"fields\":[{\"name\":\"sizeOfTableInBytesBeforeLazyClustering\",\"type\":\"long\",\"nullable\":false,\"metadata\":{}},{\"name\":\"isNewMetadataCreated\",\"type\":\"boolean\",\"nullable\":false,\"metadata\":{}},{\"name\":\"isPOTriggered\",\"type\":\"boolean\",\"nullable\":false,\"metadata\":{}},{\"name\":\"isFull\",\"type\":\"boolean\",\"nullable\":false,\"metadata\":{}},{\"name\":\"approxClusteringQuality\",\"type\":\"double\",\"nullable\":true,\"metadata\":{}},{\"name\":\"approxClusteringQualityPerColumn\",\"type\":{\"type\":\"array\",\"elementType\":\"double\",\"containsNull\":false},\"nullable\":true,\"metadata\":{}},{\"name\":\"approxClusteringCoverage\",\"type\":\"double\",\"nullable\":true,\"metadata\":{}},{\"name\":\"numFilesSkippedWithoutStats\",\"type\":\"long\",\"nullable\":false,\"metadata\":{}},{\"name\":\"numFilesClassifiedToIntermediateNodes\",\"type\":\"long\",\"nullable\":false,\"metadata\":{}},{\"name\":\"sizeOfFilesClassifiedToIntermediateNodesInBytes\",\"type\":\"long\",\"nullable\":false,\"metadata\":{}},{\"name\":\"logicalSizeOfFilesClassifiedToIntermediateNodesInBytes\",\"type\":\"long\",\"nullable\":false,\"metadata\":{}},{\"name\":\"numFilesClassifiedToLeafNodes\",\"type\":\"long\",\"nullable\":false,\"metadata\":{}},{\"name\":\"sizeOfFilesClassifiedToLeafNodesInBytes\",\"type\":\"long\",\"nullable\":false,\"metadata\":{}},{\"name\":\"logicalSizeOfFilesClassifiedToLeafNodesInBytes\",\"type\":\"long\",\"nullable\":false,\"metadata\":{}},{\"name\":\"numThreadsForClassifier\",\"type\":\"integer\",\"nullable\":true,\"metadata\":{}},{\"name\":\"clusterThresholdStrategy\",\"type\":\"string\",\"nullable\":true,\"metadata\":{}},{\"name\":\"minFileSize\",\"type\":\"long\",\"nullable\":false,\"metadata\":{}},{\"name\":\"maxFileSize\",\"type\":\"long\",\"nullable\":false,\"metadata\":{}},{\"name\":\"nodeMinNumFilesToCompact\",\"type\":\"long\",\"nullable\":false,\"metadata\":{}},{\"name\":\"numIdealFiles\",\"type\":\"long\",\"nullable\":false,\"metadata\":{}},{\"name\":\"numIdealFilesWithTrimmedStringMaxValue\",\"type\":\"long\",\"nullable\":false,\"metadata\":{}},{\"name\":\"numAddedFilesWithSameMinMaxOnClusteringColumns\",\"type\":{\"type\":\"array\",\"elementType\":\"long\",\"containsNull\":false},\"nullable\":true,\"metadata\":{}},{\"name\":\"numClusteringTasksPlanned\",\"type\":\"integer\",\"nullable\":false,\"metadata\":{}},{\"name\":\"numClusteringTasksNotPlannedDueToPO\",\"type\":\"integer\",\"nullable\":false,\"metadata\":{}},{\"name\":\"numCompactionTasksPlanned\",\"type\":\"integer\",\"nullable\":false,\"metadata\":{}},{\"name\":\"numCompactionTasksPlannedUndoneDueToPO\",\"type\":\"integer\",\"nullable\":false,\"metadata\":{}},{\"name\":\"numOptimizeBatchesPlanned\",\"type\":\"integer\",\"nullable\":false,\"metadata\":{}},{\"name\":\"numLeafNodesExpanded\",\"type\":\"long\",\"nullable\":false,\"metadata\":{}},{\"name\":\"numLeafNodesClustered\",\"type\":\"long\",\"nullable\":false,\"metadata\":{}},{\"name\":\"numGetFilesForNodeCalls\",\"type\":\"long\",\"nullable\":false,\"metadata\":{}},{\"name\":\"numSamplingJobs\",\"type\":\"long\",\"nullable\":false,\"metadata\":{}},{\"name\":\"numLeafNodesCompacted\",\"type\":\"long\",\"nullable\":false,\"metadata\":{}},{\"name\":\"numLeafNodesCompactedUndoneDueToPO\",\"type\":\"long\",\"nullable\":false,\"metadata\":{}},{\"name\":\"numIntermediateNodesCompacted\",\"type\":\"long\",\"nullable\":false,\"metadata\":{}},{\"name\":\"numIntermediateNodesCompactedUndoneDueToPO\",\"type\":\"long\",\"nullable\":false,\"metadata\":{}},{\"name\":\"totalSizeOfDataToCompactInBytes\",\"type\":\"long\",\"nullable\":false,\"metadata\":{}},{\"name\":\"totalSizeOfDataToCompactInBytesUndoneDueToPO\",\"type\":\"long\",\"nullable\":false,\"metadata\":{}},{\"name\":\"totalLogicalSizeOfDataToCompactInBytes\",\"type\":\"long\",\"nullable\":false,\"metadata\":{}},{\"name\":\"totalLogicalSizeOfDataToCompactInBytesUndoneDueToPO\",\"type\":\"long\",\"nullable\":false,\"metadata\":{}},{\"name\":\"numIntermediateNodesClustered\",\"type\":\"long\",\"nullable\":false,\"metadata\":{}},{\"name\":\"numFilesSkippedAfterExpansion\",\"type\":\"long\",\"nullable\":false,\"metadata\":{}},{\"name\":\"totalSizeOfFilesSkippedAfterExpansionInBytes\",\"type\":\"long\",\"nullable\":false,\"metadata\":{}},{\"name\":\"totalLogicalSizeOfFilesSkippedAfterExpansionInBytes\",\"type\":\"long\",\"nullable\":false,\"metadata\":{}},{\"name\":\"totalSizeOfDataToRewriteInBytes\",\"type\":\"long\",\"nullable\":false,\"metadata\":{}},{\"name\":\"totalLogicalSizeOfDataToRewriteInBytes\",\"type\":\"long\",\"nullable\":false,\"metadata\":{}},{\"name\":\"timeMetrics\",\"type\":{\"type\":\"struct\",\"fields\":[{\"name\":\"classifierTimeMs\",\"type\":\"long\",\"nullable\":false,\"metadata\":{}},{\"name\":\"optimizerTimeMs\",\"type\":\"long\",\"nullable\":false,\"metadata\":{}},{\"name\":\"metadataLoadTimeMs\",\"type\":\"long\",\"nullable\":false,\"metadata\":{}},{\"name\":\"totalGetFilesForNodeCallsTimeMs\",\"type\":\"long\",\"nullable\":false,\"metadata\":{}},{\"name\":\"totalSamplingTimeMs\",\"type\":\"long\",\"nullable\":false,\"metadata\":{}},{\"name\":\"metadataCreationTimeMs\",\"type\":\"long\",\"nullable\":false,\"metadata\":{}}]},\"nullable\":true,\"metadata\":{}},{\"name\":\"maxOptimizeBatchesInParallel\",\"type\":\"long\",\"nullable\":false,\"metadata\":{}},{\"name\":\"currentIteration\",\"type\":\"integer\",\"nullable\":false,\"metadata\":{}},{\"name\":\"maxIterations\",\"type\":\"integer\",\"nullable\":false,\"metadata\":{}},{\"name\":\"clusteringStrategy\",\"type\":\"string\",\"nullable\":true,\"metadata\":{}}]},\"nullable\":true,\"metadata\":{}}]}"
        }
       ],
       "type": "table"
      }
     },
     "output_type": "display_data"
    }
   ],
   "source": [
    "%sql\n",
    "OPTIMIZE employee ZORDER BY (EMPLOYEE_ID);"
   ]
  },
  {
   "cell_type": "code",
   "execution_count": 0,
   "metadata": {
    "application/vnd.databricks.v1+cell": {
     "cellMetadata": {},
     "inputWidgets": {},
     "nuid": "c75f7106-bcf2-45d7-bbce-a5e029a0df19",
     "showTitle": false,
     "tableResultSettingsMap": {},
     "title": ""
    }
   },
   "outputs": [],
   "source": []
  }
 ],
 "metadata": {
  "application/vnd.databricks.v1+notebook": {
   "computePreferences": null,
   "dashboards": [],
   "environmentMetadata": {
    "base_environment": "",
    "environment_version": "2"
   },
   "inputWidgetPreferences": null,
   "language": "python",
   "notebookMetadata": {
    "mostRecentlyExecutedCommandWithImplicitDF": {
     "commandId": 7479640162356124,
     "dataframes": [
      "_sqldf"
     ]
    },
    "pythonIndentUnit": 4
   },
   "notebookName": "EDA Analysis with ADLS",
   "widgets": {}
  },
  "language_info": {
   "name": "python"
  }
 },
 "nbformat": 4,
 "nbformat_minor": 0
}