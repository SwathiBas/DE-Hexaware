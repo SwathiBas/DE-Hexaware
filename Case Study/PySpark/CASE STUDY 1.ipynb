{
  "nbformat": 4,
  "nbformat_minor": 0,
  "metadata": {
    "colab": {
      "provenance": []
    },
    "kernelspec": {
      "name": "python3",
      "display_name": "Python 3"
    },
    "language_info": {
      "name": "python"
    }
  },
  "cells": [
    {
      "cell_type": "code",
      "execution_count": null,
      "metadata": {
        "id": "yNT4K8KgDt3V"
      },
      "outputs": [],
      "source": [
        "# Loading of datasets\n",
        "import pyspark\n",
        "from pyspark import SparkContext\n",
        "from pyspark.sql import SparkSession\n",
        "\n",
        "spark = SparkSession.builder.appName(\"Loading and Analysing Data\").getOrCreate()\n",
        "credit_cardDF = spark.read.csv(\"/content/credit card.csv\", header = True, inferSchema = True)\n",
        "loanDF = spark.read.csv(\"/content/loan.csv\", header = True, inferSchema = True)\n",
        "txnDF = spark.read.csv(\"/content/txn.csv\", header = True, inferSchema = True)"
      ]
    },
    {
      "cell_type": "code",
      "source": [
        "# Number of loans in each category\n",
        "loanDF.groupBy(\"Loan Category\").count().show()"
      ],
      "metadata": {
        "colab": {
          "base_uri": "https://localhost:8080/"
        },
        "id": "lWfgVJEiFqdj",
        "outputId": "57cbb559-568f-4e8d-f6ec-6e035763fdd1"
      },
      "execution_count": null,
      "outputs": [
        {
          "output_type": "stream",
          "name": "stdout",
          "text": [
            "+------------------+-----+\n",
            "|     Loan Category|count|\n",
            "+------------------+-----+\n",
            "|           HOUSING|   67|\n",
            "|        TRAVELLING|   53|\n",
            "|       BOOK STORES|    7|\n",
            "|       AGRICULTURE|   12|\n",
            "|         GOLD LOAN|   77|\n",
            "|  EDUCATIONAL LOAN|   20|\n",
            "|        AUTOMOBILE|   60|\n",
            "|          BUSINESS|   24|\n",
            "|COMPUTER SOFTWARES|   35|\n",
            "|           DINNING|   14|\n",
            "|          SHOPPING|   35|\n",
            "|       RESTAURANTS|   41|\n",
            "|       ELECTRONICS|   14|\n",
            "|          BUILDING|    7|\n",
            "|        RESTAURANT|   20|\n",
            "|   HOME APPLIANCES|   14|\n",
            "+------------------+-----+\n",
            "\n"
          ]
        }
      ]
    },
    {
      "cell_type": "code",
      "source": [
        "from pyspark.sql.functions import regexp_replace, col\n",
        "\n",
        "loanDF = loanDF.withColumn(\"Loan_Amount\",\n",
        "            regexp_replace(col(\"Loan Amount\"), \",\", \"\").cast(\"int\"))"
      ],
      "metadata": {
        "id": "9kncEC3PHAJG"
      },
      "execution_count": null,
      "outputs": []
    },
    {
      "cell_type": "code",
      "source": [
        "# Number of people who have taken more than 1 lack loan\n",
        "loanDF.where(loanDF[\"Loan_Amount\"] > 100000).count()"
      ],
      "metadata": {
        "colab": {
          "base_uri": "https://localhost:8080/"
        },
        "id": "QSKsI8jzGB3M",
        "outputId": "5c86ca57-a021-4a7a-d2c9-9fe94a71de85"
      },
      "execution_count": null,
      "outputs": [
        {
          "output_type": "execute_result",
          "data": {
            "text/plain": [
              "450"
            ]
          },
          "metadata": {},
          "execution_count": 17
        }
      ]
    },
    {
      "cell_type": "code",
      "source": [
        "# Number of people with income greater than 60000 rupees\n",
        "loanDF.where(loanDF[\"Income\"] > 50000).count()"
      ],
      "metadata": {
        "colab": {
          "base_uri": "https://localhost:8080/"
        },
        "id": "4NBwkv8mHnw7",
        "outputId": "c57ecfc6-608e-4060-ca82-cff3f85bb417"
      },
      "execution_count": null,
      "outputs": [
        {
          "output_type": "execute_result",
          "data": {
            "text/plain": [
              "284"
            ]
          },
          "metadata": {},
          "execution_count": 20
        }
      ]
    },
    {
      "cell_type": "code",
      "source": [
        "# Number of people with 2 or more returned cheques and income less than 50000\n",
        "loanDF.filter((loanDF[\" Returned Cheque\"] >= 2) & (loanDF[\"Income\"] < 50000)).count()"
      ],
      "metadata": {
        "colab": {
          "base_uri": "https://localhost:8080/"
        },
        "id": "SThzNEPZH7om",
        "outputId": "6296ccb5-df20-47c6-abed-68d3e99dffca"
      },
      "execution_count": null,
      "outputs": [
        {
          "output_type": "execute_result",
          "data": {
            "text/plain": [
              "137"
            ]
          },
          "metadata": {},
          "execution_count": 25
        }
      ]
    },
    {
      "cell_type": "code",
      "source": [
        "# Number of people with 2 or more returned cheques and are single\n",
        "loanDF.filter((loanDF[\" Returned Cheque\"] >= 2) & (loanDF[\"Marital Status\"] == \"SINGLE\")).count()"
      ],
      "metadata": {
        "colab": {
          "base_uri": "https://localhost:8080/"
        },
        "id": "vgeROxZMIhb9",
        "outputId": "ffd797a6-313a-4c80-c941-232765efbf12"
      },
      "execution_count": null,
      "outputs": [
        {
          "output_type": "execute_result",
          "data": {
            "text/plain": [
              "111"
            ]
          },
          "metadata": {},
          "execution_count": 32
        }
      ]
    },
    {
      "cell_type": "code",
      "source": [
        "# Number of people with expenditure over 50000 a month\n",
        "loanDF.filter(loanDF[\"Expenditure\"] > 50000).count()"
      ],
      "metadata": {
        "colab": {
          "base_uri": "https://localhost:8080/"
        },
        "id": "Q21SwEH1KgTl",
        "outputId": "c3ee8ce3-94bd-42bb-9982-a58c84a82cf0"
      },
      "execution_count": null,
      "outputs": [
        {
          "output_type": "execute_result",
          "data": {
            "text/plain": [
              "6"
            ]
          },
          "metadata": {},
          "execution_count": 34
        }
      ]
    },
    {
      "cell_type": "code",
      "source": [
        "# Credit card users in Spain\n",
        "credit_cardDF.filter(credit_cardDF[\"Geography\"] == \"Spain\").show()"
      ],
      "metadata": {
        "id": "WalcoJh5K0sR",
        "colab": {
          "base_uri": "https://localhost:8080/"
        },
        "outputId": "274e16c8-09ff-430d-b547-1b674dd513ce"
      },
      "execution_count": 38,
      "outputs": [
        {
          "output_type": "stream",
          "name": "stdout",
          "text": [
            "+---------+----------+---------+-----------+---------+------+---+------+---------+-------------+--------------+---------------+------+\n",
            "|RowNumber|CustomerId|  Surname|CreditScore|Geography|Gender|Age|Tenure|  Balance|NumOfProducts|IsActiveMember|EstimatedSalary|Exited|\n",
            "+---------+----------+---------+-----------+---------+------+---+------+---------+-------------+--------------+---------------+------+\n",
            "|        2|  15647311|     Hill|        608|    Spain|Female| 41|     1| 83807.86|            1|             1|      112542.58|     0|\n",
            "|        5|  15737888| Mitchell|        850|    Spain|Female| 43|     2|125510.82|            1|             1|        79084.1|     0|\n",
            "|        6|  15574012|      Chu|        645|    Spain|  Male| 44|     8|113755.78|            2|             0|      149756.71|     1|\n",
            "|       12|  15737173|  Andrews|        497|    Spain|  Male| 24|     3|      0.0|            2|             0|       76390.01|     0|\n",
            "|       15|  15600882|    Scott|        635|    Spain|Female| 35|     7|      0.0|            2|             1|       65951.65|     0|\n",
            "|       18|  15788218|Henderson|        549|    Spain|Female| 24|     9|      0.0|            2|             1|       14406.41|     0|\n",
            "|       19|  15661507|  Muldrow|        587|    Spain|  Male| 45|     6|      0.0|            1|             0|      158684.81|     0|\n",
            "|       22|  15597945| Dellucci|        636|    Spain|Female| 32|     8|      0.0|            2|             0|      138555.46|     0|\n",
            "|       23|  15699309|Gerasimov|        510|    Spain|Female| 38|     4|      0.0|            1|             0|      118913.53|     1|\n",
            "|       31|  15589475|  Azikiwe|        591|    Spain|Female| 39|     3|      0.0|            3|             0|      140469.38|     1|\n",
            "|       34|  15659428|  Maggard|        520|    Spain|Female| 42|     6|      0.0|            2|             1|       34410.55|     0|\n",
            "|       35|  15732963| Clements|        722|    Spain|Female| 29|     9|      0.0|            2|             1|      142033.07|     0|\n",
            "|       37|  15788448|   Watson|        490|    Spain|  Male| 31|     3|145260.23|            1|             1|      114066.77|     0|\n",
            "|       38|  15729599|  Lorenzo|        804|    Spain|  Male| 33|     7|  76548.6|            1|             1|       98453.45|     0|\n",
            "|       41|  15619360|    Hsiao|        472|    Spain|  Male| 40|     4|      0.0|            1|             0|       70154.22|     0|\n",
            "|       45|  15684171|  Bianchi|        660|    Spain|Female| 61|     5|155931.11|            1|             1|      158338.39|     0|\n",
            "|       59|  15623944|    T'ien|        511|    Spain|Female| 66|     4|      0.0|            1|             0|        1643.11|     1|\n",
            "|       63|  15702014|  Jeffrey|        555|    Spain|  Male| 33|     1| 56084.69|            2|             0|      178798.13|     0|\n",
            "|       64|  15751208|  Pirozzi|        684|    Spain|  Male| 56|     8| 78707.16|            1|             1|       99398.36|     0|\n",
            "|       73|  15812518|  Palermo|        657|    Spain|Female| 37|     0|163607.18|            1|             1|       44203.55|     0|\n",
            "+---------+----------+---------+-----------+---------+------+---+------+---------+-------------+--------------+---------------+------+\n",
            "only showing top 20 rows\n",
            "\n"
          ]
        }
      ]
    },
    {
      "cell_type": "code",
      "source": [
        "# Number of members who are eligible and active in the bank\n",
        "credit_cardDF.filter(credit_cardDF[\"IsActiveMember\"] == 1).count()"
      ],
      "metadata": {
        "colab": {
          "base_uri": "https://localhost:8080/"
        },
        "id": "Zc0BPq_SM47q",
        "outputId": "e26f3c6f-6324-4e59-d3b6-477fb05c3b80"
      },
      "execution_count": 42,
      "outputs": [
        {
          "output_type": "execute_result",
          "data": {
            "text/plain": [
              "5151"
            ]
          },
          "metadata": {},
          "execution_count": 42
        }
      ]
    },
    {
      "cell_type": "code",
      "source": [
        "# Maximum withdrawal amount in transactions\n",
        "from pyspark.sql.functions import max\n",
        "txnDF.select(max(\" WITHDRAWAL AMT \").alias(\"Max Withdrawal Amount\").cast(\"long\")).show()"
      ],
      "metadata": {
        "colab": {
          "base_uri": "https://localhost:8080/"
        },
        "id": "6UQw5-LjONeq",
        "outputId": "cb3f2cae-727a-4415-c3d7-9e05df2ee024"
      },
      "execution_count": 53,
      "outputs": [
        {
          "output_type": "stream",
          "name": "stdout",
          "text": [
            "+---------------------+\n",
            "|Max Withdrawal Amount|\n",
            "+---------------------+\n",
            "|            459447546|\n",
            "+---------------------+\n",
            "\n"
          ]
        }
      ]
    },
    {
      "cell_type": "code",
      "source": [
        "# Minimum withdrawal amount in transactions\n",
        "from pyspark.sql.functions import min\n",
        "txnDF.select(min(\" WITHDRAWAL AMT \").alias(\"Min Withdrawal Amount\")).show()"
      ],
      "metadata": {
        "colab": {
          "base_uri": "https://localhost:8080/"
        },
        "id": "Hyr8H27BQiFc",
        "outputId": "74849b70-66dd-4826-e2d2-3e51d52a1f28"
      },
      "execution_count": 54,
      "outputs": [
        {
          "output_type": "stream",
          "name": "stdout",
          "text": [
            "+---------------------+\n",
            "|Min Withdrawal Amount|\n",
            "+---------------------+\n",
            "|                 0.01|\n",
            "+---------------------+\n",
            "\n"
          ]
        }
      ]
    },
    {
      "cell_type": "code",
      "source": [
        "# Maximum Deposit Amount of an Account\n",
        "txnDF.select(max(\" DEPOSIT AMT \").alias(\"Max Deposit Amt\").cast(\"long\")).show()"
      ],
      "metadata": {
        "colab": {
          "base_uri": "https://localhost:8080/"
        },
        "id": "d8FpCbLaQySo",
        "outputId": "bd0c76b9-5e87-4cef-bb3a-da7b023ea962"
      },
      "execution_count": 56,
      "outputs": [
        {
          "output_type": "stream",
          "name": "stdout",
          "text": [
            "+---------------+\n",
            "|Max Deposit Amt|\n",
            "+---------------+\n",
            "|      544800000|\n",
            "+---------------+\n",
            "\n"
          ]
        }
      ]
    },
    {
      "cell_type": "code",
      "source": [
        "# Minimum Deposit Amount of an Account\n",
        "txnDF.select(min(\" DEPOSIT AMT \").alias(\"Min Deposit Amt\")).show()"
      ],
      "metadata": {
        "colab": {
          "base_uri": "https://localhost:8080/"
        },
        "id": "wHYzye2PRCLt",
        "outputId": "51a80bad-433d-479f-ea73-bd84aae8c914"
      },
      "execution_count": 58,
      "outputs": [
        {
          "output_type": "stream",
          "name": "stdout",
          "text": [
            "+---------------+\n",
            "|Min Deposit Amt|\n",
            "+---------------+\n",
            "|           0.01|\n",
            "+---------------+\n",
            "\n"
          ]
        }
      ]
    },
    {
      "cell_type": "code",
      "source": [
        "# Sum of balance in every bank account\n",
        "from pyspark.sql.functions import sum\n",
        "txnDF.groupBy(\"Account No\").agg(sum(\"BALANCE AMT\").cast(\"long\").alias(\"Total Balance\")).show()"
      ],
      "metadata": {
        "colab": {
          "base_uri": "https://localhost:8080/"
        },
        "id": "AUDarWbERVVx",
        "outputId": "868b6c8c-8c3e-434d-a45c-60f92922f7d3"
      },
      "execution_count": 71,
      "outputs": [
        {
          "output_type": "stream",
          "name": "stdout",
          "text": [
            "+-------------+---------------+\n",
            "|   Account No|  Total Balance|\n",
            "+-------------+---------------+\n",
            "|409000438611'| -2494865770683|\n",
            "|     1196711'|-16047649810127|\n",
            "|     1196428'|-81418498130721|\n",
            "|409000493210'| -3275849521320|\n",
            "|409000611074'|     1615533622|\n",
            "|409000425051'|    -3772118411|\n",
            "|409000405747'|   -24310804706|\n",
            "|409000362497'|-52860004792808|\n",
            "|409000493201'|     1042083182|\n",
            "|409000438620'| -7122918679513|\n",
            "+-------------+---------------+\n",
            "\n"
          ]
        }
      ]
    },
    {
      "cell_type": "code",
      "source": [
        "# Number of transaction on each date\n",
        "from pyspark.sql.functions import count\n",
        "txnDF.groupBy(\"VALUE DATE\").count().withColumnRenamed(\"count\", \"Number Of Transactions\").show()"
      ],
      "metadata": {
        "colab": {
          "base_uri": "https://localhost:8080/"
        },
        "id": "68-o4wikSqtr",
        "outputId": "86c3b16a-d5cb-4703-df96-9fe579ab04e5"
      },
      "execution_count": 79,
      "outputs": [
        {
          "output_type": "stream",
          "name": "stdout",
          "text": [
            "+----------+----------------------+\n",
            "|VALUE DATE|Number Of Transactions|\n",
            "+----------+----------------------+\n",
            "| 23-Dec-16|                   143|\n",
            "|  7-Feb-19|                    98|\n",
            "| 21-Jul-15|                    80|\n",
            "|  9-Sep-15|                    91|\n",
            "| 17-Jan-15|                    16|\n",
            "| 18-Nov-17|                    53|\n",
            "| 21-Feb-18|                    77|\n",
            "| 20-Mar-18|                    71|\n",
            "| 19-Apr-18|                    71|\n",
            "| 21-Jun-16|                    97|\n",
            "| 17-Oct-17|                   101|\n",
            "|  3-Jan-18|                    70|\n",
            "|  8-Jun-18|                   223|\n",
            "| 15-Dec-18|                    62|\n",
            "|  8-Aug-16|                    97|\n",
            "| 17-Dec-16|                    74|\n",
            "|  3-Sep-15|                    83|\n",
            "| 21-Jan-16|                    76|\n",
            "|  4-May-18|                    92|\n",
            "|  7-Sep-17|                    94|\n",
            "+----------+----------------------+\n",
            "only showing top 20 rows\n",
            "\n"
          ]
        }
      ]
    },
    {
      "cell_type": "code",
      "source": [
        "# List of customers with withdrawal amount more than 1 lakh\n",
        "txnDF.filter(txnDF[\" WITHDRAWAL AMT \"] > 100000).select(\"Account No\").show()"
      ],
      "metadata": {
        "colab": {
          "base_uri": "https://localhost:8080/"
        },
        "id": "O_ASes1yTll7",
        "outputId": "cf235148-0ed5-4573-8684-b832fc27ba89"
      },
      "execution_count": 83,
      "outputs": [
        {
          "output_type": "stream",
          "name": "stdout",
          "text": [
            "+-------------+\n",
            "|   Account No|\n",
            "+-------------+\n",
            "|409000611074'|\n",
            "|409000611074'|\n",
            "|409000611074'|\n",
            "|409000611074'|\n",
            "|409000611074'|\n",
            "|409000611074'|\n",
            "|409000611074'|\n",
            "|409000611074'|\n",
            "|409000611074'|\n",
            "|409000611074'|\n",
            "|409000611074'|\n",
            "|409000611074'|\n",
            "|409000611074'|\n",
            "|409000611074'|\n",
            "|409000611074'|\n",
            "|409000611074'|\n",
            "|409000611074'|\n",
            "|409000611074'|\n",
            "|409000611074'|\n",
            "|409000611074'|\n",
            "+-------------+\n",
            "only showing top 20 rows\n",
            "\n"
          ]
        }
      ]
    }
  ]
}