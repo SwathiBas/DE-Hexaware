{
  "nbformat": 4,
  "nbformat_minor": 0,
  "metadata": {
    "colab": {
      "provenance": []
    },
    "kernelspec": {
      "name": "python3",
      "display_name": "Python 3"
    },
    "language_info": {
      "name": "python"
    }
  },
  "cells": [
    {
      "cell_type": "code",
      "execution_count": 16,
      "metadata": {
        "id": "yiW85a0PkkPx"
      },
      "outputs": [],
      "source": [
        "import pyspark\n",
        "from pyspark import SparkContext\n",
        "from pyspark.sql import SparkSession\n",
        "\n",
        "sc = SparkContext.getOrCreate()\n",
        "spark = SparkSession.builder.appName(\"Actions and Transformations in Pyspark\").getOrCreate()\n",
        "\n",
        "sample_data = sc.parallelize([1,2,3,4,5,6,7,8,9,10,11,12,13,14,15,16,17,18,19,20])"
      ]
    },
    {
      "cell_type": "markdown",
      "source": [
        "**Actions**"
      ],
      "metadata": {
        "id": "udycaQuWomBM"
      }
    },
    {
      "cell_type": "code",
      "source": [
        "# Collect Action\n",
        "print(sample_data.collect())"
      ],
      "metadata": {
        "colab": {
          "base_uri": "https://localhost:8080/"
        },
        "id": "k8FwFQRvmAnk",
        "outputId": "ef070cfa-784f-4a1c-9bab-6a260e88a721"
      },
      "execution_count": 18,
      "outputs": [
        {
          "output_type": "stream",
          "name": "stdout",
          "text": [
            "[1, 2, 3, 4, 5, 6, 7, 8, 9, 10, 11, 12, 13, 14, 15, 16, 17, 18, 19, 20]\n"
          ]
        }
      ]
    },
    {
      "cell_type": "code",
      "source": [
        "# First Action\n",
        "print(sample_data.first())"
      ],
      "metadata": {
        "colab": {
          "base_uri": "https://localhost:8080/"
        },
        "id": "J-uJ_eP4mMmZ",
        "outputId": "bb4b6cb8-3f11-4ef1-dfc9-08bb7c67a025"
      },
      "execution_count": 19,
      "outputs": [
        {
          "output_type": "stream",
          "name": "stdout",
          "text": [
            "1\n"
          ]
        }
      ]
    },
    {
      "cell_type": "code",
      "source": [
        "# Count Action\n",
        "print(\"Count of values in the given dataframe:\",sample_data.count())"
      ],
      "metadata": {
        "colab": {
          "base_uri": "https://localhost:8080/"
        },
        "id": "D1c77WXXms44",
        "outputId": "66c4ea1c-30fc-4d2b-c285-2d4129e3325b"
      },
      "execution_count": 20,
      "outputs": [
        {
          "output_type": "stream",
          "name": "stdout",
          "text": [
            "Count of values in the given dataframe: 20\n"
          ]
        }
      ]
    },
    {
      "cell_type": "code",
      "source": [
        "# Take Action\n",
        "print(sample_data.take(10))"
      ],
      "metadata": {
        "colab": {
          "base_uri": "https://localhost:8080/"
        },
        "id": "IRTVlxJkm29V",
        "outputId": "871395df-dbb4-4462-d9e0-579adccb37a9"
      },
      "execution_count": 22,
      "outputs": [
        {
          "output_type": "stream",
          "name": "stdout",
          "text": [
            "[1, 2, 3, 4, 5, 6, 7, 8, 9, 10]\n"
          ]
        }
      ]
    },
    {
      "cell_type": "code",
      "source": [
        "# Reduce Action\n",
        "print(sample_data.reduce(lambda x, y: x + y + 1))"
      ],
      "metadata": {
        "colab": {
          "base_uri": "https://localhost:8080/"
        },
        "id": "3ViPsZyxnTbz",
        "outputId": "8edb53a4-c0a1-4c05-f801-694542b737f3"
      },
      "execution_count": 24,
      "outputs": [
        {
          "output_type": "stream",
          "name": "stdout",
          "text": [
            "229\n"
          ]
        }
      ]
    },
    {
      "cell_type": "code",
      "source": [
        "# SaveAsTextFile Action\n",
        "sample_data.saveAsTextFile(\"sample_data.txt\")"
      ],
      "metadata": {
        "id": "ckOB-mtgoCOZ"
      },
      "execution_count": 25,
      "outputs": []
    },
    {
      "cell_type": "markdown",
      "source": [
        "**Transformations**"
      ],
      "metadata": {
        "id": "7HR3WYibocXI"
      }
    },
    {
      "cell_type": "code",
      "source": [
        "# Map Transformation\n",
        "map_rdd = sc.parallelize([1, 4, 7, 8])\n",
        "map_rdd = map_rdd.map(lambda x : x + 5)\n",
        "print(map_rdd.collect())"
      ],
      "metadata": {
        "colab": {
          "base_uri": "https://localhost:8080/"
        },
        "id": "BPrD5vFbogjR",
        "outputId": "a5ec4c87-519d-4d57-b226-d4a144cec03d"
      },
      "execution_count": 30,
      "outputs": [
        {
          "output_type": "stream",
          "name": "stdout",
          "text": [
            "[6, 9, 12, 13]\n"
          ]
        }
      ]
    },
    {
      "cell_type": "code",
      "source": [
        "# Filter Transformation\n",
        "filter_rdd = sc.parallelize([1,2,3,4,5,6])\n",
        "filter_rdd = filter_rdd.filter(lambda x: x% 2 == 0)\n",
        "print(filter_rdd.collect())"
      ],
      "metadata": {
        "colab": {
          "base_uri": "https://localhost:8080/"
        },
        "id": "fzu27wpfpcmo",
        "outputId": "cbda8fcc-068d-452f-e418-b6235e9e2a4f"
      },
      "execution_count": 31,
      "outputs": [
        {
          "output_type": "stream",
          "name": "stdout",
          "text": [
            "[2, 4, 6]\n"
          ]
        }
      ]
    },
    {
      "cell_type": "code",
      "source": [
        "# Union Transformation\n",
        "union_rdd = map_rdd.union(filter_rdd).distinct()\n",
        "print(union_rdd.collect())"
      ],
      "metadata": {
        "colab": {
          "base_uri": "https://localhost:8080/"
        },
        "id": "Zo71ptJ6pwFE",
        "outputId": "90739564-9e40-44d6-b7b6-c0212894533d"
      },
      "execution_count": 36,
      "outputs": [
        {
          "output_type": "stream",
          "name": "stdout",
          "text": [
            "[12, 4, 9, 13, 6, 2]\n"
          ]
        }
      ]
    },
    {
      "cell_type": "code",
      "source": [
        "# Flat Map Transformation\n",
        "flatmap_rdd = sc.parallelize([\"Hi! I am Swathi\", \"I am currently undergoing Data Engineering training\"])\n",
        "flatmap_rdd = flatmap_rdd.flatMap(lambda x: x.split(\" \"))\n",
        "print(flatmap_rdd.collect())"
      ],
      "metadata": {
        "colab": {
          "base_uri": "https://localhost:8080/"
        },
        "id": "8rPUAAm5qKwf",
        "outputId": "8971cd8a-b96b-4587-d0c0-f7f645a8de10"
      },
      "execution_count": 34,
      "outputs": [
        {
          "output_type": "stream",
          "name": "stdout",
          "text": [
            "['Hi!', 'I', 'am', 'Swathi', 'I', 'am', 'currently', 'undergoing', 'Data', 'Engineering', 'training']\n"
          ]
        }
      ]
    },
    {
      "cell_type": "markdown",
      "source": [
        "**Joins**"
      ],
      "metadata": {
        "id": "_0uLhZVUzUvc"
      }
    },
    {
      "cell_type": "code",
      "source": [
        "# Joining of 2 dataframes\n",
        "emp = [(1,\"Smith\",-1,\"2018\",\"10\",\"M\",3000),\n",
        "       (2, \"Rose\",1 , \"2010\", \"20\",\"M\", 4000),\n",
        "       (3,\"Williams\",1,\"2010\",\"10\",\"M\",1000),\n",
        "       (4, \"Jones\",2 ,\"2005\",\"10\",\"F\",2000),\n",
        "       (5,\"Brown\",2,\"2010\",\"40\",\"\",-1),\n",
        "       (6, \"Brown\", 2, \"2010\",\"50\",\"\",-1)]\n",
        "empColumns = [\"emp_id\",\"name\",\"superior_emp_id\",\"year_joined\", \"emp_dept_id\",\"gender\",\"salary\"]\n",
        "\n",
        "dept = [(\"Finance\",10),(\"Marketing\",20),(\"Sales\",30),(\"IT\",40)]\n",
        "deptColumns = [\"dept_name\",\"dept_id\"]\n",
        "\n",
        "empDF = spark.createDataFrame(data = emp, schema = empColumns)\n",
        "deptDF = spark.createDataFrame(data = dept, schema = deptColumns)"
      ],
      "metadata": {
        "id": "lZrZklvjrdlo"
      },
      "execution_count": 73,
      "outputs": []
    },
    {
      "cell_type": "code",
      "source": [
        "# Joins - Left\n",
        "empDF.join(deptDF, empDF.emp_dept_id == deptDF.dept_id, \"left\").show()"
      ],
      "metadata": {
        "colab": {
          "base_uri": "https://localhost:8080/"
        },
        "id": "gLLf86B2wLF2",
        "outputId": "a26f880f-e4b9-4cc8-d77a-eff26400beaa"
      },
      "execution_count": 53,
      "outputs": [
        {
          "output_type": "stream",
          "name": "stdout",
          "text": [
            "+------+--------+---------------+-----------+-----------+------+------+---------+-------+\n",
            "|emp_id|    name|superior_emp_id|year_joined|emp_dept_id|gender|salary|dept_name|dept_id|\n",
            "+------+--------+---------------+-----------+-----------+------+------+---------+-------+\n",
            "|     1|   Smith|             -1|       2018|         10|     M|  3000|  Finance|     10|\n",
            "|     3|Williams|              1|       2010|         10|     M|  1000|  Finance|     10|\n",
            "|     2|    Rose|              1|       2010|         20|     M|  4000|Marketing|     20|\n",
            "|     6|   Brown|              2|       2010|         50|      |    -1|     NULL|   NULL|\n",
            "|     4|   Jones|              2|       2005|         10|     F|  2000|  Finance|     10|\n",
            "|     5|   Brown|              2|       2010|         40|      |    -1|       IT|     40|\n",
            "+------+--------+---------------+-----------+-----------+------+------+---------+-------+\n",
            "\n"
          ]
        }
      ]
    },
    {
      "cell_type": "code",
      "source": [
        "# Joins - Right\n",
        "empDF.join(deptDF, empDF.emp_dept_id == deptDF.dept_id, \"right\").show()"
      ],
      "metadata": {
        "colab": {
          "base_uri": "https://localhost:8080/"
        },
        "id": "60qem2c9wNB0",
        "outputId": "5ca7aa61-2bbb-4aef-d5bc-ed586e917b5d"
      },
      "execution_count": 55,
      "outputs": [
        {
          "output_type": "stream",
          "name": "stdout",
          "text": [
            "+------+--------+---------------+-----------+-----------+------+------+---------+-------+\n",
            "|emp_id|    name|superior_emp_id|year_joined|emp_dept_id|gender|salary|dept_name|dept_id|\n",
            "+------+--------+---------------+-----------+-----------+------+------+---------+-------+\n",
            "|     4|   Jones|              2|       2005|         10|     F|  2000|  Finance|     10|\n",
            "|     3|Williams|              1|       2010|         10|     M|  1000|  Finance|     10|\n",
            "|     1|   Smith|             -1|       2018|         10|     M|  3000|  Finance|     10|\n",
            "|     2|    Rose|              1|       2010|         20|     M|  4000|Marketing|     20|\n",
            "|  NULL|    NULL|           NULL|       NULL|       NULL|  NULL|  NULL|    Sales|     30|\n",
            "|     5|   Brown|              2|       2010|         40|      |    -1|       IT|     40|\n",
            "+------+--------+---------------+-----------+-----------+------+------+---------+-------+\n",
            "\n"
          ]
        }
      ]
    },
    {
      "cell_type": "code",
      "source": [
        "# Joins - Full Outer\n",
        "empDF.join(deptDF, empDF.emp_dept_id == deptDF.dept_id, \"fullouter\").show()"
      ],
      "metadata": {
        "colab": {
          "base_uri": "https://localhost:8080/"
        },
        "id": "XHwbcrAWwNuv",
        "outputId": "6e04f0cb-ea0a-48a6-fb1c-5d4734926c58"
      },
      "execution_count": 56,
      "outputs": [
        {
          "output_type": "stream",
          "name": "stdout",
          "text": [
            "+------+--------+---------------+-----------+-----------+------+------+---------+-------+\n",
            "|emp_id|    name|superior_emp_id|year_joined|emp_dept_id|gender|salary|dept_name|dept_id|\n",
            "+------+--------+---------------+-----------+-----------+------+------+---------+-------+\n",
            "|     1|   Smith|             -1|       2018|         10|     M|  3000|  Finance|     10|\n",
            "|     3|Williams|              1|       2010|         10|     M|  1000|  Finance|     10|\n",
            "|     4|   Jones|              2|       2005|         10|     F|  2000|  Finance|     10|\n",
            "|     2|    Rose|              1|       2010|         20|     M|  4000|Marketing|     20|\n",
            "|  NULL|    NULL|           NULL|       NULL|       NULL|  NULL|  NULL|    Sales|     30|\n",
            "|     5|   Brown|              2|       2010|         40|      |    -1|       IT|     40|\n",
            "|     6|   Brown|              2|       2010|         50|      |    -1|     NULL|   NULL|\n",
            "+------+--------+---------------+-----------+-----------+------+------+---------+-------+\n",
            "\n"
          ]
        }
      ]
    },
    {
      "cell_type": "code",
      "source": [
        "# Joins - Inner\n",
        "empDF.join(deptDF, empDF.emp_dept_id == deptDF.dept_id, \"inner\").show()"
      ],
      "metadata": {
        "colab": {
          "base_uri": "https://localhost:8080/"
        },
        "id": "_84zulWywOQo",
        "outputId": "549659ef-0e8b-4172-e251-b2d8922d4dbd"
      },
      "execution_count": 57,
      "outputs": [
        {
          "output_type": "stream",
          "name": "stdout",
          "text": [
            "+------+--------+---------------+-----------+-----------+------+------+---------+-------+\n",
            "|emp_id|    name|superior_emp_id|year_joined|emp_dept_id|gender|salary|dept_name|dept_id|\n",
            "+------+--------+---------------+-----------+-----------+------+------+---------+-------+\n",
            "|     1|   Smith|             -1|       2018|         10|     M|  3000|  Finance|     10|\n",
            "|     3|Williams|              1|       2010|         10|     M|  1000|  Finance|     10|\n",
            "|     4|   Jones|              2|       2005|         10|     F|  2000|  Finance|     10|\n",
            "|     2|    Rose|              1|       2010|         20|     M|  4000|Marketing|     20|\n",
            "|     5|   Brown|              2|       2010|         40|      |    -1|       IT|     40|\n",
            "+------+--------+---------------+-----------+-----------+------+------+---------+-------+\n",
            "\n"
          ]
        }
      ]
    },
    {
      "cell_type": "markdown",
      "source": [
        "**Aggregations**"
      ],
      "metadata": {
        "id": "hE6smlxIzO7f"
      }
    },
    {
      "cell_type": "code",
      "source": [
        "# Simple Aggregations - Count\n",
        "from pyspark.sql.functions import count\n",
        "empDF.select(count(\"emp_id\").alias(\"Count of Records\")).show()"
      ],
      "metadata": {
        "colab": {
          "base_uri": "https://localhost:8080/"
        },
        "id": "4e2nibM8tbvb",
        "outputId": "ba877fff-eeec-4149-ca22-ae1cc917b44f"
      },
      "execution_count": 48,
      "outputs": [
        {
          "output_type": "stream",
          "name": "stdout",
          "text": [
            "+----------------+\n",
            "|Count of Records|\n",
            "+----------------+\n",
            "|               6|\n",
            "+----------------+\n",
            "\n"
          ]
        }
      ]
    },
    {
      "cell_type": "code",
      "source": [
        "# Simple Aggregations - Sum\n",
        "from pyspark.sql.functions import sum\n",
        "empDF.select(sum(\"Salary\").alias(\"Total Salary Distributed\")).show()"
      ],
      "metadata": {
        "colab": {
          "base_uri": "https://localhost:8080/"
        },
        "id": "8uTX-XmAuvbx",
        "outputId": "3aa0aac6-102c-4f92-92ef-98e7f03164a3"
      },
      "execution_count": 49,
      "outputs": [
        {
          "output_type": "stream",
          "name": "stdout",
          "text": [
            "+------------------------+\n",
            "|Total Salary Distributed|\n",
            "+------------------------+\n",
            "|                    9998|\n",
            "+------------------------+\n",
            "\n"
          ]
        }
      ]
    },
    {
      "cell_type": "code",
      "source": [
        "# Simple Aggregations - Avg\n",
        "from pyspark.sql.functions import avg\n",
        "empDF.select(avg(\"Salary\").alias(\"Average Salary\")).show()"
      ],
      "metadata": {
        "colab": {
          "base_uri": "https://localhost:8080/"
        },
        "id": "WEQ9Adh1vcEd",
        "outputId": "faa874fb-5332-4d57-e577-80af866f7682"
      },
      "execution_count": 50,
      "outputs": [
        {
          "output_type": "stream",
          "name": "stdout",
          "text": [
            "+------------------+\n",
            "|    Average Salary|\n",
            "+------------------+\n",
            "|1666.3333333333333|\n",
            "+------------------+\n",
            "\n"
          ]
        }
      ]
    },
    {
      "cell_type": "code",
      "source": [
        "# Simple Aggregations - Max\n",
        "from pyspark.sql.functions import max\n",
        "empDF.select(max(\"Salary\").alias(\"Maximum Salary\")).show()"
      ],
      "metadata": {
        "colab": {
          "base_uri": "https://localhost:8080/"
        },
        "id": "lotQJGJiv_WH",
        "outputId": "f3bcd44b-0f69-42bf-c428-e0d41909b775"
      },
      "execution_count": 52,
      "outputs": [
        {
          "output_type": "stream",
          "name": "stdout",
          "text": [
            "+--------------+\n",
            "|Maximum Salary|\n",
            "+--------------+\n",
            "|          4000|\n",
            "+--------------+\n",
            "\n"
          ]
        }
      ]
    },
    {
      "cell_type": "code",
      "source": [
        "# Simple Aggregations - Min\n",
        "from pyspark.sql.functions import min\n",
        "empDF.select(min(\"Salary\").alias(\"Minimum Salary\")).show()"
      ],
      "metadata": {
        "colab": {
          "base_uri": "https://localhost:8080/"
        },
        "id": "HTt8rcB8v3VO",
        "outputId": "b9ddbc05-6538-410b-e6b0-f0b605564db9"
      },
      "execution_count": 51,
      "outputs": [
        {
          "output_type": "stream",
          "name": "stdout",
          "text": [
            "+--------------+\n",
            "|Minimum Salary|\n",
            "+--------------+\n",
            "|            -1|\n",
            "+--------------+\n",
            "\n"
          ]
        }
      ]
    },
    {
      "cell_type": "markdown",
      "source": [
        "**Group By Functions**"
      ],
      "metadata": {
        "id": "nittVMwSzGLU"
      }
    },
    {
      "cell_type": "code",
      "source": [
        "emp_dept_DF = empDF.join(deptDF, empDF.emp_dept_id == deptDF.dept_id, \"fullouter\")\n",
        "emp_dept_DF.show()"
      ],
      "metadata": {
        "colab": {
          "base_uri": "https://localhost:8080/"
        },
        "id": "sVcan5PBxjCj",
        "outputId": "d248c56f-cd86-4130-9b07-d545c12a9bbe"
      },
      "execution_count": 65,
      "outputs": [
        {
          "output_type": "stream",
          "name": "stdout",
          "text": [
            "+------+--------+---------------+-----------+-----------+------+------+---------+-------+\n",
            "|emp_id|    name|superior_emp_id|year_joined|emp_dept_id|gender|salary|dept_name|dept_id|\n",
            "+------+--------+---------------+-----------+-----------+------+------+---------+-------+\n",
            "|     1|   Smith|             -1|       2018|         10|     M|  3000|  Finance|     10|\n",
            "|     3|Williams|              1|       2010|         10|     M|  1000|  Finance|     10|\n",
            "|     4|   Jones|              2|       2005|         10|     F|  2000|  Finance|     10|\n",
            "|     2|    Rose|              1|       2010|         20|     M|  4000|Marketing|     20|\n",
            "|  NULL|    NULL|           NULL|       NULL|       NULL|  NULL|  NULL|    Sales|     30|\n",
            "|     5|   Brown|              2|       2010|         40|      |    -1|       IT|     40|\n",
            "|     6|   Brown|              2|       2010|         50|      |    -1|     NULL|   NULL|\n",
            "+------+--------+---------------+-----------+-----------+------+------+---------+-------+\n",
            "\n"
          ]
        }
      ]
    },
    {
      "cell_type": "code",
      "source": [
        "# GroupBy Functions - Sum\n",
        "from pyspark.sql.functions import col\n",
        "emp_dept_DF.filter(col(\"dept_name\").isNotNull() & col(\"salary\").isNotNull()).groupBy(\"dept_name\").agg(sum(\"salary\").alias(\"SUM(Salary)\")).show()"
      ],
      "metadata": {
        "colab": {
          "base_uri": "https://localhost:8080/"
        },
        "id": "TFsu6UyNwFlm",
        "outputId": "ea1de20f-d535-436c-d278-4cd23fdf708a"
      },
      "execution_count": 69,
      "outputs": [
        {
          "output_type": "stream",
          "name": "stdout",
          "text": [
            "+---------+-----------+\n",
            "|dept_name|SUM(Salary)|\n",
            "+---------+-----------+\n",
            "|  Finance|       6000|\n",
            "|Marketing|       4000|\n",
            "|       IT|         -1|\n",
            "+---------+-----------+\n",
            "\n"
          ]
        }
      ]
    },
    {
      "cell_type": "code",
      "source": [
        "# GroupBy Functions - Avg\n",
        "from pyspark.sql.functions import col\n",
        "emp_dept_DF.filter(col(\"dept_name\").isNotNull() & col(\"salary\").isNotNull()).groupBy(\"dept_name\").agg(avg(\"salary\").alias(\"AVG(Salary)\")).show()"
      ],
      "metadata": {
        "colab": {
          "base_uri": "https://localhost:8080/"
        },
        "id": "UAM6bHpRy2Ld",
        "outputId": "159da88c-24d7-4f64-fd46-ba6b6907f373"
      },
      "execution_count": 72,
      "outputs": [
        {
          "output_type": "stream",
          "name": "stdout",
          "text": [
            "+---------+-----------+\n",
            "|dept_name|AVG(Salary)|\n",
            "+---------+-----------+\n",
            "|  Finance|     2000.0|\n",
            "|Marketing|     4000.0|\n",
            "|       IT|       -1.0|\n",
            "+---------+-----------+\n",
            "\n"
          ]
        }
      ]
    },
    {
      "cell_type": "code",
      "source": [
        "# GroupBy Functions - Max\n",
        "from pyspark.sql.functions import col\n",
        "emp_dept_DF.filter(col(\"dept_name\").isNotNull() & col(\"salary\").isNotNull()).groupBy(\"dept_name\").agg(max(\"salary\").alias(\"MAX(Salary)\")).show()"
      ],
      "metadata": {
        "colab": {
          "base_uri": "https://localhost:8080/"
        },
        "id": "sDSIv5DmycQQ",
        "outputId": "dfb44a1b-d8c4-49b4-c825-b2d7670f74df"
      },
      "execution_count": 70,
      "outputs": [
        {
          "output_type": "stream",
          "name": "stdout",
          "text": [
            "+---------+-----------+\n",
            "|dept_name|MAX(Salary)|\n",
            "+---------+-----------+\n",
            "|  Finance|       3000|\n",
            "|Marketing|       4000|\n",
            "|       IT|         -1|\n",
            "+---------+-----------+\n",
            "\n"
          ]
        }
      ]
    },
    {
      "cell_type": "code",
      "source": [
        "# GroupBy Functions - Min\n",
        "from pyspark.sql.functions import col\n",
        "emp_dept_DF.filter(col(\"dept_name\").isNotNull() & col(\"salary\").isNotNull()).groupBy(\"dept_name\").agg(min(\"salary\").alias(\"MAX(Salary)\")).show()"
      ],
      "metadata": {
        "colab": {
          "base_uri": "https://localhost:8080/"
        },
        "id": "Rx50SMTKytfF",
        "outputId": "3eeffe2e-b449-4fb9-db52-b615e551da43"
      },
      "execution_count": 71,
      "outputs": [
        {
          "output_type": "stream",
          "name": "stdout",
          "text": [
            "+---------+-----------+\n",
            "|dept_name|MAX(Salary)|\n",
            "+---------+-----------+\n",
            "|  Finance|       1000|\n",
            "|Marketing|       4000|\n",
            "|       IT|         -1|\n",
            "+---------+-----------+\n",
            "\n"
          ]
        }
      ]
    },
    {
      "cell_type": "markdown",
      "source": [
        "**Window Functions**"
      ],
      "metadata": {
        "id": "_FOgU_jgzuDP"
      }
    },
    {
      "cell_type": "code",
      "source": [
        "data = [(\"James\", \"Potter\", \"Finance\", 90000),\n",
        "        (\"Harry\", \"Thomas\", \"Finance\", 70000),\n",
        "        (\"Henry\", \"Finch\", \"Finance\", 70000),\n",
        "        (\"Lily\", \"Evans\", \"Management\", 80000),\n",
        "        (\"Ambika\", \"Prathap\", \"Education\", 65000),\n",
        "        (\"Preethi\", \"Sivam\", \"Education\", 50000),\n",
        "        (\"Swathi\", \"Baskaran\", \"Technology\", 65000),\n",
        "        (\"Thangam\", \"Meghanathan\", \"Management\", 109000),\n",
        "        (\"Vani\", \"Megham\", \"Technology\", 80000),\n",
        "        (\"Ravi\", \"Chandran\", \"Technology\", 110000)]\n",
        "\n",
        "columns = [\"FirstName\", \"LastName\", \"Department\", \"Salary\"]\n",
        "dataDF = spark.createDataFrame(data = data, schema = columns)"
      ],
      "metadata": {
        "id": "8LhFjTJvzwEC"
      },
      "execution_count": 97,
      "outputs": []
    },
    {
      "cell_type": "code",
      "source": [
        "from pyspark.sql.window import Window\n",
        "from pyspark.sql.functions import row_number, rank, dense_rank, percent_rank, desc\n",
        "\n",
        "windowSpec = Window.partitionBy(\"Department\").orderBy((\"Salary\"), (\"Department\"))"
      ],
      "metadata": {
        "id": "Oku4lmIl0n4o"
      },
      "execution_count": 102,
      "outputs": []
    },
    {
      "cell_type": "code",
      "source": [
        "  # WindowFunctions - RowNumber\n",
        "  dataDF.withColumn(\"Row_Number\", row_number().over(windowSpec)).show()"
      ],
      "metadata": {
        "colab": {
          "base_uri": "https://localhost:8080/"
        },
        "id": "RH-xvmg91pvA",
        "outputId": "89fbc9af-87cf-4e1a-c6d9-5b1451a88c12"
      },
      "execution_count": 103,
      "outputs": [
        {
          "output_type": "stream",
          "name": "stdout",
          "text": [
            "+---------+-----------+----------+------+----------+\n",
            "|FirstName|   LastName|Department|Salary|Row_Number|\n",
            "+---------+-----------+----------+------+----------+\n",
            "|  Preethi|      Sivam| Education| 50000|         1|\n",
            "|   Ambika|    Prathap| Education| 65000|         2|\n",
            "|    Harry|     Thomas|   Finance| 70000|         1|\n",
            "|    Henry|      Finch|   Finance| 70000|         2|\n",
            "|    James|     Potter|   Finance| 90000|         3|\n",
            "|     Lily|      Evans|Management| 80000|         1|\n",
            "|  Thangam|Meghanathan|Management|109000|         2|\n",
            "|   Swathi|   Baskaran|Technology| 65000|         1|\n",
            "|     Vani|     Megham|Technology| 80000|         2|\n",
            "|     Ravi|   Chandran|Technology|110000|         3|\n",
            "+---------+-----------+----------+------+----------+\n",
            "\n"
          ]
        }
      ]
    },
    {
      "cell_type": "code",
      "source": [
        "# Window Function - Rank\n",
        "dataDF.withColumn(\"Rank\", rank().over(windowSpec)).show()"
      ],
      "metadata": {
        "colab": {
          "base_uri": "https://localhost:8080/"
        },
        "id": "-eXQPUfk2flo",
        "outputId": "f1c8b482-ff4b-4dca-a29b-10744edfa09b"
      },
      "execution_count": 107,
      "outputs": [
        {
          "output_type": "stream",
          "name": "stdout",
          "text": [
            "+---------+-----------+----------+------+----+\n",
            "|FirstName|   LastName|Department|Salary|Rank|\n",
            "+---------+-----------+----------+------+----+\n",
            "|  Preethi|      Sivam| Education| 50000|   1|\n",
            "|   Ambika|    Prathap| Education| 65000|   2|\n",
            "|    Harry|     Thomas|   Finance| 70000|   1|\n",
            "|    Henry|      Finch|   Finance| 70000|   1|\n",
            "|    James|     Potter|   Finance| 90000|   3|\n",
            "|     Lily|      Evans|Management| 80000|   1|\n",
            "|  Thangam|Meghanathan|Management|109000|   2|\n",
            "|   Swathi|   Baskaran|Technology| 65000|   1|\n",
            "|     Vani|     Megham|Technology| 80000|   2|\n",
            "|     Ravi|   Chandran|Technology|110000|   3|\n",
            "+---------+-----------+----------+------+----+\n",
            "\n"
          ]
        }
      ]
    },
    {
      "cell_type": "code",
      "source": [
        "# Window Function - Dense Rank\n",
        "dataDF.withColumn(\"Dense Rank\", dense_rank().over(windowSpec)).show()"
      ],
      "metadata": {
        "colab": {
          "base_uri": "https://localhost:8080/"
        },
        "id": "YZqy_EgO3F9i",
        "outputId": "5e020cea-90e0-4e88-8fb8-d8654c52e6b0"
      },
      "execution_count": 105,
      "outputs": [
        {
          "output_type": "stream",
          "name": "stdout",
          "text": [
            "+---------+-----------+----------+------+----------+\n",
            "|FirstName|   LastName|Department|Salary|Dense Rank|\n",
            "+---------+-----------+----------+------+----------+\n",
            "|  Preethi|      Sivam| Education| 50000|         1|\n",
            "|   Ambika|    Prathap| Education| 65000|         2|\n",
            "|    Harry|     Thomas|   Finance| 70000|         1|\n",
            "|    Henry|      Finch|   Finance| 70000|         1|\n",
            "|    James|     Potter|   Finance| 90000|         2|\n",
            "|     Lily|      Evans|Management| 80000|         1|\n",
            "|  Thangam|Meghanathan|Management|109000|         2|\n",
            "|   Swathi|   Baskaran|Technology| 65000|         1|\n",
            "|     Vani|     Megham|Technology| 80000|         2|\n",
            "|     Ravi|   Chandran|Technology|110000|         3|\n",
            "+---------+-----------+----------+------+----------+\n",
            "\n"
          ]
        }
      ]
    },
    {
      "cell_type": "code",
      "source": [
        "# Window Function - Percent Rank\n",
        "dataDF.withColumn(\"Percent Rank\", percent_rank().over(windowSpec)).show()"
      ],
      "metadata": {
        "colab": {
          "base_uri": "https://localhost:8080/"
        },
        "id": "oLCAPUdc3Vou",
        "outputId": "d5dc4b84-8085-4da7-ff0d-fb7b73e9c7db"
      },
      "execution_count": 106,
      "outputs": [
        {
          "output_type": "stream",
          "name": "stdout",
          "text": [
            "+---------+-----------+----------+------+------------+\n",
            "|FirstName|   LastName|Department|Salary|Percent Rank|\n",
            "+---------+-----------+----------+------+------------+\n",
            "|  Preethi|      Sivam| Education| 50000|         0.0|\n",
            "|   Ambika|    Prathap| Education| 65000|         1.0|\n",
            "|    Harry|     Thomas|   Finance| 70000|         0.0|\n",
            "|    Henry|      Finch|   Finance| 70000|         0.0|\n",
            "|    James|     Potter|   Finance| 90000|         1.0|\n",
            "|     Lily|      Evans|Management| 80000|         0.0|\n",
            "|  Thangam|Meghanathan|Management|109000|         1.0|\n",
            "|   Swathi|   Baskaran|Technology| 65000|         0.0|\n",
            "|     Vani|     Megham|Technology| 80000|         0.5|\n",
            "|     Ravi|   Chandran|Technology|110000|         1.0|\n",
            "+---------+-----------+----------+------+------------+\n",
            "\n"
          ]
        }
      ]
    }
  ]
}